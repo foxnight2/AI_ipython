{
 "cells": [
  {
   "cell_type": "code",
   "execution_count": 120,
   "metadata": {},
   "outputs": [
    {
     "name": "stdout",
     "output_type": "stream",
     "text": [
      "0.weight\n",
      "0.bias\n",
      "0._mean\n",
      "0._variance\n",
      "1.weight\n",
      "1.bias\n",
      "0 <paddle.nn.layer.norm.BatchNorm2D object at 0x13c919900>\n",
      "1 <paddle.nn.layer.conv.Conv2D object at 0x13d48f360>\n"
     ]
    }
   ],
   "source": [
    "import paddle\n",
    "import numpy as np \n",
    "import math\n",
    "\n",
    "paddle.set_device('cpu')\n",
    "\n",
    "mm = paddle.nn.Sequential(\n",
    "    paddle.nn.BatchNorm2D(3),\n",
    "    paddle.nn.Conv2D(3, 10, 3, 2)\n",
    ")\n",
    "\n",
    "for k in mm.state_dict().keys():\n",
    "    print(k)\n",
    "\n",
    "\n",
    "\n",
    "pg0, pg1, pg2 = [], [], []  # optimizer parameter groups\n",
    "for k, v in mm.named_sublayers():\n",
    "    print(k, v)\n",
    "    if hasattr(v, 'bias') and isinstance(v.bias, paddle.fluid.framework.Parameter):\n",
    "        pg2.append(v.bias)  # biases\n",
    "    if isinstance(v, paddle.nn.BatchNorm2D):\n",
    "        pg0.append(v.weight)  # no decay\n",
    "    elif hasattr(v, 'weight') and isinstance(v.weight, paddle.fluid.framework.Parameter):\n",
    "        pg1.append(v.weight)  # apply decay\n",
    "\n",
    "\n",
    "# optimizer0 = paddle.optimizer.Adam(learning_rate=0.1, parameters=pg0, beta1=0.937, beta2=0.999)\n",
    "# optimizer1 = paddle.optimizer.Adam(learning_rate=0.1, parameters=pg1, beta1=0.937, beta2=0.999, weight_decay=0.0005)\n",
    "# optimizer2 = paddle.optimizer.Adam(learning_rate=0.1, parameters=pg2, beta1=0.937, beta2=0.999)\n",
    "\n",
    "\n",
    "opt0 = paddle.optimizer.Momentum(learning_rate=0.01, momentum=0.937, parameters=pg0, use_nesterov=True)\n",
    "opt1 = paddle.optimizer.Momentum(learning_rate=0.01, momentum=0.937, parameters=pg1, use_nesterov=True, weight_decay=0.0005)\n",
    "opt2 = paddle.optimizer.Momentum(learning_rate=0.01, momentum=0.937, parameters=pg2, use_nesterov=True)\n",
    "optimizers = [opt0, opt1, opt2]\n",
    "\n",
    "\n",
    "\n",
    "hyp = {\n",
    "    'lr0': 0.01,\n",
    "    'lrf': 0.01,\n",
    "    'warmup_bias_lr': 0.1,\n",
    "    'warmup_momentum': 0.8,\n",
    "    'warmup_epochs': 3,\n",
    "    'momentum': 0.937,\n",
    "    'weight_decay': 0.0005,\n",
    "\n",
    "    'epochs': 300,\n",
    "    'total_batch_size': 8 * 8,\n",
    "}\n",
    "\n",
    "# nbs = 64  # nominal batch size\n",
    "# accumulate = max(round(nbs / hyp['total_batch_size']), 1)  # accumulate loss before optimizing\n",
    "# hyp['weight_decay'] *= hyp['total_batch_size' * accumulate / nbs  # scale weight_decay\n",
    "\n",
    "def one_cycle(y1=0.0, y2=1.0, steps=100):\n",
    "    return lambda x: ((1 - math.cos(x * math.pi / steps)) / 2) * (y2 - y1) + y1\n",
    "\n",
    "lf = lambda x: (1 - x / (hyp['epochs'] - 1)) * (1.0 - hyp['lrf']) + hyp['lrf']\n",
    "lf = one_cycle(1, hyp['lrf'], hyp['epochs']) \n",
    "\n",
    "scheduler = paddle.optimizer.lr.LambdaDecay(learning_rate=0.01, lr_lambda=lf)\n",
    "\n",
    "\n",
    "# num_batches = len(datalaoder)\n",
    "num_batches = 30\n",
    "max_batches = 10  # 1%\n",
    "\n",
    "nw = max(round(hyp['warmup_epochs'] * num_batches), max_batches)\n",
    "initial_lr = [hyp['lr0'], hyp['lr0'], hyp['lr0']]\n",
    "\n",
    "\n",
    "\n",
    "lrs = [[], [], []]\n",
    "moments = [[], [], []]\n",
    "\n",
    "for epoch in range(hyp['epochs']):\n",
    "    for i in range(num_batches):\n",
    "\n",
    "        ni = i + num_batches * epoch\n",
    "\n",
    "        # # Warmup\n",
    "        if ni <= nw:\n",
    "            xi = [0, nw]  # x interp\n",
    "            for j, opt in enumerate(optimizers):\n",
    "                # bias lr falls from 0.1 to lr0, all other lrs rise from 0.0 to lr0\n",
    "                _lr = np.interp(ni, xi, [hyp['warmup_bias_lr'] if j == 2 else 0.0, initial_lr[j] * lf(epoch)])\n",
    "                opt.set_lr(_lr)\n",
    "\n",
    "                if hasattr(opt, '_momentum'):\n",
    "                    opt._momentum = np.interp(ni, xi, [hyp['warmup_momentum'], hyp['momentum']])\n",
    "                    \n",
    "                lrs[j].append(opt.get_lr())\n",
    "                \n",
    "        else:\n",
    "            \n",
    "            for i, x in enumerate(lrs):\n",
    "                lrs[i].append(scheduler.get_lr())\n",
    "                \n",
    "        for i, opt in enumerate(optimizers):\n",
    "            if hasattr(opt, '_momentum'):\n",
    "                moments[i].append(getattr(opt, '_momentum'))\n",
    "            \n",
    "    for opt in optimizers:\n",
    "        opt.set_lr( scheduler.get_lr() )\n",
    "\n",
    "    scheduler.step()\n",
    "    \n"
   ]
  },
  {
   "cell_type": "code",
   "execution_count": 121,
   "metadata": {},
   "outputs": [],
   "source": [
    "import matplotlib.pyplot as plt"
   ]
  },
  {
   "cell_type": "code",
   "execution_count": 122,
   "metadata": {},
   "outputs": [
    {
     "data": {
      "image/png": "[encoded data removed]",
      "text/plain": [
       "<Figure size 432x288 with 1 Axes>"
      ]
     },
     "metadata": {
      "needs_background": "light"
     },
     "output_type": "display_data"
    },
    {
     "name": "stdout",
     "output_type": "stream",
     "text": [
      "0.00010027141164071552\n"
     ]
    }
   ],
   "source": [
    "labels = ['bn-w', 'oth-w', 'bias']\n",
    "for i in range(len(lrs)):\n",
    "    plt.plot(lrs[i], label=labels[i])\n",
    "\n",
    "plt.legend()\n",
    "plt.show()\n",
    "\n",
    "print(lrs[0][-1])"
   ]
  },
  {
   "cell_type": "code",
   "execution_count": 116,
   "metadata": {},
   "outputs": [
    {
     "data": {
      "image/png": "[encoded data removed]",
      "text/plain": [
       "<Figure size 432x288 with 1 Axes>"
      ]
     },
     "metadata": {
      "needs_background": "light"
     },
     "output_type": "display_data"
    }
   ],
   "source": [
    "labels = ['bn-w', 'oth-w', 'bias']\n",
    "for i in range(len(moments)):\n",
    "    plt.plot(moments[i], label=labels[i])\n",
    "\n",
    "plt.legend()\n",
    "plt.show()"
   ]
  },
  {
   "cell_type": "code",
   "execution_count": null,
   "metadata": {},
   "outputs": [],
   "source": []
  },
  {
   "cell_type": "code",
   "execution_count": null,
   "metadata": {},
   "outputs": [],
   "source": []
  },
  {
   "cell_type": "code",
   "execution_count": null,
   "metadata": {},
   "outputs": [],
   "source": []
  },
  {
   "cell_type": "code",
   "execution_count": 50,
   "metadata": {},
   "outputs": [
    {
     "data": {
      "text/plain": [
       "<matplotlib.collections.PathCollection at 0x13b4bd2e0>"
      ]
     },
     "execution_count": 50,
     "metadata": {},
     "output_type": "execute_result"
    },
    {
     "data": {
      "image/png": "[encoded data removed]",
      "text/plain": [
       "<Figure size 432x288 with 1 Axes>"
      ]
     },
     "metadata": {
      "needs_background": "light"
     },
     "output_type": "display_data"
    }
   ],
   "source": [
    "lf = lambda x: (1 - x / (hyp['epochs'] - 1)) * (1.0 - hyp['lrf']) + hyp['lrf']\n",
    "\n",
    "x = list(range(20))\n",
    "y = [lf(i) for i in x]\n",
    "plt.scatter(x, y)"
   ]
  },
  {
   "cell_type": "code",
   "execution_count": 52,
   "metadata": {},
   "outputs": [
    {
     "data": {
      "text/plain": [
       "<matplotlib.collections.PathCollection at 0x13b5d97c0>"
      ]
     },
     "execution_count": 52,
     "metadata": {},
     "output_type": "execute_result"
    },
    {
     "data": {
      "image/png": "[encoded data removed]",
      "text/plain": [
       "<Figure size 432x288 with 1 Axes>"
      ]
     },
     "metadata": {
      "needs_background": "light"
     },
     "output_type": "display_data"
    }
   ],
   "source": [
    "def one_cycle(y1=0.0, y2=1.0, steps=100):\n",
    "    return lambda x: ((1 - math.cos(x * math.pi / steps)) / 2) * (y2 - y1) + y1\n",
    "\n",
    "lf = one_cycle(1, hyp['lrf'], hyp['epochs']) \n",
    "\n",
    "x = list(range(20))\n",
    "y = [lf(i) for i in x]\n",
    "plt.scatter(x, y)"
   ]
  },
  {
   "cell_type": "code",
   "execution_count": null,
   "metadata": {},
   "outputs": [],
   "source": []
  }
 ],
 "metadata": {
  "kernelspec": {
   "display_name": "Python 3",
   "language": "python",
   "name": "python3"
  },
  "language_info": {
   "codemirror_mode": {
    "name": "ipython",
    "version": 3
   },
   "file_extension": ".py",
   "mimetype": "text/x-python",
   "name": "python",
   "nbconvert_exporter": "python",
   "pygments_lexer": "ipython3",
   "version": "3.8.5"
  }
 },
 "nbformat": 4,
 "nbformat_minor": 4
}
