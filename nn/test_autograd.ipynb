{
 "cells": [
  {
   "cell_type": "code",
   "execution_count": 71,
   "metadata": {},
   "outputs": [],
   "source": [
    "import autograd\n",
    "from functools import reduce\n",
    "import numpy as np\n",
    "import matplotlib.pyplot as plt\n",
    "\n",
    "import torch"
   ]
  },
  {
   "cell_type": "markdown",
   "metadata": {},
   "source": [
    "# Data"
   ]
  },
  {
   "cell_type": "code",
   "execution_count": 72,
   "metadata": {},
   "outputs": [],
   "source": [
    "_data = np.pi * (np.random.rand(10000, 1) * 2 - 1)\n",
    "_label = np.cos(_data) + 2 "
   ]
  },
  {
   "cell_type": "code",
   "execution_count": 73,
   "metadata": {},
   "outputs": [
    {
     "data": {
      "text/plain": [
       "<matplotlib.collections.PathCollection at 0x7f45bd372588>"
      ]
     },
     "execution_count": 73,
     "metadata": {},
     "output_type": "execute_result"
    },
    {
     "data": {
      "image/png": "[encoded data removed]",
      "text/plain": [
       "<Figure size 432x288 with 1 Axes>"
      ]
     },
     "metadata": {
      "needs_background": "light"
     },
     "output_type": "display_data"
    }
   ],
   "source": [
    "plt.scatter(_data, _label)"
   ]
  },
  {
   "cell_type": "markdown",
   "metadata": {},
   "source": [
    "# Pytorch"
   ]
  },
  {
   "cell_type": "code",
   "execution_count": 4,
   "metadata": {},
   "outputs": [
    {
     "name": "stdout",
     "output_type": "stream",
     "text": [
      "Parameter containing:\n",
      "tensor([-0.6601,  0.7855,  0.8815,  0.4951, -0.3316, -0.4159, -0.7662, -0.1359,\n",
      "         0.6986, -0.3518,  0.8794,  0.7751, -0.8245,  0.1699, -0.2930, -0.7770,\n",
      "        -0.5835, -0.6979,  0.3193, -0.6000, -0.4720,  0.7614,  0.0831, -0.0213,\n",
      "        -0.0181, -0.8735,  0.2097, -0.8209,  0.1558, -0.3593,  0.8689, -0.4430],\n",
      "       requires_grad=True)\n"
     ]
    }
   ],
   "source": [
    "m = torch.nn.Linear(1, 32)\n",
    "print(list(m.parameters())[1])"
   ]
  },
  {
   "cell_type": "code",
   "execution_count": 5,
   "metadata": {},
   "outputs": [
    {
     "name": "stdout",
     "output_type": "stream",
     "text": [
      "0 64.39247131347656\n",
      "100 1.6521646976470947\n",
      "200 0.4239879846572876\n",
      "300 0.5658515095710754\n",
      "400 0.39488378167152405\n"
     ]
    },
    {
     "data": {
      "text/plain": [
       "<matplotlib.collections.PathCollection at 0x7f053017a748>"
      ]
     },
     "execution_count": 5,
     "metadata": {},
     "output_type": "execute_result"
    },
    {
     "data": {
      "image/png": "[encoded data removed]",
      "text/plain": [
       "<Figure size 432x288 with 1 Axes>"
      ]
     },
     "metadata": {
      "needs_background": "light"
     },
     "output_type": "display_data"
    }
   ],
   "source": [
    "mm = torch.nn.Sequential(torch.nn.Linear(1, 32), \n",
    "                         torch.nn.Tanh(), \n",
    "                         torch.nn.Linear(32, 32),\n",
    "                         torch.nn.Tanh(),\n",
    "                         torch.nn.Linear(32, 1))\n",
    "\n",
    "def train(mm):\n",
    "    \n",
    "    data = torch.tensor(_data, dtype=torch.float32)\n",
    "    label = torch.tensor(_label, dtype=torch.float32)\n",
    "    \n",
    "    for i in range(500):\n",
    "        \n",
    "        out = mm(data)\n",
    "        loss = ((out-label)**2).mean()\n",
    "        \n",
    "        mm.zero_grad()\n",
    "        loss.backward()\n",
    "        for p in mm.parameters():\n",
    "            p.data.sub_(0.01 * p.grad.data)\n",
    "\n",
    "        if i % 100 == 0:\n",
    "            print(i, loss.item())\n",
    "\n",
    "train(mm)\n",
    "\n",
    "\n",
    "plt.scatter(_data, mm(torch.tensor(_data, dtype=torch.float32)).data.numpy())"
   ]
  },
  {
   "cell_type": "code",
   "execution_count": null,
   "metadata": {},
   "outputs": [],
   "source": []
  },
  {
   "cell_type": "markdown",
   "metadata": {},
   "source": [
    "# Tensor"
   ]
  },
  {
   "cell_type": "code",
   "execution_count": 6,
   "metadata": {},
   "outputs": [],
   "source": [
    "class Model(autograd.Module):\n",
    "    def __init__(self, ):\n",
    "        super().__init__()\n",
    "        self.l1 = autograd.Linear(1, 32)\n",
    "        self.l2 = autograd.Linear(32, 32)\n",
    "        self.l3 = autograd.Linear(32, 1)\n",
    "    \n",
    "        self.w1 = autograd.Parameter(1, 32)\n",
    "        self.b1 = autograd.Parameter(32)\n",
    "        self.w2 = autograd.Parameter(32, 32)\n",
    "        self.b2 = autograd.Parameter(32)\n",
    "        self.w3 = autograd.Parameter(32, 1)\n",
    "        self.b3 = autograd.Parameter(1)\n",
    "        \n",
    "    def forward(self, data):\n",
    "        out = autograd.tanh(self.l1(data))\n",
    "        out = autograd.tanh(self.l2(out))\n",
    "        out = self.l3(out)\n",
    "        # out = autograd.relu(data @ self.w1 + self.b1)\n",
    "        # out = autograd.relu(out @ self.w2 + self.b2)\n",
    "        # out = out @ self.w3 + self.b3\n",
    "        \n",
    "        return out"
   ]
  },
  {
   "cell_type": "code",
   "execution_count": 7,
   "metadata": {},
   "outputs": [
    {
     "name": "stdout",
     "output_type": "stream",
     "text": [
      "Model.b1 (32,) 139660258123392 Tensor(0.47001769928049586, requires_grad=True)\n"
     ]
    }
   ],
   "source": [
    "model = Model()\n",
    "for n, p in model.named_parameters():\n",
    "    print(n, p.shape, id(p), p.sum())\n",
    "    break"
   ]
  },
  {
   "cell_type": "code",
   "execution_count": 8,
   "metadata": {},
   "outputs": [
    {
     "name": "stdout",
     "output_type": "stream",
     "text": [
      "0 67.6645732768983\n",
      "100 1.1073874655772682\n",
      "200 0.4555357230740925\n",
      "300 0.6723689165697094\n",
      "400 0.4895021742257024\n"
     ]
    },
    {
     "data": {
      "text/plain": [
       "<matplotlib.collections.PathCollection at 0x7f05300f3898>"
      ]
     },
     "execution_count": 8,
     "metadata": {},
     "output_type": "execute_result"
    },
    {
     "data": {
      "image/png": "[encoded data removed]",
      "text/plain": [
       "<Figure size 432x288 with 1 Axes>"
      ]
     },
     "metadata": {
      "needs_background": "light"
     },
     "output_type": "display_data"
    }
   ],
   "source": [
    "model = Model()\n",
    "\n",
    "def train(model):\n",
    "    \n",
    "    data = autograd.Tensor(_data)\n",
    "    label = autograd.Tensor(_label)\n",
    "\n",
    "    lr = 0.01\n",
    "    \n",
    "    for i in range(500):\n",
    "        \n",
    "        model.zero_grad()\n",
    "        \n",
    "        out = model(data)\n",
    "        loss = ((out - label) ** 2).mean()\n",
    "        loss.backward()\n",
    "        \n",
    "        for p in model.parameters():\n",
    "            p.sub_(p.grad * lr)\n",
    "            \n",
    "        if i % 100 == 0:\n",
    "            print(i, loss.data)\n",
    "\n",
    "train(model)\n",
    "\n",
    "plt.scatter(_data, model(autograd.Tensor(_data)).data)"
   ]
  },
  {
   "cell_type": "markdown",
   "metadata": {},
   "source": [
    "# Variable"
   ]
  },
  {
   "cell_type": "code",
   "execution_count": 74,
   "metadata": {},
   "outputs": [
    {
     "name": "stdout",
     "output_type": "stream",
     "text": [
      "0 4.675942785405197\n",
      "100 0.06346355200366345\n",
      "200 0.007211631264069839\n",
      "300 0.0019630230084454786\n",
      "400 0.0014356041573590807\n"
     ]
    },
    {
     "data": {
      "text/plain": [
       "<matplotlib.collections.PathCollection at 0x7f45bd2c3550>"
      ]
     },
     "execution_count": 74,
     "metadata": {},
     "output_type": "execute_result"
    },
    {
     "data": {
      "image/png": "[encoded data removed]",
      "text/plain": [
       "<Figure size 432x288 with 1 Axes>"
      ]
     },
     "metadata": {
      "needs_background": "light"
     },
     "output_type": "display_data"
    }
   ],
   "source": [
    "from autograd import variable\n",
    "\n",
    "class Model(variable.Module):\n",
    "    def __init__(self, ):\n",
    "        super().__init__()\n",
    "        self.l1 = variable.Linear(1, 32)\n",
    "        self.l2 = variable.Linear(32, 32)\n",
    "        self.l3 = variable.Linear(32, 1)\n",
    "        \n",
    "    def forward(self, data):\n",
    "        out = variable.Tanh()(self.l1(data))\n",
    "        out = variable.Tanh()(self.l2(out))\n",
    "        out = self.l3(out)\n",
    "        \n",
    "        return out\n",
    "\n",
    "\n",
    "def train(model):\n",
    "    \n",
    "    data = variable.Variable(_data)\n",
    "    label = variable.Variable(_label)\n",
    "\n",
    "    lr = 0.01\n",
    "    \n",
    "    for i in range(500):\n",
    "        \n",
    "        model.zero_grad()\n",
    "        \n",
    "        out = model(data)\n",
    "        loss = ((out - label) ** 2).mean()\n",
    "        loss.backward()\n",
    "        \n",
    "        for p in model.parameters():\n",
    "            p.data -= p.grad * lr\n",
    "            \n",
    "        if i % 100 == 0:\n",
    "            print(i, loss.data)\n",
    "\n",
    "            \n",
    "model = Model()\n",
    "train(model)\n",
    "\n",
    "plt.scatter(_data, model(variable.Variable(_data)).data)"
   ]
  },
  {
   "cell_type": "markdown",
   "metadata": {},
   "source": [
    "# Linear"
   ]
  },
  {
   "cell_type": "code",
   "execution_count": 9,
   "metadata": {},
   "outputs": [
    {
     "name": "stdout",
     "output_type": "stream",
     "text": [
      "1.5.0+cpu\n"
     ]
    }
   ],
   "source": [
    "import torch\n",
    "print(torch.__version__)"
   ]
  },
  {
   "cell_type": "code",
   "execution_count": 16,
   "metadata": {},
   "outputs": [],
   "source": [
    "a = np.random.rand(3, 10)\n",
    "b = np.random.rand(10, 4)\n",
    "c = np.random.rand(4)"
   ]
  },
  {
   "cell_type": "code",
   "execution_count": 18,
   "metadata": {},
   "outputs": [
    {
     "name": "stdout",
     "output_type": "stream",
     "text": [
      "tensor([[0.2120, 0.1006, 0.2438, 0.0930, 0.2412, 0.1319, 0.1833, 0.1887, 0.2144,\n",
      "         0.1574],\n",
      "        [0.2120, 0.1006, 0.2438, 0.0930, 0.2412, 0.1319, 0.1833, 0.1887, 0.2144,\n",
      "         0.1574],\n",
      "        [0.2120, 0.1006, 0.2438, 0.0930, 0.2412, 0.1319, 0.1833, 0.1887, 0.2144,\n",
      "         0.1574]], dtype=torch.float64)\n",
      "tensor([[0.1149, 0.1149, 0.1149, 0.1149],\n",
      "        [0.1313, 0.1313, 0.1313, 0.1313],\n",
      "        [0.1865, 0.1865, 0.1865, 0.1865],\n",
      "        [0.1239, 0.1239, 0.1239, 0.1239],\n",
      "        [0.1452, 0.1452, 0.1452, 0.1452],\n",
      "        [0.0889, 0.0889, 0.0889, 0.0889],\n",
      "        [0.0995, 0.0995, 0.0995, 0.0995],\n",
      "        [0.2377, 0.2377, 0.2377, 0.2377],\n",
      "        [0.1046, 0.1046, 0.1046, 0.1046],\n",
      "        [0.1467, 0.1467, 0.1467, 0.1467]], dtype=torch.float64)\n",
      "tensor([0.2500, 0.2500, 0.2500, 0.2500], dtype=torch.float64)\n"
     ]
    }
   ],
   "source": [
    "x = torch.tensor(a, requires_grad=True)\n",
    "m = torch.tensor(b, requires_grad=True)\n",
    "k = torch.tensor(c, requires_grad=True)\n",
    "y = x @ m + k\n",
    "y = y.mean()\n",
    "y.backward()\n",
    "\n",
    "print(x.grad)\n",
    "print(m.grad)\n",
    "print(k.grad)"
   ]
  },
  {
   "cell_type": "code",
   "execution_count": 19,
   "metadata": {},
   "outputs": [
    {
     "name": "stdout",
     "output_type": "stream",
     "text": [
      "Tensor([[0.21200565 0.10064502 0.24384576 0.09304668 0.24124357 0.13193396\n",
      "  0.1833288  0.18867418 0.21441004 0.15744546]\n",
      " [0.21200565 0.10064502 0.24384576 0.09304668 0.24124357 0.13193396\n",
      "  0.1833288  0.18867418 0.21441004 0.15744546]\n",
      " [0.21200565 0.10064502 0.24384576 0.09304668 0.24124357 0.13193396\n",
      "  0.1833288  0.18867418 0.21441004 0.15744546]], requires_grad=False)\n",
      "Tensor([[0.11487319 0.11487319 0.11487319 0.11487319]\n",
      " [0.13132735 0.13132735 0.13132735 0.13132735]\n",
      " [0.18647966 0.18647966 0.18647966 0.18647966]\n",
      " [0.12394914 0.12394914 0.12394914 0.12394914]\n",
      " [0.14519449 0.14519449 0.14519449 0.14519449]\n",
      " [0.08886295 0.08886295 0.08886295 0.08886295]\n",
      " [0.09947583 0.09947583 0.09947583 0.09947583]\n",
      " [0.23766717 0.23766717 0.23766717 0.23766717]\n",
      " [0.10458872 0.10458872 0.10458872 0.10458872]\n",
      " [0.14666803 0.14666803 0.14666803 0.14666803]], requires_grad=False)\n",
      "Tensor([0.25 0.25 0.25 0.25], requires_grad=False)\n"
     ]
    }
   ],
   "source": [
    "x = autograd.Tensor(a, requires_grad=True)\n",
    "m = autograd.Tensor(b, requires_grad=True)\n",
    "k = autograd.Tensor(c, requires_grad=True)\n",
    "y = x @ m + k\n",
    "y = y.mean()\n",
    "y.backward()\n",
    "\n",
    "print(x.grad)\n",
    "print(m.grad)\n",
    "print(k.grad)"
   ]
  },
  {
   "cell_type": "code",
   "execution_count": 13,
   "metadata": {},
   "outputs": [
    {
     "name": "stdout",
     "output_type": "stream",
     "text": [
      "tensor([[0.0293, 0.0284, 0.0295, 0.0292, 0.0182, 0.0145, 0.0180, 0.0316, 0.0217,\n",
      "         0.0227],\n",
      "        [0.0155, 0.0321, 0.0180, 0.0223, 0.0273, 0.0215, 0.0247, 0.0147, 0.0228,\n",
      "         0.0146],\n",
      "        [0.0188, 0.0250, 0.0252, 0.0194, 0.0182, 0.0277, 0.0227, 0.0323, 0.0332,\n",
      "         0.0309]], dtype=torch.float64)\n"
     ]
    }
   ],
   "source": [
    "x = torch.tensor(a, requires_grad=True)\n",
    "\n",
    "y = torch.tanh(x)\n",
    "y.mean().backward()\n",
    "\n",
    "print(x.grad)"
   ]
  },
  {
   "cell_type": "code",
   "execution_count": 14,
   "metadata": {},
   "outputs": [
    {
     "name": "stdout",
     "output_type": "stream",
     "text": [
      "Tensor([[0.02932208 0.02837617 0.02954617 0.02915454 0.01818414 0.01449179\n",
      "  0.01803519 0.03163825 0.02167592 0.02269661]\n",
      " [0.01551822 0.03210233 0.01795252 0.02228669 0.0273407  0.02149842\n",
      "  0.02474053 0.01469801 0.02284488 0.01463336]\n",
      " [0.01881288 0.02495799 0.02519299 0.01938398 0.01822057 0.02769743\n",
      "  0.0227085  0.03229486 0.03319141 0.03086085]], requires_grad=False)\n"
     ]
    }
   ],
   "source": [
    "x = autograd.Tensor(a, requires_grad=True)\n",
    "\n",
    "y = autograd.tanh(x)\n",
    "y.mean().backward()\n",
    "\n",
    "print(x.grad)"
   ]
  },
  {
   "cell_type": "code",
   "execution_count": null,
   "metadata": {},
   "outputs": [],
   "source": []
  },
  {
   "cell_type": "markdown",
   "metadata": {},
   "source": [
    "# Conv"
   ]
  },
  {
   "cell_type": "code",
   "execution_count": 66,
   "metadata": {},
   "outputs": [],
   "source": [
    "data = np.random.rand(10, 3, 5, 5).astype(np.float32)\n",
    "# print(data)"
   ]
  },
  {
   "cell_type": "code",
   "execution_count": 67,
   "metadata": {},
   "outputs": [
    {
     "name": "stdout",
     "output_type": "stream",
     "text": [
      "torch.Size([10, 10, 3, 3])\n",
      "tensor(0.0452, grad_fn=<MeanBackward0>)\n",
      "tensor(8.1458)\n",
      "tensor(1.0000)\n"
     ]
    }
   ],
   "source": [
    "tensor = torch.tensor(data, requires_grad=True)\n",
    "conv = torch.nn.Conv2d(3, 10, kernel_size=3, stride=2, padding=1, padding_mode='zeros')\n",
    "\n",
    "out = conv(tensor)\n",
    "print(out.shape)\n",
    "print(out.mean())\n",
    "\n",
    "out.mean().backward()\n",
    "# print(out)\n",
    "\n",
    "print(conv.weight.grad.sum())\n",
    "print(conv.bias.grad.sum())"
   ]
  },
  {
   "cell_type": "code",
   "execution_count": 68,
   "metadata": {},
   "outputs": [
    {
     "name": "stdout",
     "output_type": "stream",
     "text": [
      "(10, 10, 3, 3)\n",
      "0.045224942452773885\n",
      "8.145843023903176\n",
      "0.9999999999999978\n"
     ]
    }
   ],
   "source": [
    "from autograd import variable\n",
    "\n",
    "conv2 = variable.Conv2d(3, 10, kernel_size=3, stride=2, padding=1)\n",
    "conv2.weight.data = conv.weight.data.numpy()\n",
    "conv2.bias.data = conv.bias.data.numpy()\n",
    "\n",
    "var = variable.Variable( data, requires_grad=True ) \n",
    "out2 = conv2(var)\n",
    "\n",
    "print(out2.shape)\n",
    "print(out2.mean().data)\n",
    "\n",
    "out2.mean().backward()\n",
    "# print(out2.data)\n",
    "\n",
    "print(conv2.weight.grad.sum())\n",
    "print(conv2.bias.grad.sum())"
   ]
  },
  {
   "cell_type": "code",
   "execution_count": 65,
   "metadata": {},
   "outputs": [],
   "source": [
    "np.testing.assert_almost_equal(conv.weight.grad.data.numpy(), conv2.weight.grad, decimal=2)\n",
    "np.testing.assert_almost_equal(conv.bias.grad.data.numpy(), conv2.bias.grad, decimal=2)"
   ]
  },
  {
   "cell_type": "code",
   "execution_count": 69,
   "metadata": {},
   "outputs": [],
   "source": [
    "np.testing.assert_almost_equal(tensor.grad.data.numpy(), var.grad, decimal=2)"
   ]
  },
  {
   "cell_type": "markdown",
   "metadata": {},
   "source": [
    "# Pool"
   ]
  },
  {
   "cell_type": "markdown",
   "metadata": {},
   "source": [
    "## MaxPool"
   ]
  },
  {
   "cell_type": "code",
   "execution_count": 51,
   "metadata": {},
   "outputs": [],
   "source": [
    "data = np.random.rand(10, 3, 5, 5).astype(np.float32)\n",
    "# print(data)"
   ]
  },
  {
   "cell_type": "code",
   "execution_count": 52,
   "metadata": {},
   "outputs": [
    {
     "name": "stdout",
     "output_type": "stream",
     "text": [
      "maxpool,  tensor(224.7276, grad_fn=<SumBackward0>)\n",
      "tensor(1.)\n"
     ]
    }
   ],
   "source": [
    "maxpool = torch.nn.MaxPool2d(kernel_size=3, stride=2, padding=1)\n",
    "tensor = torch.tensor(data, requires_grad=True)\n",
    "out = maxpool(tensor)\n",
    "print('maxpool, ', out.sum())\n",
    "\n",
    "out.mean().backward()\n",
    "print(tensor.grad.sum())"
   ]
  },
  {
   "cell_type": "code",
   "execution_count": 53,
   "metadata": {},
   "outputs": [
    {
     "name": "stdout",
     "output_type": "stream",
     "text": [
      "224.72755163908005\n",
      "0.99999994\n"
     ]
    }
   ],
   "source": [
    "from autograd import variable\n",
    "\n",
    "var = variable.Variable(data, requires_grad=True)\n",
    "pool2 = variable.Pool2d(kernel_size=3, stride=2, padding=1)\n",
    "out = pool2(var)\n",
    "\n",
    "print(out.sum().data)\n",
    "\n",
    "out.mean().backward()\n",
    "print(var.grad.sum())"
   ]
  },
  {
   "cell_type": "code",
   "execution_count": 54,
   "metadata": {},
   "outputs": [],
   "source": [
    "np.testing.assert_almost_equal(tensor.grad.data.numpy(), var.grad, decimal=2)"
   ]
  },
  {
   "cell_type": "markdown",
   "metadata": {},
   "source": [
    "## AvgPool"
   ]
  },
  {
   "cell_type": "code",
   "execution_count": 58,
   "metadata": {},
   "outputs": [
    {
     "name": "stdout",
     "output_type": "stream",
     "text": [
      "avgpool,  tensor(82.5031, grad_fn=<SumBackward0>)\n",
      "tensor(0.6049)\n"
     ]
    }
   ],
   "source": [
    "tensor = torch.tensor(data, requires_grad=True)\n",
    "\n",
    "avgpool = torch.nn.AvgPool2d(kernel_size=3, stride=2, padding=1)\n",
    "out = avgpool(tensor)\n",
    "print('avgpool, ', out.sum())\n",
    "\n",
    "out.mean().backward()\n",
    "print(tensor.grad.sum())"
   ]
  },
  {
   "cell_type": "code",
   "execution_count": 59,
   "metadata": {},
   "outputs": [
    {
     "name": "stdout",
     "output_type": "stream",
     "text": [
      "82.50308165425668\n",
      "0.60493827\n"
     ]
    }
   ],
   "source": [
    "from autograd import variable\n",
    "\n",
    "var = variable.Variable(data, requires_grad=True)\n",
    "pool2 = variable.Pool2d(kernel_size=3, stride=2, padding=1, mode='avg')\n",
    "\n",
    "out = pool2(var)\n",
    "\n",
    "print(out.sum().data)\n",
    "\n",
    "out.mean().backward()\n",
    "print(var.grad.sum())"
   ]
  },
  {
   "cell_type": "code",
   "execution_count": 60,
   "metadata": {},
   "outputs": [],
   "source": [
    "np.testing.assert_almost_equal(tensor.grad.data.numpy(), var.grad, decimal=2)"
   ]
  },
  {
   "cell_type": "code",
   "execution_count": null,
   "metadata": {},
   "outputs": [],
   "source": []
  }
 ],
 "metadata": {
  "kernelspec": {
   "display_name": "Python 3",
   "language": "python",
   "name": "python3"
  },
  "language_info": {
   "codemirror_mode": {
    "name": "ipython",
    "version": 3
   },
   "file_extension": ".py",
   "mimetype": "text/x-python",
   "name": "python",
   "nbconvert_exporter": "python",
   "pygments_lexer": "ipython3",
   "version": "3.7.0"
  }
 },
 "nbformat": 4,
 "nbformat_minor": 2
}
