{
 "cells": [
  {
   "cell_type": "code",
   "execution_count": 1,
   "metadata": {},
   "outputs": [],
   "source": [
    "import autograd\n",
    "from functools import reduce\n",
    "import numpy as np\n",
    "import matplotlib.pyplot as plt\n",
    "\n",
    "import torch"
   ]
  },
  {
   "cell_type": "markdown",
   "metadata": {},
   "source": [
    "# Data"
   ]
  },
  {
   "cell_type": "code",
   "execution_count": 2,
   "metadata": {},
   "outputs": [],
   "source": [
    "_data = np.pi * (np.random.rand(10000, 1) * 2 - 1)\n",
    "_label = np.cos(_data) + 2 "
   ]
  },
  {
   "cell_type": "code",
   "execution_count": 3,
   "metadata": {},
   "outputs": [
    {
     "data": {
      "text/plain": [
       "<matplotlib.collections.PathCollection at 0x7fb728fbe9e8>"
      ]
     },
     "execution_count": 3,
     "metadata": {},
     "output_type": "execute_result"
    },
    {
     "data": {
      "image/png": "[encoded data removed]",
      "text/plain": [
       "<Figure size 432x288 with 1 Axes>"
      ]
     },
     "metadata": {
      "needs_background": "light"
     },
     "output_type": "display_data"
    }
   ],
   "source": [
    "plt.scatter(_data, _label)"
   ]
  },
  {
   "cell_type": "markdown",
   "metadata": {},
   "source": [
    "# Pytorch"
   ]
  },
  {
   "cell_type": "code",
   "execution_count": 4,
   "metadata": {},
   "outputs": [
    {
     "name": "stdout",
     "output_type": "stream",
     "text": [
      "Parameter containing:\n",
      "tensor([ 0.9597,  0.5155,  0.7434, -0.8263, -0.6370, -0.9747,  0.0690,  0.2401,\n",
      "         0.8444,  0.8264,  0.8300, -0.0027,  0.7465, -0.3420, -0.9850, -0.0757,\n",
      "        -0.3406, -0.8088,  0.8230,  0.7766, -0.8913, -0.7748,  0.9604,  0.1349,\n",
      "        -0.6898, -0.5009, -0.1875,  0.2522,  0.2692,  0.3493, -0.9025, -0.4512],\n",
      "       requires_grad=True)\n"
     ]
    }
   ],
   "source": [
    "m = torch.nn.Linear(1, 32)\n",
    "print(list(m.parameters())[1])"
   ]
  },
  {
   "cell_type": "code",
   "execution_count": 5,
   "metadata": {},
   "outputs": [
    {
     "name": "stdout",
     "output_type": "stream",
     "text": [
      "0 5.429818630218506\n",
      "100 0.05498639494180679\n",
      "200 0.006998400669544935\n",
      "300 0.0016915980959311128\n",
      "400 0.0009676376357674599\n"
     ]
    },
    {
     "data": {
      "text/plain": [
       "<matplotlib.collections.PathCollection at 0x7fb728f7cb70>"
      ]
     },
     "execution_count": 5,
     "metadata": {},
     "output_type": "execute_result"
    },
    {
     "data": {
      "image/png": "[encoded data removed]",
      "text/plain": [
       "<Figure size 432x288 with 1 Axes>"
      ]
     },
     "metadata": {
      "needs_background": "light"
     },
     "output_type": "display_data"
    }
   ],
   "source": [
    "mm = torch.nn.Sequential(torch.nn.Linear(1, 32), \n",
    "                         torch.nn.Tanh(), \n",
    "                         torch.nn.Linear(32, 32),\n",
    "                         torch.nn.Tanh(),\n",
    "                         torch.nn.Linear(32, 1))\n",
    "\n",
    "def train(mm):\n",
    "    \n",
    "    data = torch.tensor(_data, dtype=torch.float32)\n",
    "    label = torch.tensor(_label, dtype=torch.float32)\n",
    "    \n",
    "    for i in range(500):\n",
    "        \n",
    "        out = mm(data)\n",
    "        loss = ((out-label)**2).mean()\n",
    "        \n",
    "        mm.zero_grad()\n",
    "        loss.backward()\n",
    "        for p in mm.parameters():\n",
    "            p.data.sub_(0.01 * p.grad.data)\n",
    "\n",
    "        if i % 100 == 0:\n",
    "            print(i, loss.item())\n",
    "\n",
    "train(mm)\n",
    "\n",
    "\n",
    "plt.scatter(_data, mm(torch.tensor(_data, dtype=torch.float32)).data.numpy())"
   ]
  },
  {
   "cell_type": "code",
   "execution_count": null,
   "metadata": {},
   "outputs": [],
   "source": []
  },
  {
   "cell_type": "markdown",
   "metadata": {},
   "source": [
    "# Tensor"
   ]
  },
  {
   "cell_type": "code",
   "execution_count": 6,
   "metadata": {},
   "outputs": [],
   "source": [
    "class Model(autograd.Module):\n",
    "    def __init__(self, ):\n",
    "        super().__init__()\n",
    "        self.l1 = autograd.Linear(1, 32)\n",
    "        self.l2 = autograd.Linear(32, 32)\n",
    "        self.l3 = autograd.Linear(32, 1)\n",
    "    \n",
    "        self.w1 = autograd.Parameter(1, 32)\n",
    "        self.b1 = autograd.Parameter(32)\n",
    "        self.w2 = autograd.Parameter(32, 32)\n",
    "        self.b2 = autograd.Parameter(32)\n",
    "        self.w3 = autograd.Parameter(32, 1)\n",
    "        self.b3 = autograd.Parameter(1)\n",
    "        \n",
    "    def forward(self, data):\n",
    "        out = autograd.tanh(self.l1(data))\n",
    "        out = autograd.tanh(self.l2(out))\n",
    "        out = self.l3(out)\n",
    "        # out = autograd.relu(data @ self.w1 + self.b1)\n",
    "        # out = autograd.relu(out @ self.w2 + self.b2)\n",
    "        # out = out @ self.w3 + self.b3\n",
    "        \n",
    "        return out"
   ]
  },
  {
   "cell_type": "code",
   "execution_count": 7,
   "metadata": {},
   "outputs": [
    {
     "name": "stdout",
     "output_type": "stream",
     "text": [
      "Model.b1 (32,) 140424629539840 Tensor(1.044195154078638, requires_grad=True)\n"
     ]
    }
   ],
   "source": [
    "model = Model()\n",
    "for n, p in model.named_parameters():\n",
    "    print(n, p.shape, id(p), p.sum())\n",
    "    break"
   ]
  },
  {
   "cell_type": "code",
   "execution_count": 8,
   "metadata": {},
   "outputs": [
    {
     "name": "stdout",
     "output_type": "stream",
     "text": [
      "0 3.6379323223085653\n",
      "100 0.00867574935793387\n",
      "200 0.0028610376841026303\n",
      "300 0.002076719856386954\n",
      "400 0.0018108022416019668\n"
     ]
    },
    {
     "data": {
      "text/plain": [
       "<matplotlib.collections.PathCollection at 0x7fb7282f9cc0>"
      ]
     },
     "execution_count": 8,
     "metadata": {},
     "output_type": "execute_result"
    },
    {
     "data": {
      "image/png": "[encoded data removed]",
      "text/plain": [
       "<Figure size 432x288 with 1 Axes>"
      ]
     },
     "metadata": {
      "needs_background": "light"
     },
     "output_type": "display_data"
    }
   ],
   "source": [
    "model = Model()\n",
    "\n",
    "def train(model):\n",
    "    \n",
    "    data = autograd.Tensor(_data)\n",
    "    label = autograd.Tensor(_label)\n",
    "\n",
    "    lr = 0.01\n",
    "    \n",
    "    for i in range(500):\n",
    "        \n",
    "        model.zero_grad()\n",
    "        \n",
    "        out = model(data)\n",
    "        loss = ((out - label) ** 2).mean()\n",
    "        loss.backward()\n",
    "        \n",
    "        for p in model.parameters():\n",
    "            p.sub_(p.grad * lr)\n",
    "            \n",
    "        if i % 100 == 0:\n",
    "            print(i, loss.data)\n",
    "\n",
    "train(model)\n",
    "\n",
    "plt.scatter(_data, model(autograd.Tensor(_data)).data)"
   ]
  },
  {
   "cell_type": "markdown",
   "metadata": {},
   "source": [
    "# Variable"
   ]
  },
  {
   "cell_type": "code",
   "execution_count": 9,
   "metadata": {},
   "outputs": [
    {
     "name": "stdout",
     "output_type": "stream",
     "text": [
      "0 4.67392365771463\n",
      "100 0.023335623417750816\n",
      "200 0.007384159650484909\n",
      "300 0.004892505168816985\n",
      "400 0.004043567826384181\n"
     ]
    },
    {
     "data": {
      "text/plain": [
       "<matplotlib.collections.PathCollection at 0x7fb7282f9da0>"
      ]
     },
     "execution_count": 9,
     "metadata": {},
     "output_type": "execute_result"
    },
    {
     "data": {
      "image/png": "[encoded data removed]",
      "text/plain": [
       "<Figure size 432x288 with 1 Axes>"
      ]
     },
     "metadata": {
      "needs_background": "light"
     },
     "output_type": "display_data"
    }
   ],
   "source": [
    "from autograd import variable\n",
    "\n",
    "class Model(variable.Module):\n",
    "    def __init__(self, ):\n",
    "        super().__init__()\n",
    "        self.l1 = variable.Linear(1, 32)\n",
    "        self.l2 = variable.Linear(32, 32)\n",
    "        self.l3 = variable.Linear(32, 1)\n",
    "        \n",
    "    def forward(self, data):\n",
    "        out = variable.Tanh()(self.l1(data))\n",
    "        out = variable.Tanh()(self.l2(out))\n",
    "        out = self.l3(out)\n",
    "        \n",
    "        return out\n",
    "\n",
    "\n",
    "def train(model):\n",
    "    \n",
    "    data = variable.Variable(_data)\n",
    "    label = variable.Variable(_label)\n",
    "\n",
    "    lr = 0.01\n",
    "    \n",
    "    for i in range(500):\n",
    "        \n",
    "        model.zero_grad()\n",
    "        \n",
    "        out = model(data)\n",
    "        loss = ((out - label) ** 2).mean()\n",
    "        loss.backward()\n",
    "        \n",
    "        for p in model.parameters():\n",
    "            p.data -= p.grad * lr\n",
    "            \n",
    "        if i % 100 == 0:\n",
    "            print(i, loss.data)\n",
    "\n",
    "            \n",
    "model = Model()\n",
    "train(model)\n",
    "\n",
    "plt.scatter(_data, model(variable.Variable(_data)).data)"
   ]
  },
  {
   "cell_type": "markdown",
   "metadata": {},
   "source": [
    "# Linear"
   ]
  },
  {
   "cell_type": "code",
   "execution_count": 10,
   "metadata": {},
   "outputs": [
    {
     "name": "stdout",
     "output_type": "stream",
     "text": [
      "1.7.1+cpu\n"
     ]
    }
   ],
   "source": [
    "import torch\n",
    "print(torch.__version__)"
   ]
  },
  {
   "cell_type": "code",
   "execution_count": 11,
   "metadata": {},
   "outputs": [],
   "source": [
    "a = np.random.rand(3, 10)\n",
    "b = np.random.rand(10, 4)\n",
    "c = np.random.rand(4)"
   ]
  },
  {
   "cell_type": "code",
   "execution_count": 12,
   "metadata": {},
   "outputs": [
    {
     "name": "stdout",
     "output_type": "stream",
     "text": [
      "tensor([[0.1382, 0.0792, 0.2112, 0.1647, 0.1564, 0.1886, 0.1453, 0.1169, 0.1560,\n",
      "         0.1043],\n",
      "        [0.1382, 0.0792, 0.2112, 0.1647, 0.1564, 0.1886, 0.1453, 0.1169, 0.1560,\n",
      "         0.1043],\n",
      "        [0.1382, 0.0792, 0.2112, 0.1647, 0.1564, 0.1886, 0.1453, 0.1169, 0.1560,\n",
      "         0.1043]], dtype=torch.float64)\n",
      "tensor([[0.0333, 0.0333, 0.0333, 0.0333],\n",
      "        [0.1747, 0.1747, 0.1747, 0.1747],\n",
      "        [0.1369, 0.1369, 0.1369, 0.1369],\n",
      "        [0.1128, 0.1128, 0.1128, 0.1128],\n",
      "        [0.1444, 0.1444, 0.1444, 0.1444],\n",
      "        [0.0168, 0.0168, 0.0168, 0.0168],\n",
      "        [0.0994, 0.0994, 0.0994, 0.0994],\n",
      "        [0.1420, 0.1420, 0.1420, 0.1420],\n",
      "        [0.1250, 0.1250, 0.1250, 0.1250],\n",
      "        [0.0998, 0.0998, 0.0998, 0.0998]], dtype=torch.float64)\n",
      "tensor([0.2500, 0.2500, 0.2500, 0.2500], dtype=torch.float64)\n"
     ]
    }
   ],
   "source": [
    "x = torch.tensor(a, requires_grad=True)\n",
    "m = torch.tensor(b, requires_grad=True)\n",
    "k = torch.tensor(c, requires_grad=True)\n",
    "y = x @ m + k\n",
    "y = y.mean()\n",
    "y.backward()\n",
    "\n",
    "print(x.grad)\n",
    "print(m.grad)\n",
    "print(k.grad)"
   ]
  },
  {
   "cell_type": "code",
   "execution_count": 13,
   "metadata": {},
   "outputs": [
    {
     "name": "stdout",
     "output_type": "stream",
     "text": [
      "Tensor([[0.13818461 0.07920095 0.21117229 0.16473638 0.15644586 0.18855303\n",
      "  0.14527528 0.11687758 0.15599843 0.10431363]\n",
      " [0.13818461 0.07920095 0.21117229 0.16473638 0.15644586 0.18855303\n",
      "  0.14527528 0.11687758 0.15599843 0.10431363]\n",
      " [0.13818461 0.07920095 0.21117229 0.16473638 0.15644586 0.18855303\n",
      "  0.14527528 0.11687758 0.15599843 0.10431363]], requires_grad=False)\n",
      "Tensor([[0.03333414 0.03333414 0.03333414 0.03333414]\n",
      " [0.17465337 0.17465337 0.17465337 0.17465337]\n",
      " [0.13691941 0.13691941 0.13691941 0.13691941]\n",
      " [0.11279815 0.11279815 0.11279815 0.11279815]\n",
      " [0.14444965 0.14444965 0.14444965 0.14444965]\n",
      " [0.01682851 0.01682851 0.01682851 0.01682851]\n",
      " [0.0994069  0.0994069  0.0994069  0.0994069 ]\n",
      " [0.14195311 0.14195311 0.14195311 0.14195311]\n",
      " [0.1250042  0.1250042  0.1250042  0.1250042 ]\n",
      " [0.09980081 0.09980081 0.09980081 0.09980081]], requires_grad=False)\n",
      "Tensor([0.25 0.25 0.25 0.25], requires_grad=False)\n"
     ]
    }
   ],
   "source": [
    "x = autograd.Tensor(a, requires_grad=True)\n",
    "m = autograd.Tensor(b, requires_grad=True)\n",
    "k = autograd.Tensor(c, requires_grad=True)\n",
    "y = x @ m + k\n",
    "y = y.mean()\n",
    "y.backward()\n",
    "\n",
    "print(x.grad)\n",
    "print(m.grad)\n",
    "print(k.grad)"
   ]
  },
  {
   "cell_type": "code",
   "execution_count": 14,
   "metadata": {},
   "outputs": [
    {
     "name": "stdout",
     "output_type": "stream",
     "text": [
      "tensor([[0.0323, 0.0157, 0.0202, 0.0327, 0.0321, 0.0333, 0.0258, 0.0234, 0.0319,\n",
      "         0.0143],\n",
      "        [0.0329, 0.0316, 0.0278, 0.0162, 0.0189, 0.0324, 0.0330, 0.0165, 0.0178,\n",
      "         0.0326],\n",
      "        [0.0329, 0.0153, 0.0269, 0.0303, 0.0200, 0.0333, 0.0243, 0.0320, 0.0273,\n",
      "         0.0332]], dtype=torch.float64)\n"
     ]
    }
   ],
   "source": [
    "x = torch.tensor(a, requires_grad=True)\n",
    "\n",
    "y = torch.tanh(x)\n",
    "y.mean().backward()\n",
    "\n",
    "print(x.grad)"
   ]
  },
  {
   "cell_type": "code",
   "execution_count": 15,
   "metadata": {},
   "outputs": [
    {
     "name": "stdout",
     "output_type": "stream",
     "text": [
      "Tensor([[0.0322976  0.01565063 0.02020412 0.03269194 0.03205446 0.03331738\n",
      "  0.02582642 0.02337349 0.03186428 0.01434074]\n",
      " [0.03291687 0.03160246 0.02778925 0.01620015 0.01890252 0.03243408\n",
      "  0.03299562 0.01650919 0.01782803 0.03259716]\n",
      " [0.03293589 0.015344   0.02687146 0.03027607 0.01999406 0.03332651\n",
      "  0.02432995 0.03201171 0.02730601 0.03319807]], requires_grad=False)\n"
     ]
    }
   ],
   "source": [
    "x = autograd.Tensor(a, requires_grad=True)\n",
    "\n",
    "y = autograd.tanh(x)\n",
    "y.mean().backward()\n",
    "\n",
    "print(x.grad)"
   ]
  },
  {
   "cell_type": "code",
   "execution_count": null,
   "metadata": {},
   "outputs": [],
   "source": []
  },
  {
   "cell_type": "markdown",
   "metadata": {},
   "source": [
    "# Conv"
   ]
  },
  {
   "cell_type": "code",
   "execution_count": 16,
   "metadata": {},
   "outputs": [],
   "source": [
    "data = np.random.rand(10, 3, 5, 5).astype(np.float32)\n",
    "# print(data)"
   ]
  },
  {
   "cell_type": "code",
   "execution_count": 17,
   "metadata": {},
   "outputs": [
    {
     "name": "stdout",
     "output_type": "stream",
     "text": [
      "torch.Size([10, 10, 3, 3])\n",
      "tensor(-0.0811, grad_fn=<MeanBackward0>)\n",
      "tensor(8.1243)\n",
      "tensor(1.0000)\n"
     ]
    }
   ],
   "source": [
    "tensor = torch.tensor(data, requires_grad=True)\n",
    "conv = torch.nn.Conv2d(3, 10, kernel_size=3, stride=2, padding=1, padding_mode='zeros')\n",
    "\n",
    "out = conv(tensor)\n",
    "print(out.shape)\n",
    "print(out.mean())\n",
    "\n",
    "out.mean().backward()\n",
    "# print(out)\n",
    "\n",
    "print(conv.weight.grad.sum())\n",
    "print(conv.bias.grad.sum())"
   ]
  },
  {
   "cell_type": "code",
   "execution_count": 18,
   "metadata": {},
   "outputs": [
    {
     "name": "stdout",
     "output_type": "stream",
     "text": [
      "(10, 10, 3, 3)\n",
      "-0.08108129704887436\n",
      "8.124268380432234\n",
      "0.9999999999999999\n"
     ]
    }
   ],
   "source": [
    "from autograd import variable\n",
    "\n",
    "conv2 = variable.Conv2d(3, 10, kernel_size=3, stride=2, padding=1)\n",
    "conv2.weight.data = conv.weight.data.numpy()\n",
    "conv2.bias.data = conv.bias.data.numpy()\n",
    "\n",
    "var = variable.Variable( data, requires_grad=True ) \n",
    "out2 = conv2(var)\n",
    "\n",
    "print(out2.shape)\n",
    "print(out2.mean().data)\n",
    "\n",
    "out2.mean().backward()\n",
    "# print(out2.data)\n",
    "\n",
    "print(conv2.weight.grad.sum())\n",
    "print(conv2.bias.grad.sum())"
   ]
  },
  {
   "cell_type": "code",
   "execution_count": 19,
   "metadata": {},
   "outputs": [],
   "source": [
    "np.testing.assert_almost_equal(conv.weight.grad.data.numpy(), conv2.weight.grad, decimal=2)\n",
    "np.testing.assert_almost_equal(conv.bias.grad.data.numpy(), conv2.bias.grad, decimal=2)"
   ]
  },
  {
   "cell_type": "code",
   "execution_count": 20,
   "metadata": {},
   "outputs": [],
   "source": [
    "np.testing.assert_almost_equal(tensor.grad.data.numpy(), var.grad, decimal=2)"
   ]
  },
  {
   "cell_type": "markdown",
   "metadata": {},
   "source": [
    "# Pool"
   ]
  },
  {
   "cell_type": "markdown",
   "metadata": {},
   "source": [
    "## MaxPool"
   ]
  },
  {
   "cell_type": "code",
   "execution_count": 21,
   "metadata": {},
   "outputs": [],
   "source": [
    "data = np.random.rand(10, 3, 5, 5).astype(np.float32)\n",
    "# print(data)"
   ]
  },
  {
   "cell_type": "code",
   "execution_count": 22,
   "metadata": {},
   "outputs": [
    {
     "name": "stdout",
     "output_type": "stream",
     "text": [
      "maxpool,  tensor(229.4844, grad_fn=<SumBackward0>)\n",
      "tensor(1.)\n"
     ]
    }
   ],
   "source": [
    "maxpool = torch.nn.MaxPool2d(kernel_size=3, stride=2, padding=1)\n",
    "tensor = torch.tensor(data, requires_grad=True)\n",
    "out = maxpool(tensor)\n",
    "print('maxpool, ', out.sum())\n",
    "\n",
    "out.mean().backward()\n",
    "print(tensor.grad.sum())"
   ]
  },
  {
   "cell_type": "code",
   "execution_count": 23,
   "metadata": {},
   "outputs": [
    {
     "name": "stdout",
     "output_type": "stream",
     "text": [
      "229.48436081409454\n",
      "1.0\n"
     ]
    }
   ],
   "source": [
    "from autograd import variable\n",
    "\n",
    "var = variable.Variable(data, requires_grad=True)\n",
    "pool2 = variable.Pool2d(kernel_size=3, stride=2, padding=1)\n",
    "out = pool2(var)\n",
    "\n",
    "print(out.sum().data)\n",
    "\n",
    "out.mean().backward()\n",
    "print(var.grad.sum())"
   ]
  },
  {
   "cell_type": "code",
   "execution_count": 24,
   "metadata": {},
   "outputs": [],
   "source": [
    "np.testing.assert_almost_equal(tensor.grad.data.numpy(), var.grad, decimal=2)"
   ]
  },
  {
   "cell_type": "markdown",
   "metadata": {},
   "source": [
    "## AvgPool"
   ]
  },
  {
   "cell_type": "code",
   "execution_count": 25,
   "metadata": {},
   "outputs": [
    {
     "name": "stdout",
     "output_type": "stream",
     "text": [
      "avgpool,  tensor(84.7041, grad_fn=<SumBackward0>)\n",
      "tensor(0.6049)\n"
     ]
    }
   ],
   "source": [
    "tensor = torch.tensor(data, requires_grad=True)\n",
    "\n",
    "avgpool = torch.nn.AvgPool2d(kernel_size=3, stride=2, padding=1)\n",
    "out = avgpool(tensor)\n",
    "print('avgpool, ', out.sum())\n",
    "\n",
    "out.mean().backward()\n",
    "print(tensor.grad.sum())"
   ]
  },
  {
   "cell_type": "code",
   "execution_count": 26,
   "metadata": {},
   "outputs": [
    {
     "name": "stdout",
     "output_type": "stream",
     "text": [
      "84.70408635544462\n",
      "0.60493827\n"
     ]
    }
   ],
   "source": [
    "from autograd import variable\n",
    "\n",
    "var = variable.Variable(data, requires_grad=True)\n",
    "pool2 = variable.Pool2d(kernel_size=3, stride=2, padding=1, mode='avg')\n",
    "\n",
    "out = pool2(var)\n",
    "\n",
    "print(out.sum().data)\n",
    "\n",
    "out.mean().backward()\n",
    "print(var.grad.sum())"
   ]
  },
  {
   "cell_type": "code",
   "execution_count": 27,
   "metadata": {},
   "outputs": [],
   "source": [
    "np.testing.assert_almost_equal(tensor.grad.data.numpy(), var.grad, decimal=2)"
   ]
  },
  {
   "cell_type": "code",
   "execution_count": null,
   "metadata": {},
   "outputs": [],
   "source": []
  },
  {
   "cell_type": "markdown",
   "metadata": {},
   "source": [
    "# BN"
   ]
  },
  {
   "cell_type": "code",
   "execution_count": 1,
   "metadata": {},
   "outputs": [],
   "source": [
    "from autograd import variable\n",
    "import torch\n",
    "import numpy as np"
   ]
  },
  {
   "cell_type": "code",
   "execution_count": 2,
   "metadata": {},
   "outputs": [],
   "source": [
    "bn_var = variable.BatchNorm2d(8, eps=1e-5, momentum=0.1, affine=True, track_running_stats=True, training=True)\n",
    "bn = torch.nn.BatchNorm2d(8, eps=1e-5, momentum=0.1, affine=True, track_running_stats=True)"
   ]
  },
  {
   "cell_type": "code",
   "execution_count": 3,
   "metadata": {},
   "outputs": [
    {
     "name": "stdout",
     "output_type": "stream",
     "text": [
      "[1. 1. 1. 1. 1. 1. 1. 1.]\n",
      "[0. 0. 0. 0. 0. 0. 0. 0.]\n",
      " ----------- \n",
      "[1. 1. 1. 1. 1. 1. 1. 1.]\n",
      "[0. 0. 0. 0. 0. 0. 0. 0.]\n"
     ]
    }
   ],
   "source": [
    "print(bn.weight.data.numpy())\n",
    "print(bn.bias.data.numpy())\n",
    "print(' ----------- ')\n",
    "print(bn_var.weight.data)\n",
    "print(bn_var.bias.data)"
   ]
  },
  {
   "cell_type": "code",
   "execution_count": 4,
   "metadata": {},
   "outputs": [
    {
     "name": "stdout",
     "output_type": "stream",
     "text": [
      "-------------------------\n"
     ]
    }
   ],
   "source": [
    "from autograd import variable\n",
    "import torch\n",
    "import numpy as np\n",
    "\n",
    "data = np.random.rand(3, 8, 10, 10).astype(np.float32)\n",
    "bn = torch.nn.BatchNorm2d(8, eps=1e-5, momentum=0.1, affine=True, track_running_stats=True)\n",
    "bn_var = variable.BatchNorm2d(8, eps=1e-5, momentum=0.1, affine=True, track_running_stats=True, training=True)\n",
    "\n",
    "t = torch.tensor(data, requires_grad=True)\n",
    "out_t = bn(t)\n",
    "out_t.mean().backward()\n",
    "\n",
    "print('-------------------------')\n",
    "\n",
    "v = variable.Variable(data, requires_grad=True)\n",
    "out_v = bn_var(v)\n",
    "out_v.mean().backward()\n",
    "\n",
    "np.testing.assert_almost_equal(out_t.data.numpy(), out_v.data, decimal=4)\n",
    "np.testing.assert_almost_equal(bn.running_mean.data.numpy(), bn_var.running_mean, decimal=4)\n",
    "np.testing.assert_almost_equal(bn.running_var.data.numpy(), bn_var.running_var, decimal=4)\n",
    "np.testing.assert_almost_equal(bn.weight.data.numpy(), bn_var.weight.data, decimal=4)\n",
    "np.testing.assert_almost_equal(bn.bias.data.numpy(), bn_var.bias.data, decimal=4)\n",
    "np.testing.assert_almost_equal(t.grad.data.numpy(), v.grad, decimal=4)"
   ]
  },
  {
   "cell_type": "code",
   "execution_count": 5,
   "metadata": {},
   "outputs": [
    {
     "name": "stdout",
     "output_type": "stream",
     "text": [
      "tensor(4.9063e-10)\n",
      "tensor(0.1250)\n"
     ]
    }
   ],
   "source": [
    "print(bn.weight.grad.mean())\n",
    "print(bn.bias.grad.mean())"
   ]
  },
  {
   "cell_type": "code",
   "execution_count": 6,
   "metadata": {},
   "outputs": [
    {
     "name": "stdout",
     "output_type": "stream",
     "text": [
      "3.9561462014187565e-09\n",
      "0.12499999999999999\n"
     ]
    }
   ],
   "source": [
    "print(bn_var.weight.grad.mean())\n",
    "print(bn_var.bias.grad.mean())"
   ]
  },
  {
   "cell_type": "code",
   "execution_count": 7,
   "metadata": {},
   "outputs": [],
   "source": [
    "t = torch.tensor(data, requires_grad=True)\n",
    "x = t**2 / t * 4\n",
    "x.mean(dim=(0, 2, 3)).sum().backward()\n",
    "\n",
    "\n",
    "v = variable.Variable(data, requires_grad=True)\n",
    "y = v**2 / v * 4\n",
    "y.mean(axis=(0, 2, 3)).sum().backward()\n",
    "\n",
    "np.testing.assert_almost_equal(t.grad.data.numpy(), v.grad, decimal=3)"
   ]
  },
  {
   "cell_type": "code",
   "execution_count": 8,
   "metadata": {},
   "outputs": [
    {
     "data": {
      "text/plain": [
       "tensor([0.0788, 0.0860, 0.0773, 0.0831, 0.0885, 0.0852, 0.0869, 0.0818],\n",
       "       grad_fn=<VarBackward1>)"
      ]
     },
     "execution_count": 8,
     "metadata": {},
     "output_type": "execute_result"
    }
   ],
   "source": [
    "t.var(dim=(0,2,3))"
   ]
  },
  {
   "cell_type": "code",
   "execution_count": 9,
   "metadata": {},
   "outputs": [
    {
     "data": {
      "text/plain": [
       "array([0.07856907, 0.0857521 , 0.07700616, 0.08283585, 0.0881689 ,\n",
       "       0.08492072, 0.08660536, 0.08151963], dtype=float32)"
      ]
     },
     "execution_count": 9,
     "metadata": {},
     "output_type": "execute_result"
    }
   ],
   "source": [
    "((v - v.mean(axis=(0, 2, 3), keepdims=True))**2).mean(axis=(0, 2, 3)).data"
   ]
  },
  {
   "cell_type": "code",
   "execution_count": 10,
   "metadata": {},
   "outputs": [
    {
     "data": {
      "text/plain": [
       "array([0.07856907, 0.0857521 , 0.07700616, 0.08283585, 0.0881689 ,\n",
       "       0.08492072, 0.08660536, 0.08151963], dtype=float32)"
      ]
     },
     "execution_count": 10,
     "metadata": {},
     "output_type": "execute_result"
    }
   ],
   "source": [
    "data.var(axis=(0, 2, 3))"
   ]
  },
  {
   "cell_type": "code",
   "execution_count": 11,
   "metadata": {},
   "outputs": [
    {
     "data": {
      "text/plain": [
       "32.0"
      ]
     },
     "execution_count": 11,
     "metadata": {},
     "output_type": "execute_result"
    }
   ],
   "source": [
    "t.grad.data.numpy().sum()"
   ]
  },
  {
   "cell_type": "code",
   "execution_count": 12,
   "metadata": {},
   "outputs": [
    {
     "data": {
      "text/plain": [
       "32.000004"
      ]
     },
     "execution_count": 12,
     "metadata": {},
     "output_type": "execute_result"
    }
   ],
   "source": [
    "v.grad.sum()"
   ]
  },
  {
   "cell_type": "code",
   "execution_count": null,
   "metadata": {},
   "outputs": [],
   "source": []
  }
 ],
 "metadata": {
  "kernelspec": {
   "display_name": "Python 3",
   "language": "python",
   "name": "python3"
  },
  "language_info": {
   "codemirror_mode": {
    "name": "ipython",
    "version": 3
   },
   "file_extension": ".py",
   "mimetype": "text/x-python",
   "name": "python",
   "nbconvert_exporter": "python",
   "pygments_lexer": "ipython3",
   "version": "3.7.0"
  }
 },
 "nbformat": 4,
 "nbformat_minor": 2
}
