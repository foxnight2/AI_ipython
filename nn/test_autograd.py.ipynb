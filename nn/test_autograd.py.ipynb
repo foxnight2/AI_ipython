{
 "cells": [
  {
   "cell_type": "code",
   "execution_count": 1,
   "metadata": {},
   "outputs": [],
   "source": [
    "import autograd\n",
    "from functools import reduce\n",
    "import numpy as np\n",
    "import matplotlib.pyplot as plt\n",
    "\n",
    "import torch"
   ]
  },
  {
   "cell_type": "code",
   "execution_count": 2,
   "metadata": {},
   "outputs": [],
   "source": [
    "_data = np.pi * (np.random.rand(30000, 1) * 2 - 1)\n",
    "_label = np.cos(_data)"
   ]
  },
  {
   "cell_type": "code",
   "execution_count": 3,
   "metadata": {},
   "outputs": [
    {
     "data": {
      "text/plain": [
       "<matplotlib.collections.PathCollection at 0x7ffb6d90acc0>"
      ]
     },
     "execution_count": 3,
     "metadata": {},
     "output_type": "execute_result"
    },
    {
     "data": {
      "image/png": "[encoded data removed]",
      "text/plain": [
       "<Figure size 432x288 with 1 Axes>"
      ]
     },
     "metadata": {
      "needs_background": "light"
     },
     "output_type": "display_data"
    }
   ],
   "source": [
    "plt.scatter(_data, _label)"
   ]
  },
  {
   "cell_type": "code",
   "execution_count": null,
   "metadata": {},
   "outputs": [],
   "source": []
  },
  {
   "cell_type": "code",
   "execution_count": 4,
   "metadata": {},
   "outputs": [
    {
     "name": "stdout",
     "output_type": "stream",
     "text": [
      "0 0.588743269443512\n",
      "10 0.4991806447505951\n",
      "20 0.45974260568618774\n",
      "30 0.4274645149707794\n",
      "40 0.39718037843704224\n",
      "50 0.3679649233818054\n",
      "60 0.33950960636138916\n",
      "70 0.31168287992477417\n",
      "80 0.284458190202713\n",
      "90 0.2578916549682617\n"
     ]
    },
    {
     "data": {
      "text/plain": [
       "<matplotlib.collections.PathCollection at 0x7ffb6d848780>"
      ]
     },
     "execution_count": 4,
     "metadata": {},
     "output_type": "execute_result"
    },
    {
     "data": {
      "image/png": "[encoded data removed]",
      "text/plain": [
       "<Figure size 432x288 with 1 Axes>"
      ]
     },
     "metadata": {
      "needs_background": "light"
     },
     "output_type": "display_data"
    }
   ],
   "source": [
    "mm = torch.nn.Sequential(torch.nn.Linear(1, 32), \n",
    "                         torch.nn.Tanh(), \n",
    "                         torch.nn.Linear(32, 32),\n",
    "                         torch.nn.Tanh(),\n",
    "                         torch.nn.Linear(32, 1))\n",
    "\n",
    "def train(mm):\n",
    "    \n",
    "    data = torch.tensor(_data, dtype=torch.float32)\n",
    "    label = torch.tensor(_label, dtype=torch.float32)\n",
    "    \n",
    "    for i in range(100):\n",
    "        \n",
    "        out = mm(data)\n",
    "        loss = ((out-label)**2).mean()\n",
    "        \n",
    "        mm.zero_grad()\n",
    "        loss.backward()\n",
    "        for p in mm.parameters():\n",
    "            p.data.sub_(0.01 * p.grad.data)\n",
    "\n",
    "        if i % 10 == 0:\n",
    "            print(i, loss.item())\n",
    "\n",
    "train(mm)\n",
    "\n",
    "\n",
    "plt.scatter(_data, mm(torch.tensor(_data, dtype=torch.float32)).data.numpy())"
   ]
  },
  {
   "cell_type": "code",
   "execution_count": null,
   "metadata": {},
   "outputs": [],
   "source": []
  },
  {
   "cell_type": "code",
   "execution_count": 5,
   "metadata": {},
   "outputs": [],
   "source": [
    "class Model(autograd.Module):\n",
    "    def __init__(self, ):\n",
    "        super().__init__()\n",
    "        self.l1 = autograd.Linear(1, 32)\n",
    "        self.l2 = autograd.Linear(32, 32)\n",
    "        self.l3 = autograd.Linear(32, 1)\n",
    "    \n",
    "#         self.w1 = autograd.Parameter(1, 32)\n",
    "#         self.b1 = autograd.Parameter(32)\n",
    "#         self.w2 = autograd.Parameter(32, 32)\n",
    "#         self.b2 = autograd.Parameter(32)\n",
    "#         self.w3 = autograd.Parameter(32, 1)\n",
    "#         self.b3 = autograd.Parameter(1)\n",
    "        \n",
    "    def forward(self, data):\n",
    "        out = autograd.tanh(self.l1(data))\n",
    "        out = autograd.tanh(self.l2(out))\n",
    "        out = self.l3(out)\n",
    "#         out = autograd.relu(data @ self.w1 + self.b1)\n",
    "#         out = autograd.relu(out @ self.w2 + self.b2)\n",
    "#         out = out @ self.w3 + self.b3\n",
    "        \n",
    "        return out"
   ]
  },
  {
   "cell_type": "code",
   "execution_count": 6,
   "metadata": {},
   "outputs": [
    {
     "name": "stdout",
     "output_type": "stream",
     "text": [
      "Linear.b (32,) 140717850613744 Tensor(0.0, requires_grad=True)\n",
      "Linear.w (1, 32) 140717850613072 Tensor(6.2706146240234375, requires_grad=True)\n",
      "Linear.b (32,) 140717850612624 Tensor(0.0, requires_grad=True)\n",
      "Linear.w (32, 32) 140717850614808 Tensor(6.190486431121826, requires_grad=True)\n",
      "Linear.b (1,) 140717851799904 Tensor(0.0, requires_grad=True)\n",
      "Linear.w (32, 1) 140717850921560 Tensor(1.1095614433288574, requires_grad=True)\n"
     ]
    }
   ],
   "source": [
    "model = Model()\n",
    "for n, p in model.named_parameters():\n",
    "    print(n, p.shape, id(p), p.sum())"
   ]
  },
  {
   "cell_type": "code",
   "execution_count": 7,
   "metadata": {},
   "outputs": [
    {
     "name": "stdout",
     "output_type": "stream",
     "text": [
      "0 0.5548735\n",
      "100 0.034980018\n",
      "200 0.009625503\n"
     ]
    },
    {
     "data": {
      "text/plain": [
       "<matplotlib.collections.PathCollection at 0x7ffb6d3eada0>"
      ]
     },
     "execution_count": 7,
     "metadata": {},
     "output_type": "execute_result"
    },
    {
     "data": {
      "image/png": "[encoded data removed]",
      "text/plain": [
       "<Figure size 432x288 with 1 Axes>"
      ]
     },
     "metadata": {
      "needs_background": "light"
     },
     "output_type": "display_data"
    }
   ],
   "source": [
    "model = Model()\n",
    "\n",
    "def train(model):\n",
    "    \n",
    "    data = autograd.Tensor(_data)\n",
    "    label = autograd.Tensor(_label)\n",
    "\n",
    "    lr = 0.01\n",
    "    \n",
    "    for i in range(300):\n",
    "        \n",
    "        model.zero_grad()\n",
    "        \n",
    "        out = model(data)\n",
    "        loss = ((out - label) ** 2).mean()\n",
    "        loss.backward()\n",
    "        # print((out - label).mean().shape)\n",
    "        # out.backward((out - label).mean())\n",
    "        \n",
    "        for p in model.parameters():\n",
    "            p.sub_(p.grad * lr)\n",
    "            \n",
    "        if i % 100 == 0:\n",
    "            print(i, loss.data)\n",
    "\n",
    "train(model)\n",
    "\n",
    "plt.scatter(_data, model(autograd.Tensor(_data)).data)"
   ]
  },
  {
   "cell_type": "code",
   "execution_count": null,
   "metadata": {},
   "outputs": [],
   "source": []
  },
  {
   "cell_type": "code",
   "execution_count": 9,
   "metadata": {},
   "outputs": [
    {
     "name": "stdout",
     "output_type": "stream",
     "text": [
      "1.5.0+cpu\n"
     ]
    }
   ],
   "source": [
    "import torch\n",
    "print(torch.__version__)"
   ]
  },
  {
   "cell_type": "code",
   "execution_count": 16,
   "metadata": {},
   "outputs": [],
   "source": [
    "a = np.random.rand(3, 10)\n",
    "b = np.random.rand(10, 4)\n",
    "c = np.random.rand(4)"
   ]
  },
  {
   "cell_type": "code",
   "execution_count": 18,
   "metadata": {},
   "outputs": [
    {
     "name": "stdout",
     "output_type": "stream",
     "text": [
      "tensor([[0.2120, 0.1006, 0.2438, 0.0930, 0.2412, 0.1319, 0.1833, 0.1887, 0.2144,\n",
      "         0.1574],\n",
      "        [0.2120, 0.1006, 0.2438, 0.0930, 0.2412, 0.1319, 0.1833, 0.1887, 0.2144,\n",
      "         0.1574],\n",
      "        [0.2120, 0.1006, 0.2438, 0.0930, 0.2412, 0.1319, 0.1833, 0.1887, 0.2144,\n",
      "         0.1574]], dtype=torch.float64)\n",
      "tensor([[0.1149, 0.1149, 0.1149, 0.1149],\n",
      "        [0.1313, 0.1313, 0.1313, 0.1313],\n",
      "        [0.1865, 0.1865, 0.1865, 0.1865],\n",
      "        [0.1239, 0.1239, 0.1239, 0.1239],\n",
      "        [0.1452, 0.1452, 0.1452, 0.1452],\n",
      "        [0.0889, 0.0889, 0.0889, 0.0889],\n",
      "        [0.0995, 0.0995, 0.0995, 0.0995],\n",
      "        [0.2377, 0.2377, 0.2377, 0.2377],\n",
      "        [0.1046, 0.1046, 0.1046, 0.1046],\n",
      "        [0.1467, 0.1467, 0.1467, 0.1467]], dtype=torch.float64)\n",
      "tensor([0.2500, 0.2500, 0.2500, 0.2500], dtype=torch.float64)\n"
     ]
    }
   ],
   "source": [
    "x = torch.tensor(a, requires_grad=True)\n",
    "m = torch.tensor(b, requires_grad=True)\n",
    "k = torch.tensor(c, requires_grad=True)\n",
    "y = x @ m + k\n",
    "y = y.mean()\n",
    "y.backward()\n",
    "\n",
    "print(x.grad)\n",
    "print(m.grad)\n",
    "print(k.grad)"
   ]
  },
  {
   "cell_type": "code",
   "execution_count": 19,
   "metadata": {},
   "outputs": [
    {
     "name": "stdout",
     "output_type": "stream",
     "text": [
      "Tensor([[0.21200565 0.10064502 0.24384576 0.09304668 0.24124357 0.13193396\n",
      "  0.1833288  0.18867418 0.21441004 0.15744546]\n",
      " [0.21200565 0.10064502 0.24384576 0.09304668 0.24124357 0.13193396\n",
      "  0.1833288  0.18867418 0.21441004 0.15744546]\n",
      " [0.21200565 0.10064502 0.24384576 0.09304668 0.24124357 0.13193396\n",
      "  0.1833288  0.18867418 0.21441004 0.15744546]], requires_grad=False)\n",
      "Tensor([[0.11487319 0.11487319 0.11487319 0.11487319]\n",
      " [0.13132735 0.13132735 0.13132735 0.13132735]\n",
      " [0.18647966 0.18647966 0.18647966 0.18647966]\n",
      " [0.12394914 0.12394914 0.12394914 0.12394914]\n",
      " [0.14519449 0.14519449 0.14519449 0.14519449]\n",
      " [0.08886295 0.08886295 0.08886295 0.08886295]\n",
      " [0.09947583 0.09947583 0.09947583 0.09947583]\n",
      " [0.23766717 0.23766717 0.23766717 0.23766717]\n",
      " [0.10458872 0.10458872 0.10458872 0.10458872]\n",
      " [0.14666803 0.14666803 0.14666803 0.14666803]], requires_grad=False)\n",
      "Tensor([0.25 0.25 0.25 0.25], requires_grad=False)\n"
     ]
    }
   ],
   "source": [
    "x = autograd.Tensor(a, requires_grad=True)\n",
    "m = autograd.Tensor(b, requires_grad=True)\n",
    "k = autograd.Tensor(c, requires_grad=True)\n",
    "y = x @ m + k\n",
    "y = y.mean()\n",
    "y.backward()\n",
    "\n",
    "print(x.grad)\n",
    "print(m.grad)\n",
    "print(k.grad)"
   ]
  },
  {
   "cell_type": "code",
   "execution_count": 13,
   "metadata": {},
   "outputs": [
    {
     "name": "stdout",
     "output_type": "stream",
     "text": [
      "tensor([[0.0293, 0.0284, 0.0295, 0.0292, 0.0182, 0.0145, 0.0180, 0.0316, 0.0217,\n",
      "         0.0227],\n",
      "        [0.0155, 0.0321, 0.0180, 0.0223, 0.0273, 0.0215, 0.0247, 0.0147, 0.0228,\n",
      "         0.0146],\n",
      "        [0.0188, 0.0250, 0.0252, 0.0194, 0.0182, 0.0277, 0.0227, 0.0323, 0.0332,\n",
      "         0.0309]], dtype=torch.float64)\n"
     ]
    }
   ],
   "source": [
    "x = torch.tensor(a, requires_grad=True)\n",
    "\n",
    "y = torch.tanh(x)\n",
    "y.mean().backward()\n",
    "\n",
    "print(x.grad)"
   ]
  },
  {
   "cell_type": "code",
   "execution_count": 14,
   "metadata": {},
   "outputs": [
    {
     "name": "stdout",
     "output_type": "stream",
     "text": [
      "Tensor([[0.02932208 0.02837617 0.02954617 0.02915454 0.01818414 0.01449179\n",
      "  0.01803519 0.03163825 0.02167592 0.02269661]\n",
      " [0.01551822 0.03210233 0.01795252 0.02228669 0.0273407  0.02149842\n",
      "  0.02474053 0.01469801 0.02284488 0.01463336]\n",
      " [0.01881288 0.02495799 0.02519299 0.01938398 0.01822057 0.02769743\n",
      "  0.0227085  0.03229486 0.03319141 0.03086085]], requires_grad=False)\n"
     ]
    }
   ],
   "source": [
    "x = autograd.Tensor(a, requires_grad=True)\n",
    "\n",
    "y = autograd.tanh(x)\n",
    "y.mean().backward()\n",
    "\n",
    "print(x.grad)"
   ]
  },
  {
   "cell_type": "code",
   "execution_count": null,
   "metadata": {},
   "outputs": [],
   "source": []
  },
  {
   "cell_type": "code",
   "execution_count": 8,
   "metadata": {},
   "outputs": [
    {
     "data": {
      "text/plain": [
       "()"
      ]
     },
     "execution_count": 8,
     "metadata": {},
     "output_type": "execute_result"
    }
   ],
   "source": [
    "np.array(1).shape"
   ]
  },
  {
   "cell_type": "code",
   "execution_count": 9,
   "metadata": {},
   "outputs": [
    {
     "data": {
      "text/plain": [
       "(1,)"
      ]
     },
     "execution_count": 9,
     "metadata": {},
     "output_type": "execute_result"
    }
   ],
   "source": [
    "np.array([1]).shape"
   ]
  },
  {
   "cell_type": "code",
   "execution_count": null,
   "metadata": {},
   "outputs": [],
   "source": []
  }
 ],
 "metadata": {
  "kernelspec": {
   "display_name": "Python 3",
   "language": "python",
   "name": "python3"
  },
  "language_info": {
   "codemirror_mode": {
    "name": "ipython",
    "version": 3
   },
   "file_extension": ".py",
   "mimetype": "text/x-python",
   "name": "python",
   "nbconvert_exporter": "python",
   "pygments_lexer": "ipython3",
   "version": "3.7.0"
  }
 },
 "nbformat": 4,
 "nbformat_minor": 2
}
