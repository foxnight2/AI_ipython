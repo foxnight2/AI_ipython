{
 "cells": [
  {
   "cell_type": "markdown",
   "metadata": {},
   "source": [
    "# Camera"
   ]
  },
  {
   "cell_type": "markdown",
   "metadata": {},
   "source": [
    "## Calibration"
   ]
  },
  {
   "cell_type": "code",
   "execution_count": null,
   "metadata": {},
   "outputs": [],
   "source": [
    "import glob\n",
    "import cv2\n",
    "import numpy as np\n",
    "from skimage import data, io"
   ]
  },
  {
   "cell_type": "code",
   "execution_count": 116,
   "metadata": {},
   "outputs": [],
   "source": [
    "board_size = (7, 5)\n",
    "\n",
    "# data.checkerboard()"
   ]
  },
  {
   "cell_type": "code",
   "execution_count": 117,
   "metadata": {},
   "outputs": [],
   "source": [
    "def get_corners(w, h):\n",
    "    '''get_corners\n",
    "    '''\n",
    "    # x, y, z, row first\n",
    "    pworld = np.zeros((h, w, 3), dtype=np.float32) \n",
    "    grid_x, grid_y = np.meshgrid(range(w), range(h))\n",
    "\n",
    "    pworld[:, :, 0] = grid_x\n",
    "    pworld[:, :, 1] = grid_y\n",
    "\n",
    "    return pworld.reshape(-1, 3)"
   ]
  },
  {
   "cell_type": "code",
   "execution_count": 118,
   "metadata": {},
   "outputs": [
    {
     "data": {
      "text/plain": [
       "<matplotlib.image.AxesImage at 0x7fcd0beb6fd0>"
      ]
     },
     "execution_count": 118,
     "metadata": {},
     "output_type": "execute_result"
    },
    {
     "data": {
      "image/png": "[encoded data removed]",
      "text/plain": [
       "<Figure size 432x288 with 1 Axes>"
      ]
     },
     "metadata": {
      "needs_background": "light"
     },
     "output_type": "display_data"
    }
   ],
   "source": [
    "points_world = []\n",
    "points_pixel = []\n",
    "criteria = (cv2.TERM_CRITERIA_MAX_ITER + cv2.TERM_CRITERIA_EPS, 30, 0.001)\n",
    "\n",
    "for path in glob.glob('./*.jpg'):\n",
    "    \n",
    "    im = cv2.imread(path)\n",
    "    im_size = im.shape\n",
    "    \n",
    "    im_gray = cv2.cvtColor(im, cv2.COLOR_RGB2GRAY)\n",
    "    \n",
    "    io.imshow(im_gray)\n",
    "    \n",
    "    r, corners = cv2.findChessboardCorners(im_gray, board_size, None)\n",
    "    \n",
    "    if r:\n",
    "        points_world.append(get_corners(*board_size))\n",
    "        \n",
    "        corners = cv2.cornerSubPix(im_gray, corners, winSize=(11, 11), zeroZone=(-1, -1), criteria=criteria)\n",
    "        \n",
    "        points_pixel.append(corners)\n",
    "        \n",
    "        im = cv2.drawChessboardCorners(im, board_size, corners, r)\n",
    "        io.imshow(im)\n",
    "        \n",
    "        \n",
    "r, matx, dist, rvec, tvec = cv2.calibrateCamera(points_world, points_pixel, board_size, None, None)\n",
    "\n",
    "\n",
    "matx_new, (x, y, w, h) = cv2.getOptimalNewCameraMatrix(matx, dist, im_size[:-1][::-1], 1, im_size[:-1][::-1])\n",
    "\n",
    "im_dist = cv2.undistort(im, matx, dist, None, matx_new)\n",
    "\n",
    "io.imshow(im_dist)"
   ]
  },
  {
   "cell_type": "code",
   "execution_count": null,
   "metadata": {},
   "outputs": [],
   "source": []
  },
  {
   "cell_type": "markdown",
   "metadata": {},
   "source": [
    "## Camera"
   ]
  },
  {
   "cell_type": "code",
   "execution_count": 142,
   "metadata": {},
   "outputs": [],
   "source": [
    "import copy\n",
    "import numpy as np\n",
    "\n",
    "import torch\n",
    "\n",
    "class Camera(object):\n",
    "    '''Camera\n",
    "    '''\n",
    "    def __init__(self, m):\n",
    "        self._m = copy.deepcopy(m)\n",
    "        \n",
    "        \n",
    "    def to(self, device):\n",
    "        pass\n",
    "    \n",
    "        \n",
    "    @property\n",
    "    def K(self, ):\n",
    "        return self._m\n",
    "    \n",
    "    @property\n",
    "    def K_inv(self, ):\n",
    "        '''K inv\n",
    "        '''\n",
    "        if isinstance(self._m, np.ndarray):\n",
    "            return np.linalg.pinv(self._m)\n",
    "        elif isinstance(self._m, torch.Tensor):\n",
    "            return torch.linalg.pinv(self._m)    \n",
    "        else:\n",
    "            pass\n",
    "        \n",
    "    @classmethod\n",
    "    def calibration(cls, boards, board_size=(7, 5)):\n",
    "        raise NotImplementedError('')\n",
    "\n",
    "    def undistort(self, imgs):\n",
    "        raise NotImplementedError('')\n",
    "\n",
    "\n",
    "\n",
    "class Transform(object):\n",
    "    '''Transform\n",
    "    '''\n",
    "    @staticmethod\n",
    "    def rotx(t):\n",
    "        ''' 3D Rotation about the x-axis. '''\n",
    "        c = np.cos(t)\n",
    "        s = np.sin(t)\n",
    "        return np.array([[1,  0,  0],\n",
    "                         [0,  c, -s],\n",
    "                         [0,  s,  c]])\n",
    "\n",
    "    @staticmethod\n",
    "    def roty(t):\n",
    "        ''' Rotation about the y-axis. '''\n",
    "        c = np.cos(t)\n",
    "        s = np.sin(t)\n",
    "        return np.array([[c,  0,  s],\n",
    "                         [0,  1,  0],\n",
    "                         [-s, 0,  c]])\n",
    "\n",
    "    @staticmethod\n",
    "    def rotz(t):\n",
    "        ''' Rotation about the z-axis. '''\n",
    "        c = np.cos(t)\n",
    "        s = np.sin(t)\n",
    "        return np.array([[c, -s,  0],\n",
    "                         [s,  c,  0],\n",
    "                         [0,  0,  1]])\n",
    "\n",
    "\n",
    "    \n",
    "class Box3dCameraCoord(object):\n",
    "    '''\n",
    "       z (front)\n",
    "      /\n",
    "     /\n",
    "    O —— —— x (right) \n",
    "    |\n",
    "    |\n",
    "    y(down)\n",
    "    \n",
    "    bboxes, [n, m], (x, y, z, l(x), h(y), w(z), rotation_y, ), by default m == 7,\n",
    "    origin, default bottom plane center (x, y, z) (kitti)\n",
    "    '''\n",
    "    def __init__(self, bboxes, origin=(0.5, 1.0, 0.5)):\n",
    "        self.bboxes = bboxes\n",
    "        \n",
    "    \n",
    "    def to(self, device):\n",
    "        pass\n",
    "\n",
    "    \n",
    "    @property\n",
    "    def corners(self, ):\n",
    "        pass\n",
    "    \n",
    "    \n",
    "    def rotate(self, angle, ):\n",
    "        pass\n",
    "    \n",
    "    \n",
    "    "
   ]
  },
  {
   "cell_type": "code",
   "execution_count": 143,
   "metadata": {},
   "outputs": [],
   "source": [
    "# https://github.com/danielhavir/voxelize3d\n",
    "\n",
    "# https://github.com/yeyang1021/KITTI_VIZ_3D"
   ]
  },
  {
   "cell_type": "code",
   "execution_count": null,
   "metadata": {},
   "outputs": [],
   "source": []
  }
 ],
 "metadata": {
  "kernelspec": {
   "display_name": "Python 3",
   "language": "python",
   "name": "python3"
  },
  "language_info": {
   "codemirror_mode": {
    "name": "ipython",
    "version": 3
   },
   "file_extension": ".py",
   "mimetype": "text/x-python",
   "name": "python",
   "nbconvert_exporter": "python",
   "pygments_lexer": "ipython3",
   "version": "3.8.5"
  }
 },
 "nbformat": 4,
 "nbformat_minor": 4
}
