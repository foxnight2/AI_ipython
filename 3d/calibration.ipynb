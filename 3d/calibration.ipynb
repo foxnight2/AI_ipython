{
 "cells": [
  {
   "cell_type": "code",
   "execution_count": null,
   "metadata": {},
   "outputs": [],
   "source": [
    "import glob\n",
    "import cv2\n",
    "import numpy as np\n",
    "from skimage import io"
   ]
  },
  {
   "cell_type": "code",
   "execution_count": null,
   "metadata": {},
   "outputs": [],
   "source": [
    "board_size = (7, 5)"
   ]
  },
  {
   "cell_type": "code",
   "execution_count": null,
   "metadata": {},
   "outputs": [],
   "source": [
    "def get_corners(w, h):\n",
    "    '''get_corners\n",
    "    '''\n",
    "    # x, y, z, row first\n",
    "    pworld = np.zeros((h, w, 3), dtype=np.float32) \n",
    "    grid_x, grid_y = np.meshgrid(range(w), range(h))\n",
    "\n",
    "    pworld[:, :, 0] = grid_x\n",
    "    pworld[:, :, 1] = grid_y\n",
    "\n",
    "    return pworld.reshape(-1, 3)"
   ]
  },
  {
   "cell_type": "code",
   "execution_count": null,
   "metadata": {},
   "outputs": [],
   "source": [
    "points_world = []\n",
    "points_pixel = []\n",
    "criteria = (cv2.TERM_CRITERIA_MAX_ITER + cv2.TERM_CRITERIA_EPS, 30, 0.001)\n",
    "\n",
    "for path in glob.glob('./*.jpg'):\n",
    "    \n",
    "    im = cv2.imread(path)\n",
    "    im_size = im.shape\n",
    "    \n",
    "    im_gray = cv2.cvtColor(im, cv2.COLOR_RGB2GRAY)\n",
    "    \n",
    "    io.imshow(im_gray)\n",
    "    \n",
    "    r, corners = cv2.findChessboardCorners(im_gray, board_size, None)\n",
    "    \n",
    "    if r:\n",
    "        points_world.append(get_corners(*board_size))\n",
    "        \n",
    "        corners = cv2.cornerSubPix(im_gray, corners, winSize=(11, 11), zeroZone=(-1, -1), criteria=criteria)\n",
    "        \n",
    "        points_pixel.append(corners)\n",
    "        \n",
    "        im = cv2.drawChessboardCorners(im, board_size, corners, r)\n",
    "        io.imshow(im)\n",
    "        \n",
    "        \n",
    "r, matx, dist, rvec, tvec = cv2.calibrateCamera(points_world, points_pixel, board_size, None, None)\n",
    "\n",
    "\n",
    "matx_new, (x, y, w, h) = cv2.getOptimalNewCameraMatrix(matx, dist, im_size[:-1][::-1], 1, im_size[:-1][::-1])\n",
    "\n",
    "im_dist = cv2.undistort(im, matx, dist, None, matx_new)\n",
    "\n",
    "io.imshow(im_dist)"
   ]
  },
  {
   "cell_type": "code",
   "execution_count": null,
   "metadata": {},
   "outputs": [],
   "source": []
  },
  {
   "cell_type": "code",
   "execution_count": null,
   "metadata": {},
   "outputs": [],
   "source": []
  },
  {
   "cell_type": "code",
   "execution_count": null,
   "metadata": {},
   "outputs": [],
   "source": []
  }
 ],
 "metadata": {
  "kernelspec": {
   "display_name": "Python 3",
   "language": "python",
   "name": "python3"
  },
  "language_info": {
   "codemirror_mode": {
    "name": "ipython",
    "version": 3
   },
   "file_extension": ".py",
   "mimetype": "text/x-python",
   "name": "python",
   "nbconvert_exporter": "python",
   "pygments_lexer": "ipython3",
   "version": "3.8.5"
  }
 },
 "nbformat": 4,
 "nbformat_minor": 4
}
