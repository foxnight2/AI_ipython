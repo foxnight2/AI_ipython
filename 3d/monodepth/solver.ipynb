{
 "cells": [
  {
   "cell_type": "code",
   "execution_count": 5,
   "metadata": {},
   "outputs": [],
   "source": []
  },
  {
   "cell_type": "code",
   "execution_count": 1,
   "metadata": {},
   "outputs": [],
   "source": [
    "import torch\n",
    "import torch.nn as nn \n",
    "import torch.nn.functional as F\n",
    "import torch.optim as optim \n",
    "from torch.utils.data import DataLoader\n",
    "\n",
    "import numpy as np \n",
    "\n",
    "import dataset\n",
    "import models\n",
    "from options import OptionsV1\n",
    "\n",
    "\n",
    "class Solver(object):\n",
    "\n",
    "    def __init__(self, options) -> None:\n",
    "        super().__init__()\n",
    "\n",
    "        im_size = (640, 192)\n",
    "        lr = 0.001\n",
    "        device = torch.device('cuda:1')\n",
    "        \n",
    "        self.im_size = im_size\n",
    "        self.device = device\n",
    "        \n",
    "        self.posenet = models.PoseNet('resnet18').to(device)\n",
    "        self.depthnet = models.DepthNet('resnet18').to(device)\n",
    "        self.pix2cam = models.Pixel2Cam(im_size).to(device)\n",
    "        self.cam2pix = models.Cam2Pixel(im_size).to(device)\n",
    "        self.ssimloss = models.SSIM().to(device)\n",
    "\n",
    "        self.optimizer = optim.SGD([{'params': self.posenet.parameters(), 'lr': lr}, {'params': self.depthnet.parameters(), 'lr': lr}], lr=lr)\n",
    "        self.scheduler = optim.lr_scheduler.MultiStepLR(self.optimizer, milestones=[4, 8], gamma=0.1)\n",
    "        \n",
    "        \n",
    "    def train(self, ):\n",
    "        \n",
    "        _dataset = dataset.KITIIDataset('../../../dataset/kitti/', './dataset/splits/train.txt', True)\n",
    "        _dataloader = DataLoader(_dataset, batch_size=2, shuffle=True)\n",
    "        w, h = self.im_size\n",
    "        \n",
    "        for items in _dataloader:\n",
    "            \n",
    "            for i in items:\n",
    "                items[i] = items[i].to(self.device)\n",
    "                        \n",
    "            d_outputs = self.depthnet( items[('image', 0)] )\n",
    "            \n",
    "            axisangle, translate = self.posenet( torch.cat([items[('image', -1)], items[('image', 0)]], dim=1) )\n",
    "\n",
    "            matrix = models.params_to_matrix(axisangle[:, 0, 0], translate[:, 0, 0], True)\n",
    "\n",
    "            loss = 0.\n",
    "\n",
    "            for i in range(2):\n",
    "                disp = d_outputs[('disp', i)]\n",
    "                disp = F.interpolate(disp, (h, w), mode='bilinear', align_corners=False)\n",
    "                _, depth = models.disp_to_depth(disp, 1e-3, 80)\n",
    "\n",
    "                points = self.pix2cam( depth, items[('K', 0)])\n",
    "                pixels = self.cam2pix(points, items[('K', 0)], matrix)\n",
    "                                \n",
    "                preds = models.reprojection(items[('image', 1)], pixels)\n",
    "                                \n",
    "                ssim_loss = self.ssimloss(preds, items[('image', 0)])\n",
    "                l1_loss = F.smooth_l1_loss(preds, items[('image', 0)], reduction='none')\n",
    "\n",
    "                loss += ssim_loss * 0.85 + l1_loss * 0.15\n",
    "\n",
    "#                 if i == 0:\n",
    "#                     metrics = models.depth_metrics(depth.detach(), torch.rand(10, 2, h, w).to(self.device))\n",
    "#                     print(metrics, loss.mean().item())\n",
    "\n",
    "            self.optimizer.zero_grad()\n",
    "            loss.mean().backward()\n",
    "            self.optimizer.step()\n",
    "            self.scheduler.step()\n",
    "            \n",
    "            print(loss.mean().item())\n",
    "    "
   ]
  },
  {
   "cell_type": "code",
   "execution_count": 2,
   "metadata": {},
   "outputs": [],
   "source": [
    "solver = Solver(None)"
   ]
  },
  {
   "cell_type": "code",
   "execution_count": 3,
   "metadata": {},
   "outputs": [
    {
     "name": "stdout",
     "output_type": "stream",
     "text": [
      "0.6786371469497681\n",
      "0.3858781158924103\n"
     ]
    }
   ],
   "source": [
    "solver.train()"
   ]
  },
  {
   "cell_type": "code",
   "execution_count": null,
   "metadata": {},
   "outputs": [],
   "source": []
  },
  {
   "cell_type": "code",
   "execution_count": null,
   "metadata": {},
   "outputs": [],
   "source": []
  },
  {
   "cell_type": "code",
   "execution_count": null,
   "metadata": {},
   "outputs": [],
   "source": []
  }
 ],
 "metadata": {
  "kernelspec": {
   "display_name": "Python 3",
   "language": "python",
   "name": "python3"
  },
  "language_info": {
   "codemirror_mode": {
    "name": "ipython",
    "version": 3
   },
   "file_extension": ".py",
   "mimetype": "text/x-python",
   "name": "python",
   "nbconvert_exporter": "python",
   "pygments_lexer": "ipython3",
   "version": "3.8.5"
  }
 },
 "nbformat": 4,
 "nbformat_minor": 4
}
