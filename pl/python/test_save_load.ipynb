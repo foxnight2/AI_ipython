{
 "cells": [
  {
   "cell_type": "code",
   "execution_count": 20,
   "id": "5ba9be0d",
   "metadata": {},
   "outputs": [],
   "source": [
    "import numpy as np\n",
    "import pickle\n",
    "\n",
    "import cv2\n",
    "from PIL import Image\n",
    "import base64\n",
    "\n",
    "import image_pb2 as image_pb"
   ]
  },
  {
   "cell_type": "code",
   "execution_count": 21,
   "id": "8a207717",
   "metadata": {},
   "outputs": [],
   "source": [
    "im = Image.open('../../cv/000000000575.jpg')"
   ]
  },
  {
   "cell_type": "code",
   "execution_count": 22,
   "id": "df6c4e1a",
   "metadata": {},
   "outputs": [],
   "source": [
    "def read_image(func, path='../../cv/000000000575.jpg'):\n",
    "    return np.array(func(path))"
   ]
  },
  {
   "cell_type": "code",
   "execution_count": 23,
   "id": "bccfa22b",
   "metadata": {},
   "outputs": [],
   "source": [
    "def ppdet_read(path):\n",
    "    with open(path, 'rb') as f:\n",
    "        data = f.read()\n",
    "    \n",
    "    data = np.frombuffer(data, dtype='uint8')\n",
    "    im = cv2.imdecode(data, 1)\n",
    "    \n",
    "    return im"
   ]
  },
  {
   "cell_type": "code",
   "execution_count": 24,
   "id": "d793dcda",
   "metadata": {},
   "outputs": [
    {
     "name": "stdout",
     "output_type": "stream",
     "text": [
      "8.01 ms ± 67.4 µs per loop (mean ± std. dev. of 7 runs, 100 loops each)\n"
     ]
    }
   ],
   "source": [
    "%timeit read_image(Image.open)"
   ]
  },
  {
   "cell_type": "code",
   "execution_count": 25,
   "id": "93265eb3",
   "metadata": {},
   "outputs": [
    {
     "name": "stdout",
     "output_type": "stream",
     "text": [
      "7.76 ms ± 75.8 µs per loop (mean ± std. dev. of 7 runs, 100 loops each)\n"
     ]
    }
   ],
   "source": [
    "%timeit read_image(cv2.imread)"
   ]
  },
  {
   "cell_type": "code",
   "execution_count": 26,
   "id": "b4612107",
   "metadata": {},
   "outputs": [
    {
     "name": "stdout",
     "output_type": "stream",
     "text": [
      "7.28 ms ± 15.6 µs per loop (mean ± std. dev. of 7 runs, 100 loops each)\n"
     ]
    }
   ],
   "source": [
    "%timeit read_image(ppdet_read)"
   ]
  },
  {
   "cell_type": "code",
   "execution_count": null,
   "id": "56dd480a",
   "metadata": {},
   "outputs": [],
   "source": []
  },
  {
   "cell_type": "code",
   "execution_count": 23,
   "id": "6af8b0e8",
   "metadata": {},
   "outputs": [],
   "source": [
    "im_array = np.array(im)\n",
    "np.save('./test.jpg.npy', im_array)"
   ]
  },
  {
   "cell_type": "code",
   "execution_count": 24,
   "id": "b7bfd50e",
   "metadata": {},
   "outputs": [
    {
     "name": "stdout",
     "output_type": "stream",
     "text": [
      "163 µs ± 2.02 µs per loop (mean ± std. dev. of 7 runs, 10000 loops each)\n"
     ]
    }
   ],
   "source": [
    "%timeit np.load('./test.jpg.npy')"
   ]
  },
  {
   "cell_type": "code",
   "execution_count": 25,
   "id": "5aac844f",
   "metadata": {},
   "outputs": [],
   "source": [
    "im_array = np.array(im)\n",
    "with open('./test.jpg.pkl', 'wb') as f:\n",
    "    pickle.dump(im_array, f)"
   ]
  },
  {
   "cell_type": "code",
   "execution_count": 26,
   "id": "a2a88175",
   "metadata": {},
   "outputs": [
    {
     "name": "stdout",
     "output_type": "stream",
     "text": [
      "48.5 µs ± 2.15 µs per loop (mean ± std. dev. of 7 runs, 10000 loops each)\n"
     ]
    }
   ],
   "source": [
    "%timeit pickle.load(open('./test.jpg.pkl', 'rb'))"
   ]
  },
  {
   "cell_type": "markdown",
   "id": "cfaf45c9",
   "metadata": {},
   "source": [
    "method | speed | size\n",
    "---|--- | ---\n",
    "PIL | 7.98 ms | 530K\n",
    "cv2 | 7.69 ms | 530K\n",
    "proto | 2.66 ms | 1.3M\n",
    "numpy | 163 µs | 962K\n",
    "pickle | 48.5 µs | 962K"
   ]
  },
  {
   "cell_type": "code",
   "execution_count": 5,
   "id": "b568f164",
   "metadata": {},
   "outputs": [
    {
     "name": "stdout",
     "output_type": "stream",
     "text": [
      "(513, 640, 3)\n"
     ]
    }
   ],
   "source": [
    "im_array = np.array(im)\n",
    "print(im_array.shape)\n",
    "\n",
    "data = base64.b64encode(im_array)\n",
    "shape = im_array.shape\n",
    "\n",
    "image = image_pb.Image(data=data, shape=shape, dtype=str(im_array.dtype))\n",
    "images = image_pb.Images(image=[image for _ in range(1000)])\n",
    "\n",
    "\n",
    "# mean = np.frombuffer(base64.b64decode(response.data))\n",
    "with open('./test.jpg.proto', 'wb') as f:\n",
    "    f.write(image.SerializeToString())\n",
    "\n",
    "# with open('./tests.jpg.proto', 'wb') as f:\n",
    "#     f.write(images.SerializeToString())\n"
   ]
  },
  {
   "cell_type": "code",
   "execution_count": 4,
   "id": "5fe169c9",
   "metadata": {},
   "outputs": [],
   "source": [
    "def parse_proto(path):\n",
    "    image = image_pb.Image()\n",
    "    image.ParseFromString(open(path, 'rb').read())\n",
    "    \n",
    "    data = np.frombuffer(base64.b64decode(image.data), dtype=image.dtype)\n",
    "    data = data.reshape(*image.shape)\n",
    "    \n",
    "    return data"
   ]
  },
  {
   "cell_type": "code",
   "execution_count": 5,
   "id": "21f72951",
   "metadata": {},
   "outputs": [
    {
     "name": "stdout",
     "output_type": "stream",
     "text": [
      "2.47 ms ± 41 µs per loop (mean ± std. dev. of 7 runs, 100 loops each)\n"
     ]
    }
   ],
   "source": [
    "%timeit parse_proto('./test.jpg.proto')"
   ]
  },
  {
   "cell_type": "code",
   "execution_count": null,
   "id": "b3a49d27",
   "metadata": {},
   "outputs": [],
   "source": []
  },
  {
   "cell_type": "code",
   "execution_count": null,
   "id": "cb90163e",
   "metadata": {},
   "outputs": [],
   "source": []
  },
  {
   "cell_type": "code",
   "execution_count": 12,
   "id": "e77c60e2",
   "metadata": {},
   "outputs": [],
   "source": [
    "# protov1"
   ]
  },
  {
   "cell_type": "code",
   "execution_count": 4,
   "id": "8a76e374",
   "metadata": {},
   "outputs": [
    {
     "name": "stdout",
     "output_type": "stream",
     "text": [
      "(513, 640, 3)\n"
     ]
    }
   ],
   "source": [
    "im_array = np.array(im)\n",
    "print(im_array.shape)\n",
    "\n",
    "shape = im_array.shape\n",
    "im_list = im_array.reshape(-1).tolist()\n",
    "\n",
    "# data = base64.b64encode(im_array)\n",
    "\n",
    "image = image_pb.ImageV1(data=im_list, shape=shape, dtype=str(im_array.dtype))\n",
    "# images = image_pb.Images(image=[image for _ in range(1000)])\n",
    "\n",
    "# mean = np.frombuffer(base64.b64decode(response.data))\n",
    "with open('./test.jpg.v1.proto', 'wb') as f:\n",
    "    f.write(image.SerializeToString())\n",
    "\n",
    "# with open('./tests.jpg.proto', 'wb') as f:\n",
    "#     f.write(images.SerializeToString())\n"
   ]
  },
  {
   "cell_type": "code",
   "execution_count": 10,
   "id": "bc661f88",
   "metadata": {},
   "outputs": [],
   "source": [
    "def parse_proto_v1(path):\n",
    "    image = image_pb.ImageV1()\n",
    "    image.ParseFromString(open(path, 'rb').read())\n",
    "    \n",
    "    # data = np.frombuffer(base64.b64decode(image.data), dtype=image.dtype)\n",
    "    # data = data.reshape(*image.shape)\n",
    "    data = np.array(image.data, dtype=image.dtype).reshape(*image.shape)\n",
    "    \n",
    "    return data"
   ]
  },
  {
   "cell_type": "code",
   "execution_count": 11,
   "id": "7884d681",
   "metadata": {},
   "outputs": [
    {
     "name": "stdout",
     "output_type": "stream",
     "text": [
      "74.4 ms ± 801 µs per loop (mean ± std. dev. of 7 runs, 10 loops each)\n"
     ]
    }
   ],
   "source": [
    "%timeit parse_proto_v1('./test.jpg.v1.proto')"
   ]
  },
  {
   "cell_type": "code",
   "execution_count": null,
   "id": "31b11c92",
   "metadata": {},
   "outputs": [],
   "source": []
  }
 ],
 "metadata": {
  "kernelspec": {
   "display_name": "Python 3",
   "language": "python",
   "name": "python3"
  },
  "language_info": {
   "codemirror_mode": {
    "name": "ipython",
    "version": 3
   },
   "file_extension": ".py",
   "mimetype": "text/x-python",
   "name": "python",
   "nbconvert_exporter": "python",
   "pygments_lexer": "ipython3",
   "version": "3.8.8"
  }
 },
 "nbformat": 4,
 "nbformat_minor": 5
}
