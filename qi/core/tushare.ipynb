{
 "cells": [
  {
   "cell_type": "code",
   "execution_count": 33,
   "metadata": {},
   "outputs": [],
   "source": [
    "import tushare as ts\n",
    "import time\n",
    "import datetime\n",
    "import numpy as np\n",
    "import pandas as pd\n",
    "import os"
   ]
  },
  {
   "cell_type": "code",
   "execution_count": 7,
   "metadata": {},
   "outputs": [],
   "source": [
    "pro = ts.pro_api(token='14544f66a3a8c9fad2c7d81df3faf20165b248745ce5e8cf994718cb')"
   ]
  },
  {
   "cell_type": "code",
   "execution_count": 8,
   "metadata": {},
   "outputs": [
    {
     "data": {
      "text/plain": [
       "['query']"
      ]
     },
     "execution_count": 8,
     "metadata": {},
     "output_type": "execute_result"
    }
   ],
   "source": [
    "[n for n in dir(pro) if not n.startswith('_')]"
   ]
  },
  {
   "cell_type": "markdown",
   "metadata": {},
   "source": [
    "# BASIC"
   ]
  },
  {
   "cell_type": "code",
   "execution_count": 9,
   "metadata": {},
   "outputs": [],
   "source": [
    "# stock_basic"
   ]
  },
  {
   "cell_type": "code",
   "execution_count": 10,
   "metadata": {},
   "outputs": [],
   "source": [
    "data = pro.query('stock_basic', \n",
    "                 exchange='', \n",
    "                 list_status='L', \n",
    "                 fields='ts_code,symbol,name,area,industry,market,list_date,list_status')"
   ]
  },
  {
   "cell_type": "code",
   "execution_count": 22,
   "metadata": {},
   "outputs": [
    {
     "data": {
      "text/html": [
       "<div>\n",
       "<style scoped>\n",
       "    .dataframe tbody tr th:only-of-type {\n",
       "        vertical-align: middle;\n",
       "    }\n",
       "\n",
       "    .dataframe tbody tr th {\n",
       "        vertical-align: top;\n",
       "    }\n",
       "\n",
       "    .dataframe thead th {\n",
       "        text-align: right;\n",
       "    }\n",
       "</style>\n",
       "<table border=\"1\" class=\"dataframe\">\n",
       "  <thead>\n",
       "    <tr style=\"text-align: right;\">\n",
       "      <th></th>\n",
       "      <th>index</th>\n",
       "      <th>ts_code</th>\n",
       "      <th>symbol</th>\n",
       "      <th>name</th>\n",
       "      <th>area</th>\n",
       "      <th>industry</th>\n",
       "      <th>market</th>\n",
       "      <th>list_status</th>\n",
       "      <th>list_date</th>\n",
       "    </tr>\n",
       "  </thead>\n",
       "  <tbody>\n",
       "    <tr>\n",
       "      <th>0</th>\n",
       "      <td>0</td>\n",
       "      <td>000001.SZ</td>\n",
       "      <td>000001</td>\n",
       "      <td>平安银行</td>\n",
       "      <td>深圳</td>\n",
       "      <td>银行</td>\n",
       "      <td>主板</td>\n",
       "      <td>L</td>\n",
       "      <td>19910403</td>\n",
       "    </tr>\n",
       "    <tr>\n",
       "      <th>1</th>\n",
       "      <td>1</td>\n",
       "      <td>000002.SZ</td>\n",
       "      <td>000002</td>\n",
       "      <td>万科A</td>\n",
       "      <td>深圳</td>\n",
       "      <td>全国地产</td>\n",
       "      <td>主板</td>\n",
       "      <td>L</td>\n",
       "      <td>19910129</td>\n",
       "    </tr>\n",
       "    <tr>\n",
       "      <th>2</th>\n",
       "      <td>2</td>\n",
       "      <td>000004.SZ</td>\n",
       "      <td>000004</td>\n",
       "      <td>国华网安</td>\n",
       "      <td>深圳</td>\n",
       "      <td>软件服务</td>\n",
       "      <td>主板</td>\n",
       "      <td>L</td>\n",
       "      <td>19910114</td>\n",
       "    </tr>\n",
       "    <tr>\n",
       "      <th>3</th>\n",
       "      <td>3</td>\n",
       "      <td>000005.SZ</td>\n",
       "      <td>000005</td>\n",
       "      <td>世纪星源</td>\n",
       "      <td>深圳</td>\n",
       "      <td>环境保护</td>\n",
       "      <td>主板</td>\n",
       "      <td>L</td>\n",
       "      <td>19901210</td>\n",
       "    </tr>\n",
       "    <tr>\n",
       "      <th>4</th>\n",
       "      <td>4</td>\n",
       "      <td>000006.SZ</td>\n",
       "      <td>000006</td>\n",
       "      <td>深振业A</td>\n",
       "      <td>深圳</td>\n",
       "      <td>区域地产</td>\n",
       "      <td>主板</td>\n",
       "      <td>L</td>\n",
       "      <td>19920427</td>\n",
       "    </tr>\n",
       "    <tr>\n",
       "      <th>5</th>\n",
       "      <td>5</td>\n",
       "      <td>000007.SZ</td>\n",
       "      <td>000007</td>\n",
       "      <td>全新好</td>\n",
       "      <td>深圳</td>\n",
       "      <td>酒店餐饮</td>\n",
       "      <td>主板</td>\n",
       "      <td>L</td>\n",
       "      <td>19920413</td>\n",
       "    </tr>\n",
       "    <tr>\n",
       "      <th>6</th>\n",
       "      <td>6</td>\n",
       "      <td>000008.SZ</td>\n",
       "      <td>000008</td>\n",
       "      <td>神州高铁</td>\n",
       "      <td>北京</td>\n",
       "      <td>运输设备</td>\n",
       "      <td>主板</td>\n",
       "      <td>L</td>\n",
       "      <td>19920507</td>\n",
       "    </tr>\n",
       "  </tbody>\n",
       "</table>\n",
       "</div>"
      ],
      "text/plain": [
       "   index    ts_code  symbol  name area industry market list_status list_date\n",
       "0      0  000001.SZ  000001  平安银行   深圳       银行     主板           L  19910403\n",
       "1      1  000002.SZ  000002   万科A   深圳     全国地产     主板           L  19910129\n",
       "2      2  000004.SZ  000004  国华网安   深圳     软件服务     主板           L  19910114\n",
       "3      3  000005.SZ  000005  世纪星源   深圳     环境保护     主板           L  19901210\n",
       "4      4  000006.SZ  000006  深振业A   深圳     区域地产     主板           L  19920427\n",
       "5      5  000007.SZ  000007   全新好   深圳     酒店餐饮     主板           L  19920413\n",
       "6      6  000008.SZ  000008  神州高铁   北京     运输设备     主板           L  19920507"
      ]
     },
     "execution_count": 22,
     "metadata": {},
     "output_type": "execute_result"
    }
   ],
   "source": [
    "data.drop_duplicates().reset_index().loc[:6, :]"
   ]
  },
  {
   "cell_type": "code",
   "execution_count": null,
   "metadata": {},
   "outputs": [],
   "source": []
  },
  {
   "cell_type": "code",
   "execution_count": 12,
   "metadata": {},
   "outputs": [],
   "source": [
    "# top10_holders\n",
    "# top10_floatholders\n",
    "# "
   ]
  },
  {
   "cell_type": "code",
   "execution_count": 19,
   "metadata": {},
   "outputs": [],
   "source": [
    "# topten = pro.query('top10_floatholders', ts_code='300014.SZ').loc[:30, :]"
   ]
  },
  {
   "cell_type": "code",
   "execution_count": 20,
   "metadata": {},
   "outputs": [],
   "source": [
    "# topten"
   ]
  },
  {
   "cell_type": "code",
   "execution_count": 21,
   "metadata": {},
   "outputs": [],
   "source": [
    "# topten.drop_duplicates().reset_index()"
   ]
  },
  {
   "cell_type": "code",
   "execution_count": null,
   "metadata": {},
   "outputs": [],
   "source": []
  },
  {
   "cell_type": "code",
   "execution_count": null,
   "metadata": {},
   "outputs": [],
   "source": [
    "# Get topten data"
   ]
  },
  {
   "cell_type": "code",
   "execution_count": 40,
   "metadata": {},
   "outputs": [],
   "source": [
    "path = '../data/stock_basic.csv'\n",
    "\n",
    "stock_basic = pro.query('stock_basic', \n",
    "             exchange='', \n",
    "             list_status='L', \n",
    "             fields='ts_code,symbol,name,area,industry,market,list_date,list_status')\n",
    "\n",
    "if not os.path.exists(path):\n",
    "    stock_basic.to_csv(path, sep='\\t')"
   ]
  },
  {
   "cell_type": "code",
   "execution_count": null,
   "metadata": {},
   "outputs": [],
   "source": []
  },
  {
   "cell_type": "code",
   "execution_count": 24,
   "metadata": {},
   "outputs": [],
   "source": [
    "path = '../data/toptens.csv'\n",
    "\n",
    "def save_topten_data(filename, N=40):\n",
    "    '''10 * 4000 / 60 / 60 = 11h\n",
    "    '''\n",
    "    data = pro.query('stock_basic', \n",
    "                 exchange='', \n",
    "                 list_status='L', \n",
    "                 fields='ts_code,symbol,name,area,industry,market,list_date,list_status')\n",
    "\n",
    "    toptens = []\n",
    "    for i, code in enumerate(data.ts_code):\n",
    "        topten = pro.query('top10_floatholders', ts_code=code).loc[:N+20, :].drop_duplicates().loc[:N, :]\n",
    "        toptens.append(topten)\n",
    "        \n",
    "        time.sleep(6.1)\n",
    "        \n",
    "    toptens = pd.concat(toptens)\n",
    "    toptens.to_csv(filename, sep='\\t')\n",
    "    \n",
    "if not os.path.exists(path):\n",
    "    save_topten_data(path)"
   ]
  },
  {
   "cell_type": "code",
   "execution_count": null,
   "metadata": {},
   "outputs": [],
   "source": []
  },
  {
   "cell_type": "code",
   "execution_count": null,
   "metadata": {},
   "outputs": [],
   "source": []
  },
  {
   "cell_type": "code",
   "execution_count": 81,
   "metadata": {},
   "outputs": [
    {
     "name": "stdout",
     "output_type": "stream",
     "text": [
      "20201102 20210501\n"
     ]
    },
    {
     "data": {
      "text/html": [
       "<div>\n",
       "<style scoped>\n",
       "    .dataframe tbody tr th:only-of-type {\n",
       "        vertical-align: middle;\n",
       "    }\n",
       "\n",
       "    .dataframe tbody tr th {\n",
       "        vertical-align: top;\n",
       "    }\n",
       "\n",
       "    .dataframe thead th {\n",
       "        text-align: right;\n",
       "    }\n",
       "</style>\n",
       "<table border=\"1\" class=\"dataframe\">\n",
       "  <thead>\n",
       "    <tr style=\"text-align: right;\">\n",
       "      <th></th>\n",
       "      <th>ts_code</th>\n",
       "      <th>ann_date</th>\n",
       "      <th>end_date</th>\n",
       "      <th>holder_name</th>\n",
       "      <th>hold_amount</th>\n",
       "      <th>name</th>\n",
       "    </tr>\n",
       "  </thead>\n",
       "  <tbody>\n",
       "    <tr>\n",
       "      <th>0</th>\n",
       "      <td>600000.SH</td>\n",
       "      <td>20210430</td>\n",
       "      <td>20210331</td>\n",
       "      <td>上海国际集团有限公司</td>\n",
       "      <td>6.331323e+09</td>\n",
       "      <td>浦发银行</td>\n",
       "    </tr>\n",
       "    <tr>\n",
       "      <th>1</th>\n",
       "      <td>600000.SH</td>\n",
       "      <td>20210430</td>\n",
       "      <td>20210331</td>\n",
       "      <td>中国移动通信集团广东有限公司</td>\n",
       "      <td>5.334893e+09</td>\n",
       "      <td>浦发银行</td>\n",
       "    </tr>\n",
       "    <tr>\n",
       "      <th>2</th>\n",
       "      <td>600000.SH</td>\n",
       "      <td>20210430</td>\n",
       "      <td>20210331</td>\n",
       "      <td>富德生命人寿保险股份有限公司-传统</td>\n",
       "      <td>2.779437e+09</td>\n",
       "      <td>浦发银行</td>\n",
       "    </tr>\n",
       "    <tr>\n",
       "      <th>3</th>\n",
       "      <td>600000.SH</td>\n",
       "      <td>20210430</td>\n",
       "      <td>20210331</td>\n",
       "      <td>富德生命人寿保险股份有限公司-资本金</td>\n",
       "      <td>1.763232e+09</td>\n",
       "      <td>浦发银行</td>\n",
       "    </tr>\n",
       "    <tr>\n",
       "      <th>4</th>\n",
       "      <td>600000.SH</td>\n",
       "      <td>20210430</td>\n",
       "      <td>20210331</td>\n",
       "      <td>上海上国投资产管理有限公司</td>\n",
       "      <td>1.395571e+09</td>\n",
       "      <td>浦发银行</td>\n",
       "    </tr>\n",
       "    <tr>\n",
       "      <th>5</th>\n",
       "      <td>600000.SH</td>\n",
       "      <td>20210430</td>\n",
       "      <td>20210331</td>\n",
       "      <td>富德生命人寿保险股份有限公司-万能H</td>\n",
       "      <td>1.270429e+09</td>\n",
       "      <td>浦发银行</td>\n",
       "    </tr>\n",
       "    <tr>\n",
       "      <th>6</th>\n",
       "      <td>600000.SH</td>\n",
       "      <td>20210430</td>\n",
       "      <td>20210331</td>\n",
       "      <td>中国证券金融股份有限公司</td>\n",
       "      <td>1.179109e+09</td>\n",
       "      <td>浦发银行</td>\n",
       "    </tr>\n",
       "    <tr>\n",
       "      <th>7</th>\n",
       "      <td>600000.SH</td>\n",
       "      <td>20210430</td>\n",
       "      <td>20210331</td>\n",
       "      <td>上海国鑫投资发展有限公司</td>\n",
       "      <td>9.455690e+08</td>\n",
       "      <td>浦发银行</td>\n",
       "    </tr>\n",
       "    <tr>\n",
       "      <th>8</th>\n",
       "      <td>600000.SH</td>\n",
       "      <td>20210430</td>\n",
       "      <td>20210331</td>\n",
       "      <td>香港中央结算有限公司(陆股通)</td>\n",
       "      <td>5.495415e+08</td>\n",
       "      <td>浦发银行</td>\n",
       "    </tr>\n",
       "    <tr>\n",
       "      <th>9</th>\n",
       "      <td>600000.SH</td>\n",
       "      <td>20210430</td>\n",
       "      <td>20210331</td>\n",
       "      <td>中央汇金资产管理有限责任公司</td>\n",
       "      <td>3.985214e+08</td>\n",
       "      <td>浦发银行</td>\n",
       "    </tr>\n",
       "    <tr>\n",
       "      <th>10</th>\n",
       "      <td>600000.SH</td>\n",
       "      <td>20210327</td>\n",
       "      <td>20201231</td>\n",
       "      <td>上海国际集团有限公司</td>\n",
       "      <td>6.331323e+09</td>\n",
       "      <td>浦发银行</td>\n",
       "    </tr>\n",
       "  </tbody>\n",
       "</table>\n",
       "</div>"
      ],
      "text/plain": [
       "      ts_code  ann_date  end_date         holder_name   hold_amount  name\n",
       "0   600000.SH  20210430  20210331          上海国际集团有限公司  6.331323e+09  浦发银行\n",
       "1   600000.SH  20210430  20210331      中国移动通信集团广东有限公司  5.334893e+09  浦发银行\n",
       "2   600000.SH  20210430  20210331   富德生命人寿保险股份有限公司-传统  2.779437e+09  浦发银行\n",
       "3   600000.SH  20210430  20210331  富德生命人寿保险股份有限公司-资本金  1.763232e+09  浦发银行\n",
       "4   600000.SH  20210430  20210331       上海上国投资产管理有限公司  1.395571e+09  浦发银行\n",
       "5   600000.SH  20210430  20210331  富德生命人寿保险股份有限公司-万能H  1.270429e+09  浦发银行\n",
       "6   600000.SH  20210430  20210331        中国证券金融股份有限公司  1.179109e+09  浦发银行\n",
       "7   600000.SH  20210430  20210331        上海国鑫投资发展有限公司  9.455690e+08  浦发银行\n",
       "8   600000.SH  20210430  20210331     香港中央结算有限公司(陆股通)  5.495415e+08  浦发银行\n",
       "9   600000.SH  20210430  20210331      中央汇金资产管理有限责任公司  3.985214e+08  浦发银行\n",
       "10  600000.SH  20210327  20201231          上海国际集团有限公司  6.331323e+09  浦发银行"
      ]
     },
     "execution_count": 81,
     "metadata": {},
     "output_type": "execute_result"
    }
   ],
   "source": [
    "# datetime\n",
    "stime = time.strftime('%Y%m%d',  time.localtime(time.time() - 86400 * 6 * 30))\n",
    "ctime = time.strftime('%Y%m%d',  time.localtime(time.time()))\n",
    "print(stime, ctime)\n",
    "\n",
    "code = '600000.SH'\n",
    "# df = pro.query('top10_floatholders', ts_code=code, start_date=stime, end_date=ctime)\n",
    "df = pro.query('top10_floatholders', ts_code=code,).loc[:30, :].drop_duplicates().loc[:10, :]\n",
    "df['name'] = stock_basic[stock_basic.ts_code == code].name.values[0]\n",
    "\n",
    "df"
   ]
  },
  {
   "cell_type": "code",
   "execution_count": null,
   "metadata": {},
   "outputs": [],
   "source": []
  },
  {
   "cell_type": "code",
   "execution_count": 10,
   "metadata": {},
   "outputs": [],
   "source": [
    "# analysis-01"
   ]
  },
  {
   "cell_type": "code",
   "execution_count": 11,
   "metadata": {},
   "outputs": [],
   "source": [
    "names = ['进化论']"
   ]
  },
  {
   "cell_type": "code",
   "execution_count": 17,
   "metadata": {},
   "outputs": [],
   "source": [
    "final_code = []\n",
    "\n",
    "for code in data.ts_code:\n",
    "    # print(type(code), code)\n",
    "    topten = pro.query('top10_floatholders', ts_code=code,).loc[:30, :].drop_duplicates().loc[:10, :]\n",
    "    \n",
    "    time.sleep(10) # 抱歉，您每分钟最多访问该接口10次，\n",
    "    \n",
    "    break\n",
    "#     for holder in topten.holder_name:\n",
    "#         if names[0] in holder:\n",
    "#             # print(code)\n",
    "#             final_code.append(code)\n",
    "#             break\n",
    "    "
   ]
  },
  {
   "cell_type": "code",
   "execution_count": null,
   "metadata": {},
   "outputs": [],
   "source": []
  },
  {
   "cell_type": "code",
   "execution_count": 18,
   "metadata": {},
   "outputs": [
    {
     "name": "stdout",
     "output_type": "stream",
     "text": [
      "香港中央结算有限公司(陆股通)\n",
      "中国平安人寿保险股份有限公司-自有资金\n",
      "中国平安人寿保险股份有限公司-传统-普通保险产品\n",
      "中国证券金融股份有限公司\n",
      "中国银行股份有限公司-易方达蓝筹精选混合型证券投资基金\n",
      "招商银行股份有限公司-兴全合润混合型证券投资基金\n",
      "深圳中电投资股份有限公司\n",
      "中国光大银行股份有限公司-兴全商业模式优选混合型证券投资基金(LOF)\n",
      "全国社保基金一一七组合\n",
      "中国平安保险(集团)股份有限公司-集团本级-自有资金\n",
      "中国平安人寿保险股份有限公司-自有资金\n"
     ]
    }
   ],
   "source": [
    "for n in topten.holder_name:\n",
    "    print(n)"
   ]
  },
  {
   "cell_type": "code",
   "execution_count": 24,
   "metadata": {},
   "outputs": [
    {
     "data": {
      "text/plain": [
       "(62, 5)"
      ]
     },
     "execution_count": 24,
     "metadata": {},
     "output_type": "execute_result"
    }
   ],
   "source": [
    "np.concatenate([np.array(topten), np.array(topten)], axis=0).shape"
   ]
  },
  {
   "cell_type": "code",
   "execution_count": 22,
   "metadata": {},
   "outputs": [
    {
     "data": {
      "text/plain": [
       "(31, 5)"
      ]
     },
     "execution_count": 22,
     "metadata": {},
     "output_type": "execute_result"
    }
   ],
   "source": [
    "np.array(topten).shape"
   ]
  },
  {
   "cell_type": "code",
   "execution_count": 26,
   "metadata": {},
   "outputs": [],
   "source": [
    "np.save('test.npy', np.array(topten))"
   ]
  },
  {
   "cell_type": "code",
   "execution_count": 31,
   "metadata": {},
   "outputs": [
    {
     "data": {
      "text/html": [
       "<div>\n",
       "<style scoped>\n",
       "    .dataframe tbody tr th:only-of-type {\n",
       "        vertical-align: middle;\n",
       "    }\n",
       "\n",
       "    .dataframe tbody tr th {\n",
       "        vertical-align: top;\n",
       "    }\n",
       "\n",
       "    .dataframe thead th {\n",
       "        text-align: right;\n",
       "    }\n",
       "</style>\n",
       "<table border=\"1\" class=\"dataframe\">\n",
       "  <thead>\n",
       "    <tr style=\"text-align: right;\">\n",
       "      <th></th>\n",
       "      <th>ts_code</th>\n",
       "      <th>ann_date</th>\n",
       "      <th>end_date</th>\n",
       "      <th>holder_name</th>\n",
       "      <th>hold_amount</th>\n",
       "    </tr>\n",
       "  </thead>\n",
       "  <tbody>\n",
       "    <tr>\n",
       "      <th>0</th>\n",
       "      <td>300014.SZ</td>\n",
       "      <td>20201029</td>\n",
       "      <td>20200930</td>\n",
       "      <td>西藏亿纬控股有限公司</td>\n",
       "      <td>607407917.0</td>\n",
       "    </tr>\n",
       "    <tr>\n",
       "      <th>1</th>\n",
       "      <td>300014.SZ</td>\n",
       "      <td>20201029</td>\n",
       "      <td>20200930</td>\n",
       "      <td>汇安基金-华能信托·博远惠诚集合资金信托计划-汇安基金-汇鑫32号单一资产管理计划</td>\n",
       "      <td>68606307.0</td>\n",
       "    </tr>\n",
       "    <tr>\n",
       "      <th>2</th>\n",
       "      <td>300014.SZ</td>\n",
       "      <td>20201029</td>\n",
       "      <td>20200930</td>\n",
       "      <td>香港中央结算有限公司(陆股通)</td>\n",
       "      <td>47850648.0</td>\n",
       "    </tr>\n",
       "    <tr>\n",
       "      <th>3</th>\n",
       "      <td>300014.SZ</td>\n",
       "      <td>20201029</td>\n",
       "      <td>20200930</td>\n",
       "      <td>中国建设银行股份有限公司-广发科技先锋混合型证券投资基金</td>\n",
       "      <td>36406666.0</td>\n",
       "    </tr>\n",
       "    <tr>\n",
       "      <th>4</th>\n",
       "      <td>300014.SZ</td>\n",
       "      <td>20201029</td>\n",
       "      <td>20200930</td>\n",
       "      <td>中国工商银行股份有限公司-广发双擎升级混合型证券投资基金</td>\n",
       "      <td>24851110.0</td>\n",
       "    </tr>\n",
       "    <tr>\n",
       "      <th>...</th>\n",
       "      <td>...</td>\n",
       "      <td>...</td>\n",
       "      <td>...</td>\n",
       "      <td>...</td>\n",
       "      <td>...</td>\n",
       "    </tr>\n",
       "    <tr>\n",
       "      <th>26</th>\n",
       "      <td>300014.SZ</td>\n",
       "      <td>20200425</td>\n",
       "      <td>20200331</td>\n",
       "      <td>骆锦红</td>\n",
       "      <td>12729189.0</td>\n",
       "    </tr>\n",
       "    <tr>\n",
       "      <th>27</th>\n",
       "      <td>300014.SZ</td>\n",
       "      <td>20200425</td>\n",
       "      <td>20200331</td>\n",
       "      <td>中国工商银行股份有限公司-广发双擎升级混合型证券投资基金</td>\n",
       "      <td>11073520.0</td>\n",
       "    </tr>\n",
       "    <tr>\n",
       "      <th>28</th>\n",
       "      <td>300014.SZ</td>\n",
       "      <td>20200425</td>\n",
       "      <td>20200331</td>\n",
       "      <td>中国建设银行股份有限公司-交银施罗德经济新动力混合型证券投资基金</td>\n",
       "      <td>10305580.0</td>\n",
       "    </tr>\n",
       "    <tr>\n",
       "      <th>29</th>\n",
       "      <td>300014.SZ</td>\n",
       "      <td>20200425</td>\n",
       "      <td>20200331</td>\n",
       "      <td>中国银行股份有限公司-华夏中证新能源汽车交易型开放式指数证券投资基金</td>\n",
       "      <td>9396842.0</td>\n",
       "    </tr>\n",
       "    <tr>\n",
       "      <th>30</th>\n",
       "      <td>300014.SZ</td>\n",
       "      <td>20200425</td>\n",
       "      <td>20200331</td>\n",
       "      <td>上海浦东发展银行股份有限公司-广发小盘成长混合型证券投资基金(LOF)</td>\n",
       "      <td>8911520.0</td>\n",
       "    </tr>\n",
       "  </tbody>\n",
       "</table>\n",
       "<p>62 rows × 5 columns</p>\n",
       "</div>"
      ],
      "text/plain": [
       "      ts_code  ann_date  end_date                                holder_name  \\\n",
       "0   300014.SZ  20201029  20200930                                 西藏亿纬控股有限公司   \n",
       "1   300014.SZ  20201029  20200930  汇安基金-华能信托·博远惠诚集合资金信托计划-汇安基金-汇鑫32号单一资产管理计划   \n",
       "2   300014.SZ  20201029  20200930                            香港中央结算有限公司(陆股通)   \n",
       "3   300014.SZ  20201029  20200930               中国建设银行股份有限公司-广发科技先锋混合型证券投资基金   \n",
       "4   300014.SZ  20201029  20200930               中国工商银行股份有限公司-广发双擎升级混合型证券投资基金   \n",
       "..        ...       ...       ...                                        ...   \n",
       "26  300014.SZ  20200425  20200331                                        骆锦红   \n",
       "27  300014.SZ  20200425  20200331               中国工商银行股份有限公司-广发双擎升级混合型证券投资基金   \n",
       "28  300014.SZ  20200425  20200331           中国建设银行股份有限公司-交银施罗德经济新动力混合型证券投资基金   \n",
       "29  300014.SZ  20200425  20200331         中国银行股份有限公司-华夏中证新能源汽车交易型开放式指数证券投资基金   \n",
       "30  300014.SZ  20200425  20200331        上海浦东发展银行股份有限公司-广发小盘成长混合型证券投资基金(LOF)   \n",
       "\n",
       "    hold_amount  \n",
       "0   607407917.0  \n",
       "1    68606307.0  \n",
       "2    47850648.0  \n",
       "3    36406666.0  \n",
       "4    24851110.0  \n",
       "..          ...  \n",
       "26   12729189.0  \n",
       "27   11073520.0  \n",
       "28   10305580.0  \n",
       "29    9396842.0  \n",
       "30    8911520.0  \n",
       "\n",
       "[62 rows x 5 columns]"
      ]
     },
     "execution_count": 31,
     "metadata": {},
     "output_type": "execute_result"
    }
   ],
   "source": [
    "pd.concat([topten, topten])"
   ]
  },
  {
   "cell_type": "code",
   "execution_count": null,
   "metadata": {},
   "outputs": [],
   "source": []
  }
 ],
 "metadata": {
  "kernelspec": {
   "display_name": "Python 3",
   "language": "python",
   "name": "python3"
  },
  "language_info": {
   "codemirror_mode": {
    "name": "ipython",
    "version": 3
   },
   "file_extension": ".py",
   "mimetype": "text/x-python",
   "name": "python",
   "nbconvert_exporter": "python",
   "pygments_lexer": "ipython3",
   "version": "3.8.5"
  }
 },
 "nbformat": 4,
 "nbformat_minor": 4
}
