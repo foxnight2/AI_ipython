{
 "cells": [
  {
   "cell_type": "code",
   "execution_count": 1,
   "metadata": {},
   "outputs": [],
   "source": [
    "import autograd\n",
    "from functools import reduce\n",
    "import numpy as np\n",
    "import matplotlib.pyplot as plt\n",
    "\n",
    "import torch"
   ]
  },
  {
   "cell_type": "markdown",
   "metadata": {},
   "source": [
    "# Data"
   ]
  },
  {
   "cell_type": "code",
   "execution_count": 2,
   "metadata": {},
   "outputs": [],
   "source": [
    "_data = np.pi * (np.random.rand(10000, 1) * 2 - 1)\n",
    "_label = np.cos(_data) + 2 "
   ]
  },
  {
   "cell_type": "code",
   "execution_count": 3,
   "metadata": {},
   "outputs": [
    {
     "data": {
      "text/plain": [
       "<matplotlib.collections.PathCollection at 0x7f971066f9e8>"
      ]
     },
     "execution_count": 3,
     "metadata": {},
     "output_type": "execute_result"
    },
    {
     "data": {
      "image/png": "[encoded data removed]",
      "text/plain": [
       "<Figure size 432x288 with 1 Axes>"
      ]
     },
     "metadata": {
      "needs_background": "light"
     },
     "output_type": "display_data"
    }
   ],
   "source": [
    "plt.scatter(_data, _label)"
   ]
  },
  {
   "cell_type": "markdown",
   "metadata": {},
   "source": [
    "# Pytorch"
   ]
  },
  {
   "cell_type": "code",
   "execution_count": 53,
   "metadata": {},
   "outputs": [
    {
     "name": "stdout",
     "output_type": "stream",
     "text": [
      "Parameter containing:\n",
      "tensor([ 0.0638,  0.3249,  0.5083,  0.3467,  0.7516, -0.7928,  0.0590,  0.8775,\n",
      "        -0.3495, -0.7259,  0.1409, -0.7183, -0.5375,  0.2223,  0.5024,  0.1949,\n",
      "        -0.3445,  0.7743, -0.2592, -0.3917,  0.5678,  0.4878, -0.0292,  0.9831,\n",
      "        -0.1062,  0.8928,  0.4873, -0.6441, -0.3869, -0.4128, -0.3995,  0.9203],\n",
      "       requires_grad=True)\n"
     ]
    }
   ],
   "source": [
    "m = torch.nn.Linear(1, 32)\n",
    "print(list(m.parameters())[1])"
   ]
  },
  {
   "cell_type": "code",
   "execution_count": 54,
   "metadata": {},
   "outputs": [
    {
     "name": "stdout",
     "output_type": "stream",
     "text": [
      "0 4.2626495361328125\n",
      "100 0.08403956145048141\n",
      "200 0.010923219844698906\n",
      "300 0.00204474781639874\n",
      "400 0.0012748800218105316\n"
     ]
    },
    {
     "data": {
      "text/plain": [
       "<matplotlib.collections.PathCollection at 0x7f47390884a8>"
      ]
     },
     "execution_count": 54,
     "metadata": {},
     "output_type": "execute_result"
    },
    {
     "data": {
      "image/png": "[encoded data removed]",
      "text/plain": [
       "<Figure size 432x288 with 1 Axes>"
      ]
     },
     "metadata": {
      "needs_background": "light"
     },
     "output_type": "display_data"
    }
   ],
   "source": [
    "mm = torch.nn.Sequential(torch.nn.Linear(1, 32), \n",
    "                         torch.nn.Tanh(), \n",
    "                         torch.nn.Linear(32, 32),\n",
    "                         torch.nn.Tanh(),\n",
    "                         torch.nn.Linear(32, 1))\n",
    "\n",
    "def train(mm):\n",
    "    \n",
    "    data = torch.tensor(_data, dtype=torch.float32)\n",
    "    label = torch.tensor(_label, dtype=torch.float32)\n",
    "    \n",
    "    for i in range(500):\n",
    "        \n",
    "        out = mm(data)\n",
    "        loss = ((out-label)**2).mean()\n",
    "        \n",
    "        mm.zero_grad()\n",
    "        loss.backward()\n",
    "        for p in mm.parameters():\n",
    "            p.data.sub_(0.01 * p.grad.data)\n",
    "\n",
    "        if i % 100 == 0:\n",
    "            print(i, loss.item())\n",
    "\n",
    "train(mm)\n",
    "\n",
    "\n",
    "plt.scatter(_data, mm(torch.tensor(_data, dtype=torch.float32)).data.numpy())"
   ]
  },
  {
   "cell_type": "code",
   "execution_count": null,
   "metadata": {},
   "outputs": [],
   "source": []
  },
  {
   "cell_type": "markdown",
   "metadata": {},
   "source": [
    "# Tensor"
   ]
  },
  {
   "cell_type": "code",
   "execution_count": 55,
   "metadata": {},
   "outputs": [],
   "source": [
    "class Model(autograd.Module):\n",
    "    def __init__(self, ):\n",
    "        super().__init__()\n",
    "        self.l1 = autograd.Linear(1, 32)\n",
    "        self.l2 = autograd.Linear(32, 32)\n",
    "        self.l3 = autograd.Linear(32, 1)\n",
    "    \n",
    "        self.w1 = autograd.Parameter(1, 32)\n",
    "        self.b1 = autograd.Parameter(32)\n",
    "        self.w2 = autograd.Parameter(32, 32)\n",
    "        self.b2 = autograd.Parameter(32)\n",
    "        self.w3 = autograd.Parameter(32, 1)\n",
    "        self.b3 = autograd.Parameter(1)\n",
    "        \n",
    "    def forward(self, data):\n",
    "        out = autograd.tanh(self.l1(data))\n",
    "        out = autograd.tanh(self.l2(out))\n",
    "        out = self.l3(out)\n",
    "        # out = autograd.relu(data @ self.w1 + self.b1)\n",
    "        # out = autograd.relu(out @ self.w2 + self.b2)\n",
    "        # out = out @ self.w3 + self.b3\n",
    "        \n",
    "        return out"
   ]
  },
  {
   "cell_type": "code",
   "execution_count": 56,
   "metadata": {},
   "outputs": [
    {
     "name": "stdout",
     "output_type": "stream",
     "text": [
      "Model.b1 (32,) 139943876458256 Tensor(3.8146589694445505, requires_grad=True)\n"
     ]
    }
   ],
   "source": [
    "model = Model()\n",
    "for n, p in model.named_parameters():\n",
    "    print(n, p.shape, id(p), p.sum())\n",
    "    break"
   ]
  },
  {
   "cell_type": "code",
   "execution_count": 57,
   "metadata": {},
   "outputs": [
    {
     "name": "stdout",
     "output_type": "stream",
     "text": [
      "0 5.967035472306511\n",
      "100 0.02041413409053672\n",
      "200 0.003870165616701825\n",
      "300 0.00263710417019857\n",
      "400 0.0020980648230530504\n"
     ]
    },
    {
     "data": {
      "text/plain": [
       "<matplotlib.collections.PathCollection at 0x7f473905ea58>"
      ]
     },
     "execution_count": 57,
     "metadata": {},
     "output_type": "execute_result"
    },
    {
     "data": {
      "image/png": "[encoded data removed]",
      "text/plain": [
       "<Figure size 432x288 with 1 Axes>"
      ]
     },
     "metadata": {
      "needs_background": "light"
     },
     "output_type": "display_data"
    }
   ],
   "source": [
    "model = Model()\n",
    "\n",
    "def train(model):\n",
    "    \n",
    "    data = autograd.Tensor(_data)\n",
    "    label = autograd.Tensor(_label)\n",
    "\n",
    "    lr = 0.01\n",
    "    \n",
    "    for i in range(500):\n",
    "        \n",
    "        model.zero_grad()\n",
    "        \n",
    "        out = model(data)\n",
    "        loss = ((out - label) ** 2).mean()\n",
    "        loss.backward()\n",
    "        \n",
    "        for p in model.parameters():\n",
    "            p.sub_(p.grad * lr)\n",
    "            \n",
    "        if i % 100 == 0:\n",
    "            print(i, loss.data)\n",
    "\n",
    "train(model)\n",
    "\n",
    "plt.scatter(_data, model(autograd.Tensor(_data)).data)"
   ]
  },
  {
   "cell_type": "markdown",
   "metadata": {},
   "source": [
    "# Variable"
   ]
  },
  {
   "cell_type": "code",
   "execution_count": 7,
   "metadata": {},
   "outputs": [
    {
     "name": "stdout",
     "output_type": "stream",
     "text": [
      "0 3.8338000959809784\n",
      "200 0.01800979695135662\n",
      "400 0.008133866760339954\n"
     ]
    },
    {
     "data": {
      "text/plain": [
       "<matplotlib.collections.PathCollection at 0x7f971045dac8>"
      ]
     },
     "execution_count": 7,
     "metadata": {},
     "output_type": "execute_result"
    },
    {
     "data": {
      "image/png": "[encoded data removed]",
      "text/plain": [
       "<Figure size 432x288 with 1 Axes>"
      ]
     },
     "metadata": {
      "needs_background": "light"
     },
     "output_type": "display_data"
    }
   ],
   "source": [
    "from autograd import variable as L\n",
    "\n",
    "class Model(L.Module):\n",
    "    def __init__(self, ):\n",
    "        super().__init__()\n",
    "        self.l1 = L.Linear(1, 32)\n",
    "        self.l2 = L.Linear(32, 32)\n",
    "        self.l3 = L.Linear(32, 1)\n",
    "        \n",
    "    def forward(self, data):\n",
    "        out = self.l1(data).tanh()\n",
    "        out = self.l2(out).tanh()\n",
    "        out = self.l3(out)        \n",
    "        return out\n",
    "\n",
    "def train(model):\n",
    "    ''''''\n",
    "    data = L.Variable(_data)\n",
    "    label = L.Variable(_label)\n",
    "    lr = 0.01\n",
    "\n",
    "    for i in range(500):\n",
    "        \n",
    "        model.zero_grad()\n",
    "        out = model(data)\n",
    "        loss = ((out - label) ** 2).mean()\n",
    "        loss.backward()\n",
    "        \n",
    "        for p in model.parameters():\n",
    "            p.data -= p.grad * lr\n",
    "            \n",
    "        if i % 200 == 0:\n",
    "            print(i, loss.data)\n",
    "\n",
    "model = Model()\n",
    "train(model)\n",
    "\n",
    "plt.scatter(_data, model(L.Variable(_data)).data)"
   ]
  },
  {
   "cell_type": "markdown",
   "metadata": {},
   "source": [
    "# Linear"
   ]
  },
  {
   "cell_type": "code",
   "execution_count": 10,
   "metadata": {},
   "outputs": [
    {
     "name": "stdout",
     "output_type": "stream",
     "text": [
      "1.7.1+cpu\n"
     ]
    }
   ],
   "source": [
    "import torch\n",
    "print(torch.__version__)"
   ]
  },
  {
   "cell_type": "code",
   "execution_count": 11,
   "metadata": {},
   "outputs": [],
   "source": [
    "a = np.random.rand(3, 10)\n",
    "b = np.random.rand(10, 4)\n",
    "c = np.random.rand(4)"
   ]
  },
  {
   "cell_type": "code",
   "execution_count": 12,
   "metadata": {},
   "outputs": [
    {
     "name": "stdout",
     "output_type": "stream",
     "text": [
      "tensor([[0.1869, 0.1578, 0.2445, 0.0844, 0.1781, 0.1685, 0.2248, 0.1689, 0.2294,\n",
      "         0.1556],\n",
      "        [0.1869, 0.1578, 0.2445, 0.0844, 0.1781, 0.1685, 0.2248, 0.1689, 0.2294,\n",
      "         0.1556],\n",
      "        [0.1869, 0.1578, 0.2445, 0.0844, 0.1781, 0.1685, 0.2248, 0.1689, 0.2294,\n",
      "         0.1556]], dtype=torch.float64)\n",
      "tensor([[0.1649, 0.1649, 0.1649, 0.1649],\n",
      "        [0.1437, 0.1437, 0.1437, 0.1437],\n",
      "        [0.1629, 0.1629, 0.1629, 0.1629],\n",
      "        [0.1172, 0.1172, 0.1172, 0.1172],\n",
      "        [0.1809, 0.1809, 0.1809, 0.1809],\n",
      "        [0.1158, 0.1158, 0.1158, 0.1158],\n",
      "        [0.1299, 0.1299, 0.1299, 0.1299],\n",
      "        [0.1790, 0.1790, 0.1790, 0.1790],\n",
      "        [0.1385, 0.1385, 0.1385, 0.1385],\n",
      "        [0.0877, 0.0877, 0.0877, 0.0877]], dtype=torch.float64)\n",
      "tensor([0.2500, 0.2500, 0.2500, 0.2500], dtype=torch.float64)\n"
     ]
    }
   ],
   "source": [
    "x = torch.tensor(a, requires_grad=True)\n",
    "m = torch.tensor(b, requires_grad=True)\n",
    "k = torch.tensor(c, requires_grad=True)\n",
    "y = x @ m + k\n",
    "y = y.mean()\n",
    "y.backward()\n",
    "\n",
    "print(x.grad)\n",
    "print(m.grad)\n",
    "print(k.grad)"
   ]
  },
  {
   "cell_type": "code",
   "execution_count": 13,
   "metadata": {},
   "outputs": [
    {
     "name": "stdout",
     "output_type": "stream",
     "text": [
      "Tensor([[0.18688144 0.15779882 0.24448769 0.08436911 0.17809448 0.16852404\n",
      "  0.22479413 0.16887422 0.22936624 0.15561448]\n",
      " [0.18688144 0.15779882 0.24448769 0.08436911 0.17809448 0.16852404\n",
      "  0.22479413 0.16887422 0.22936624 0.15561448]\n",
      " [0.18688144 0.15779882 0.24448769 0.08436911 0.17809448 0.16852404\n",
      "  0.22479413 0.16887422 0.22936624 0.15561448]], requires_grad=False)\n",
      "Tensor([[0.16492404 0.16492404 0.16492404 0.16492404]\n",
      " [0.14368615 0.14368615 0.14368615 0.14368615]\n",
      " [0.16292484 0.16292484 0.16292484 0.16292484]\n",
      " [0.11715305 0.11715305 0.11715305 0.11715305]\n",
      " [0.18091596 0.18091596 0.18091596 0.18091596]\n",
      " [0.11580235 0.11580235 0.11580235 0.11580235]\n",
      " [0.12991462 0.12991462 0.12991462 0.12991462]\n",
      " [0.17895063 0.17895063 0.17895063 0.17895063]\n",
      " [0.1385025  0.1385025  0.1385025  0.1385025 ]\n",
      " [0.0877447  0.0877447  0.0877447  0.0877447 ]], requires_grad=False)\n",
      "Tensor([0.25 0.25 0.25 0.25], requires_grad=False)\n"
     ]
    }
   ],
   "source": [
    "x = autograd.Tensor(a, requires_grad=True)\n",
    "m = autograd.Tensor(b, requires_grad=True)\n",
    "k = autograd.Tensor(c, requires_grad=True)\n",
    "y = x @ m + k\n",
    "y = y.mean()\n",
    "y.backward()\n",
    "\n",
    "print(x.grad)\n",
    "print(m.grad)\n",
    "print(k.grad)"
   ]
  },
  {
   "cell_type": "code",
   "execution_count": 14,
   "metadata": {},
   "outputs": [
    {
     "name": "stdout",
     "output_type": "stream",
     "text": [
      "tensor([[0.0245, 0.0259, 0.0316, 0.0225, 0.0223, 0.0308, 0.0317, 0.0257, 0.0226,\n",
      "         0.0333],\n",
      "        [0.0146, 0.0309, 0.0144, 0.0275, 0.0171, 0.0330, 0.0160, 0.0193, 0.0290,\n",
      "         0.0148],\n",
      "        [0.0277, 0.0155, 0.0201, 0.0303, 0.0224, 0.0140, 0.0281, 0.0174, 0.0227,\n",
      "         0.0333]], dtype=torch.float64)\n"
     ]
    }
   ],
   "source": [
    "x = torch.tensor(a, requires_grad=True)\n",
    "\n",
    "y = torch.tanh(x)\n",
    "y.mean().backward()\n",
    "\n",
    "print(x.grad)"
   ]
  },
  {
   "cell_type": "code",
   "execution_count": 15,
   "metadata": {},
   "outputs": [
    {
     "name": "stdout",
     "output_type": "stream",
     "text": [
      "Tensor([[0.02446465 0.02590858 0.03156002 0.02252485 0.02227831 0.03079199\n",
      "  0.03165118 0.02565502 0.02258633 0.03326203]\n",
      " [0.014609   0.03085709 0.01442654 0.02747511 0.01712319 0.03295664\n",
      "  0.01596533 0.01925116 0.0289865  0.01479992]\n",
      " [0.02770542 0.01549513 0.02013729 0.03028063 0.02237397 0.01401094\n",
      "  0.02810433 0.01743241 0.02270721 0.03327018]], requires_grad=False)\n"
     ]
    }
   ],
   "source": [
    "x = autograd.Tensor(a, requires_grad=True)\n",
    "\n",
    "y = autograd.tanh(x)\n",
    "y.mean().backward()\n",
    "\n",
    "print(x.grad)"
   ]
  },
  {
   "cell_type": "code",
   "execution_count": null,
   "metadata": {},
   "outputs": [],
   "source": []
  },
  {
   "cell_type": "markdown",
   "metadata": {},
   "source": [
    "# Conv"
   ]
  },
  {
   "cell_type": "code",
   "execution_count": 16,
   "metadata": {},
   "outputs": [],
   "source": [
    "data = np.random.rand(10, 3, 5, 5).astype(np.float32)\n",
    "# print(data)"
   ]
  },
  {
   "cell_type": "code",
   "execution_count": 17,
   "metadata": {},
   "outputs": [
    {
     "name": "stdout",
     "output_type": "stream",
     "text": [
      "torch.Size([10, 10, 3, 3])\n",
      "tensor(-0.0917, grad_fn=<MeanBackward0>)\n",
      "tensor(8.0405)\n",
      "tensor(1.0000)\n"
     ]
    }
   ],
   "source": [
    "tensor = torch.tensor(data, requires_grad=True)\n",
    "conv = torch.nn.Conv2d(3, 10, kernel_size=3, stride=2, padding=1, padding_mode='zeros')\n",
    "\n",
    "out = conv(tensor)\n",
    "print(out.shape)\n",
    "print(out.mean())\n",
    "\n",
    "out.mean().backward()\n",
    "# print(out)\n",
    "\n",
    "print(conv.weight.grad.sum())\n",
    "print(conv.bias.grad.sum())"
   ]
  },
  {
   "cell_type": "code",
   "execution_count": 18,
   "metadata": {},
   "outputs": [
    {
     "name": "stdout",
     "output_type": "stream",
     "text": [
      "(10, 10, 3, 3)\n",
      "-0.0916984538128585\n",
      "8.040525464707752\n",
      "0.9999999999999999\n"
     ]
    }
   ],
   "source": [
    "from autograd import variable\n",
    "\n",
    "conv2 = variable.Conv2d(3, 10, kernel_size=3, stride=2, padding=1)\n",
    "conv2.weight.data = conv.weight.data.numpy()\n",
    "conv2.bias.data = conv.bias.data.numpy()\n",
    "\n",
    "var = variable.Variable( data, requires_grad=True ) \n",
    "out2 = conv2(var)\n",
    "\n",
    "print(out2.shape)\n",
    "print(out2.mean().data)\n",
    "\n",
    "out2.mean().backward()\n",
    "# print(out2.data)\n",
    "\n",
    "print(conv2.weight.grad.sum())\n",
    "print(conv2.bias.grad.sum())"
   ]
  },
  {
   "cell_type": "code",
   "execution_count": 19,
   "metadata": {},
   "outputs": [],
   "source": [
    "np.testing.assert_almost_equal(conv.weight.grad.data.numpy(), conv2.weight.grad, decimal=2)\n",
    "np.testing.assert_almost_equal(conv.bias.grad.data.numpy(), conv2.bias.grad, decimal=2)"
   ]
  },
  {
   "cell_type": "code",
   "execution_count": 20,
   "metadata": {},
   "outputs": [],
   "source": [
    "np.testing.assert_almost_equal(tensor.grad.data.numpy(), var.grad, decimal=2)"
   ]
  },
  {
   "cell_type": "markdown",
   "metadata": {},
   "source": [
    "# Pool"
   ]
  },
  {
   "cell_type": "markdown",
   "metadata": {},
   "source": [
    "## MaxPool"
   ]
  },
  {
   "cell_type": "code",
   "execution_count": 21,
   "metadata": {},
   "outputs": [],
   "source": [
    "data = np.random.rand(10, 3, 5, 5).astype(np.float32)\n",
    "# print(data)"
   ]
  },
  {
   "cell_type": "code",
   "execution_count": 22,
   "metadata": {},
   "outputs": [
    {
     "name": "stdout",
     "output_type": "stream",
     "text": [
      "maxpool,  tensor(226.1233, grad_fn=<SumBackward0>)\n",
      "tensor(1.)\n"
     ]
    }
   ],
   "source": [
    "maxpool = torch.nn.MaxPool2d(kernel_size=3, stride=2, padding=1)\n",
    "tensor = torch.tensor(data, requires_grad=True)\n",
    "out = maxpool(tensor)\n",
    "print('maxpool, ', out.sum())\n",
    "\n",
    "out.mean().backward()\n",
    "print(tensor.grad.sum())"
   ]
  },
  {
   "cell_type": "code",
   "execution_count": 23,
   "metadata": {},
   "outputs": [
    {
     "name": "stdout",
     "output_type": "stream",
     "text": [
      "226.12325838208199\n",
      "1.0\n"
     ]
    }
   ],
   "source": [
    "from autograd import variable\n",
    "\n",
    "var = variable.Variable(data, requires_grad=True)\n",
    "pool2 = variable.Pool2d(kernel_size=3, stride=2, padding=1)\n",
    "out = pool2(var)\n",
    "\n",
    "print(out.sum().data)\n",
    "\n",
    "out.mean().backward()\n",
    "print(var.grad.sum())"
   ]
  },
  {
   "cell_type": "code",
   "execution_count": 24,
   "metadata": {},
   "outputs": [],
   "source": [
    "np.testing.assert_almost_equal(tensor.grad.data.numpy(), var.grad, decimal=2)"
   ]
  },
  {
   "cell_type": "markdown",
   "metadata": {},
   "source": [
    "## AvgPool"
   ]
  },
  {
   "cell_type": "code",
   "execution_count": 25,
   "metadata": {},
   "outputs": [
    {
     "name": "stdout",
     "output_type": "stream",
     "text": [
      "avgpool,  tensor(80.9744, grad_fn=<SumBackward0>)\n",
      "tensor(0.6049)\n"
     ]
    }
   ],
   "source": [
    "tensor = torch.tensor(data, requires_grad=True)\n",
    "\n",
    "avgpool = torch.nn.AvgPool2d(kernel_size=3, stride=2, padding=1)\n",
    "out = avgpool(tensor)\n",
    "print('avgpool, ', out.sum())\n",
    "\n",
    "out.mean().backward()\n",
    "print(tensor.grad.sum())"
   ]
  },
  {
   "cell_type": "code",
   "execution_count": 26,
   "metadata": {},
   "outputs": [
    {
     "name": "stdout",
     "output_type": "stream",
     "text": [
      "80.97442700301568\n",
      "0.60493827\n"
     ]
    }
   ],
   "source": [
    "from autograd import variable\n",
    "\n",
    "var = variable.Variable(data, requires_grad=True)\n",
    "pool2 = variable.Pool2d(kernel_size=3, stride=2, padding=1, mode='avg')\n",
    "\n",
    "out = pool2(var)\n",
    "\n",
    "print(out.sum().data)\n",
    "\n",
    "out.mean().backward()\n",
    "print(var.grad.sum())"
   ]
  },
  {
   "cell_type": "code",
   "execution_count": 27,
   "metadata": {},
   "outputs": [],
   "source": [
    "np.testing.assert_almost_equal(tensor.grad.data.numpy(), var.grad, decimal=2)"
   ]
  },
  {
   "cell_type": "code",
   "execution_count": null,
   "metadata": {},
   "outputs": [],
   "source": []
  },
  {
   "cell_type": "markdown",
   "metadata": {},
   "source": [
    "# BN"
   ]
  },
  {
   "cell_type": "code",
   "execution_count": 28,
   "metadata": {},
   "outputs": [],
   "source": [
    "from autograd import variable\n",
    "import torch\n",
    "import numpy as np"
   ]
  },
  {
   "cell_type": "code",
   "execution_count": 29,
   "metadata": {},
   "outputs": [],
   "source": [
    "bn_var = variable.BatchNorm2d(8, eps=1e-5, momentum=0.1, affine=True, track_running_stats=True, training=True)\n",
    "bn = torch.nn.BatchNorm2d(8, eps=1e-5, momentum=0.1, affine=True, track_running_stats=True)"
   ]
  },
  {
   "cell_type": "code",
   "execution_count": 30,
   "metadata": {},
   "outputs": [
    {
     "name": "stdout",
     "output_type": "stream",
     "text": [
      "[1. 1. 1. 1. 1. 1. 1. 1.]\n",
      "[0. 0. 0. 0. 0. 0. 0. 0.]\n",
      " ----------- \n",
      "[1. 1. 1. 1. 1. 1. 1. 1.]\n",
      "[0. 0. 0. 0. 0. 0. 0. 0.]\n"
     ]
    }
   ],
   "source": [
    "print(bn.weight.data.numpy())\n",
    "print(bn.bias.data.numpy())\n",
    "print(' ----------- ')\n",
    "print(bn_var.weight.data)\n",
    "print(bn_var.bias.data)"
   ]
  },
  {
   "cell_type": "code",
   "execution_count": 31,
   "metadata": {},
   "outputs": [
    {
     "name": "stdout",
     "output_type": "stream",
     "text": [
      "-------------------------\n"
     ]
    }
   ],
   "source": [
    "from autograd import variable\n",
    "import torch\n",
    "import numpy as np\n",
    "\n",
    "data = np.random.rand(3, 8, 10, 10).astype(np.float32)\n",
    "bn = torch.nn.BatchNorm2d(8, eps=1e-5, momentum=0.1, affine=True, track_running_stats=True)\n",
    "bn_var = variable.BatchNorm2d(8, eps=1e-5, momentum=0.1, affine=True, track_running_stats=True, training=True)\n",
    "\n",
    "t = torch.tensor(data, requires_grad=True)\n",
    "out_t = bn(t)\n",
    "out_t.mean().backward()\n",
    "\n",
    "print('-------------------------')\n",
    "\n",
    "v = variable.Variable(data, requires_grad=True)\n",
    "out_v = bn_var(v)\n",
    "out_v.mean().backward()\n",
    "\n",
    "np.testing.assert_almost_equal(out_t.data.numpy(), out_v.data, decimal=4)\n",
    "np.testing.assert_almost_equal(bn.running_mean.data.numpy(), bn_var.running_mean, decimal=4)\n",
    "np.testing.assert_almost_equal(bn.running_var.data.numpy(), bn_var.running_var, decimal=4)\n",
    "np.testing.assert_almost_equal(bn.weight.data.numpy(), bn_var.weight.data, decimal=4)\n",
    "np.testing.assert_almost_equal(bn.bias.data.numpy(), bn_var.bias.data, decimal=4)\n",
    "np.testing.assert_almost_equal(t.grad.data.numpy(), v.grad, decimal=4)"
   ]
  },
  {
   "cell_type": "code",
   "execution_count": 32,
   "metadata": {},
   "outputs": [
    {
     "name": "stdout",
     "output_type": "stream",
     "text": [
      "tensor(9.5408e-10)\n",
      "tensor(0.1250)\n"
     ]
    }
   ],
   "source": [
    "print(bn.weight.grad.mean())\n",
    "print(bn.bias.grad.mean())"
   ]
  },
  {
   "cell_type": "code",
   "execution_count": 33,
   "metadata": {},
   "outputs": [
    {
     "name": "stdout",
     "output_type": "stream",
     "text": [
      "4.103036796026415e-09\n",
      "0.12499999999999999\n"
     ]
    }
   ],
   "source": [
    "print(bn_var.weight.grad.mean())\n",
    "print(bn_var.bias.grad.mean())"
   ]
  },
  {
   "cell_type": "code",
   "execution_count": 34,
   "metadata": {},
   "outputs": [],
   "source": [
    "t = torch.tensor(data, requires_grad=True)\n",
    "x = t**2 / t * 4\n",
    "x.mean(dim=(0, 2, 3)).sum().backward()\n",
    "\n",
    "\n",
    "v = variable.Variable(data, requires_grad=True)\n",
    "y = v**2 / v * 4\n",
    "y.mean(axis=(0, 2, 3)).sum().backward()\n",
    "\n",
    "np.testing.assert_almost_equal(t.grad.data.numpy(), v.grad, decimal=3)"
   ]
  },
  {
   "cell_type": "code",
   "execution_count": 35,
   "metadata": {},
   "outputs": [
    {
     "data": {
      "text/plain": [
       "tensor([0.0747, 0.0864, 0.0834, 0.0862, 0.0797, 0.0866, 0.0874, 0.0843],\n",
       "       grad_fn=<VarBackward1>)"
      ]
     },
     "execution_count": 35,
     "metadata": {},
     "output_type": "execute_result"
    }
   ],
   "source": [
    "t.var(dim=(0,2,3))"
   ]
  },
  {
   "cell_type": "code",
   "execution_count": 36,
   "metadata": {},
   "outputs": [
    {
     "data": {
      "text/plain": [
       "array([0.07448433, 0.08608203, 0.08315919, 0.08595478, 0.079464  ,\n",
       "       0.08630648, 0.08714981, 0.08404162], dtype=float32)"
      ]
     },
     "execution_count": 36,
     "metadata": {},
     "output_type": "execute_result"
    }
   ],
   "source": [
    "((v - v.mean(axis=(0, 2, 3), keepdims=True))**2).mean(axis=(0, 2, 3)).data"
   ]
  },
  {
   "cell_type": "code",
   "execution_count": 37,
   "metadata": {},
   "outputs": [
    {
     "data": {
      "text/plain": [
       "array([0.07448433, 0.08608203, 0.08315919, 0.08595478, 0.079464  ,\n",
       "       0.08630648, 0.08714981, 0.08404162], dtype=float32)"
      ]
     },
     "execution_count": 37,
     "metadata": {},
     "output_type": "execute_result"
    }
   ],
   "source": [
    "data.var(axis=(0, 2, 3))"
   ]
  },
  {
   "cell_type": "code",
   "execution_count": 38,
   "metadata": {},
   "outputs": [
    {
     "data": {
      "text/plain": [
       "32.0"
      ]
     },
     "execution_count": 38,
     "metadata": {},
     "output_type": "execute_result"
    }
   ],
   "source": [
    "t.grad.data.numpy().sum()"
   ]
  },
  {
   "cell_type": "code",
   "execution_count": 39,
   "metadata": {},
   "outputs": [
    {
     "data": {
      "text/plain": [
       "32.000004"
      ]
     },
     "execution_count": 39,
     "metadata": {},
     "output_type": "execute_result"
    }
   ],
   "source": [
    "v.grad.sum()"
   ]
  },
  {
   "cell_type": "code",
   "execution_count": 127,
   "metadata": {},
   "outputs": [],
   "source": [
    "np.testing.assert_almost_equal(t.grad.data.numpy(), v.grad, decimal=4)"
   ]
  },
  {
   "cell_type": "code",
   "execution_count": 129,
   "metadata": {},
   "outputs": [],
   "source": [
    "class MM(L.Module):\n",
    "    def __init__(self, traning=True):\n",
    "        \n",
    "        self.conv = L.Conv2d(3, 32, kernel_size=3, stride=2, padding=1)\n",
    "        self.bn = L.BatchNorm2d(32, affine=True, training=traning, track_running_stats=True)\n",
    "        self.pool = L.Pool2d(kernel_size=3, stride=2, padding=1, mode='max')\n",
    "        self.l1 = L.Linear(32 * 40 * 40, 100)\n",
    "        \n",
    "    \n",
    "    def forward(self, data):\n",
    "        n, _, _, _ = data.shape\n",
    "        out = self.conv(data)\n",
    "        out = self.bn(out.relu())\n",
    "        out = self.pool(out)\n",
    "        out = self.l1(out.reshape(n, -1))\n",
    "        \n",
    "        return out"
   ]
  },
  {
   "cell_type": "code",
   "execution_count": 130,
   "metadata": {},
   "outputs": [
    {
     "name": "stdout",
     "output_type": "stream",
     "text": [
      "out shape: (8, 100)\n",
      "(32,) (32,)\n",
      "(32,) (32,)\n",
      "(32,) (32,)\n",
      "(32, 3, 3, 3) (32, 3, 3, 3)\n",
      "(100,) (100,)\n",
      "(51200, 100) (51200, 100)\n"
     ]
    }
   ],
   "source": [
    "data = L.Variable(np.random.rand(8, 3, 160, 160))\n",
    "label = L.Variable(np.random.rand(8, 100))\n",
    "\n",
    "mm = MM()\n",
    "out = mm(data)\n",
    "\n",
    "loss = ((out - label) ** 2).mean()\n",
    "loss.backward()\n",
    "\n",
    "\n",
    "print('out shape:', out.shape)\n",
    "\n",
    "for n, p in mm.named_parameters():\n",
    "    print(p.shape, p.grad.shape)"
   ]
  },
  {
   "cell_type": "code",
   "execution_count": null,
   "metadata": {},
   "outputs": [],
   "source": []
  },
  {
   "cell_type": "code",
   "execution_count": null,
   "metadata": {},
   "outputs": [],
   "source": []
  }
 ],
 "metadata": {
  "kernelspec": {
   "display_name": "Python 3",
   "language": "python",
   "name": "python3"
  },
  "language_info": {
   "codemirror_mode": {
    "name": "ipython",
    "version": 3
   },
   "file_extension": ".py",
   "mimetype": "text/x-python",
   "name": "python",
   "nbconvert_exporter": "python",
   "pygments_lexer": "ipython3",
   "version": "3.7.0"
  }
 },
 "nbformat": 4,
 "nbformat_minor": 2
}
