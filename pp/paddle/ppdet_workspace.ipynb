{
 "cells": [
  {
   "cell_type": "code",
   "execution_count": 304,
   "metadata": {},
   "outputs": [],
   "source": [
    "import torch\n",
    "import inspect\n",
    "import importlib"
   ]
  },
  {
   "cell_type": "markdown",
   "metadata": {},
   "source": [
    "## GLOBAL"
   ]
  },
  {
   "cell_type": "code",
   "execution_count": 305,
   "metadata": {},
   "outputs": [],
   "source": [
    "class ConfigDict(dict):\n",
    "    def __init__(self, **kwargs):\n",
    "        super().__init__()\n",
    "        super().update(**kwargs)\n",
    "    \n",
    "    def __getattr__(self, key):\n",
    "        if key in self:\n",
    "            return self[key]\n",
    "        else:\n",
    "            raise AttributeError('---')\n",
    "    \n",
    "    def __setattr__(self, key, value):\n",
    "        super().__setattr__(key, value)"
   ]
  },
  {
   "cell_type": "code",
   "execution_count": 306,
   "metadata": {},
   "outputs": [],
   "source": [
    "GLOBAL_CONFIG = {}"
   ]
  },
  {
   "cell_type": "markdown",
   "metadata": {},
   "source": [
    "## UTILS"
   ]
  },
  {
   "cell_type": "code",
   "execution_count": 307,
   "metadata": {},
   "outputs": [],
   "source": [
    "def wrapModule(cls):\n",
    "    '''decorate\n",
    "    '''\n",
    "    schema = {}\n",
    "    schema['name'] = cls.__name__\n",
    "    schema['module'] = importlib.import_module(cls.__module__)\n",
    "    schema['cls'] = cls\n",
    "    \n",
    "    argspec = inspect.getfullargspec(cls.__init__)\n",
    "    keys = [arg for arg in argspec.args if arg != 'self']\n",
    "    values = [] if argspec.defaults is None else list(argspec.defaults)\n",
    "    values = [None, ] * (len(keys) - len(values)) + values\n",
    "    assert len(keys) == len(values), ''\n",
    "    \n",
    "    print(keys, values)\n",
    "    schema['kwargs'] = dict(zip(keys, values))\n",
    "    schema['args_requeired'] = len(keys) - len(values)\n",
    "    \n",
    "    \n",
    "    return schema\n",
    "\n",
    "\n",
    "\n",
    "def register(cls):\n",
    "    '''\n",
    "    '''\n",
    "    if cls.__name__ in GLOBAL_CONFIG:\n",
    "        raise ValueError(f'{cls.__name__} already exist.')\n",
    "    \n",
    "    GLOBAL_CONFIG[cls.__name__] = wrapModule(cls)\n",
    "    \n",
    "    return cls\n",
    "\n",
    "\n",
    "def create(name):\n",
    "    '''\n",
    "    '''\n",
    "    cls = getattr(GLOBAL_CONFIG[name]['module'], GLOBAL_CONFIG[name]['name'])\n",
    "    kwargs = GLOBAL_CONFIG[name]['kwargs']\n",
    "    \n",
    "    return cls(**kwargs)\n",
    "\n",
    "\n",
    "def inject(cfgs):\n",
    "    '''to GLOVAL_CONFIG\n",
    "    '''\n",
    "    \n",
    "    for name in cfgs:\n",
    "        schema = GLOBAL_CONFIG[name]\n",
    "        cfg = cfgs[name]\n",
    "        for k in cfg:\n",
    "            schema[k].update(cfg[k])\n",
    "    "
   ]
  },
  {
   "cell_type": "markdown",
   "metadata": {},
   "source": [
    "## COMPONET"
   ]
  },
  {
   "cell_type": "code",
   "execution_count": 308,
   "metadata": {},
   "outputs": [
    {
     "name": "stdout",
     "output_type": "stream",
     "text": [
      "['a', 'b'] [1, 2]\n"
     ]
    }
   ],
   "source": [
    "@register\n",
    "class MM(torch.nn.Module):\n",
    "    def __init__(self, a=1, b=2):\n",
    "        super().__init__()\n",
    "        self.conv = torch.nn.Conv2d(a, b, 3, 2, 1)\n",
    "    \n",
    "    def forward(self, data):\n",
    "        pass"
   ]
  },
  {
   "cell_type": "markdown",
   "metadata": {},
   "source": [
    "## EXAMPLE"
   ]
  },
  {
   "cell_type": "code",
   "execution_count": 309,
   "metadata": {},
   "outputs": [
    {
     "name": "stdout",
     "output_type": "stream",
     "text": [
      "{'MM': {'name': 'MM', 'module': <module '__main__'>, 'cls': <class '__main__.MM'>, 'kwargs': {'a': 1, 'b': 2}, 'args_requeired': 0}}\n",
      "------------\n",
      "{'MM': {'name': 'MM', 'module': <module '__main__'>, 'cls': <class '__main__.MM'>, 'kwargs': {'a': 22, 'b': 20}, 'args_requeired': 0}}\n"
     ]
    }
   ],
   "source": [
    "config = {'MM': {'kwargs': {'a': 22, 'b': 20}}}\n",
    "\n",
    "\n",
    "print(GLOBAL_CONFIG)\n",
    "inject(config)\n",
    "print('------------')\n",
    "print(GLOBAL_CONFIG)"
   ]
  },
  {
   "cell_type": "code",
   "execution_count": 310,
   "metadata": {},
   "outputs": [
    {
     "name": "stdout",
     "output_type": "stream",
     "text": [
      "MM(\n",
      "  (conv): Conv2d(22, 20, kernel_size=(3, 3), stride=(2, 2), padding=(1, 1))\n",
      ")\n"
     ]
    }
   ],
   "source": [
    "mm = create('MM')\n",
    "print(mm)"
   ]
  },
  {
   "cell_type": "code",
   "execution_count": null,
   "metadata": {},
   "outputs": [],
   "source": []
  }
 ],
 "metadata": {
  "kernelspec": {
   "display_name": "Python 3",
   "language": "python",
   "name": "python3"
  },
  "language_info": {
   "codemirror_mode": {
    "name": "ipython",
    "version": 3
   },
   "file_extension": ".py",
   "mimetype": "text/x-python",
   "name": "python",
   "nbconvert_exporter": "python",
   "pygments_lexer": "ipython3",
   "version": "3.8.5"
  }
 },
 "nbformat": 4,
 "nbformat_minor": 4
}
