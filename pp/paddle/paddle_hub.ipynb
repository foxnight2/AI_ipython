{
 "cells": [
  {
   "cell_type": "code",
   "execution_count": 2,
   "metadata": {},
   "outputs": [],
   "source": [
    "import paddle\n",
    "import paddle.nn as nn\n",
    "import paddle.hub as hub"
   ]
  },
  {
   "cell_type": "code",
   "execution_count": null,
   "metadata": {},
   "outputs": [],
   "source": [
    "paddle.device.set_device('cpu')"
   ]
  },
  {
   "cell_type": "markdown",
   "metadata": {},
   "source": [
    "# hub model"
   ]
  },
  {
   "cell_type": "code",
   "execution_count": 30,
   "metadata": {},
   "outputs": [],
   "source": [
    "class ResNet(nn.Layer):\n",
    "    def __init__(self, name, num_classes=10, pretrained=True):\n",
    "        super(ResNet, self).__init__()\n",
    "        \n",
    "        # hub model from ppclas\n",
    "        resnet = paddle.hub.load('lyuwenyu/PaddleClas:fix_hub_pretrained_L', name, pretrained=pretrained, )\n",
    "\n",
    "        # for n, m in resnet.named_children():\n",
    "        #     print(n, m)\n",
    "        \n",
    "        # modified channel 3 -> 1\n",
    "        resnet.stem[0].conv = nn.Conv2D(1, 64, 7, 2, padding=3,)\n",
    "\n",
    "        # modified linear 1000 -> 10\n",
    "        fc = nn.Linear(512, num_classes)\n",
    "        resnet.fc = fc\n",
    "        \n",
    "        # final model\n",
    "        self.model = resnet\n",
    "        \n",
    "    def forward(self, x):\n",
    "        '''\n",
    "        '''\n",
    "        # output = []\n",
    "        # for m in self.resnet:\n",
    "        #     x = m(x)\n",
    "        #     output.append(x)\n",
    "        # return output\n",
    "\n",
    "        x = x.reshape([-1, 1, 28, 28])\n",
    "    \n",
    "        return self.model(x)"
   ]
  },
  {
   "cell_type": "code",
   "execution_count": 31,
   "metadata": {},
   "outputs": [
    {
     "name": "stderr",
     "output_type": "stream",
     "text": [
      "Using cache found in /root/.cache/paddle/hub/lyuwenyu_PaddleClas_fix_hub_pretrained_L\n"
     ]
    },
    {
     "name": "stdout",
     "output_type": "stream",
     "text": [
      "[2021/08/25 05:51:29] root INFO: unique_endpoints {''}\n",
      "[2021/08/25 05:51:29] root INFO: Found /root/.paddleclas/weights/ResNet34_pretrained.pdparams\n",
      "[1, 10]\n"
     ]
    }
   ],
   "source": [
    "mm = ResNet(name='resnet34')\n",
    "\n",
    "x = paddle.rand([1, 28 * 28])\n",
    "output = mm(x)\n",
    "\n",
    "print(output.shape)\n",
    "# print([out.shape for out in output])"
   ]
  },
  {
   "cell_type": "markdown",
   "metadata": {},
   "source": [
    "# train"
   ]
  },
  {
   "cell_type": "code",
   "execution_count": null,
   "metadata": {},
   "outputs": [
    {
     "name": "stderr",
     "output_type": "stream",
     "text": [
      "Using cache found in /root/.cache/paddle/hub/lyuwenyu_PaddleClas_fix_hub_pretrained_L\n"
     ]
    },
    {
     "name": "stdout",
     "output_type": "stream",
     "text": [
      "[2021/08/25 05:51:52] root INFO: unique_endpoints {''}\n",
      "[2021/08/25 05:51:52] root INFO: Found /root/.paddleclas/weights/ResNet34_pretrained.pdparams\n",
      "item  150/2421 [>.............................] - ETA: 2s - 993us/item"
     ]
    },
    {
     "name": "stderr",
     "output_type": "stream",
     "text": [
      "Cache file /root/.cache/paddle/dataset/mnist/train-images-idx3-ubyte.gz not found, downloading https://dataset.bj.bcebos.com/mnist/train-images-idx3-ubyte.gz \n",
      "Begin to download\n"
     ]
    },
    {
     "name": "stdout",
     "output_type": "stream",
     "text": [
      "item 8/8 [============================>.] - ETA: 0s - 2ms/item"
     ]
    },
    {
     "name": "stderr",
     "output_type": "stream",
     "text": [
      "\n",
      "Download finished\n",
      "Cache file /root/.cache/paddle/dataset/mnist/train-labels-idx1-ubyte.gz not found, downloading https://dataset.bj.bcebos.com/mnist/train-labels-idx1-ubyte.gz \n",
      "Begin to download\n",
      "\n",
      "Download finished\n"
     ]
    },
    {
     "name": "stdout",
     "output_type": "stream",
     "text": [
      "The loss value printed in the log is the current step, and the metric is the average value of previous steps.\n",
      "Epoch 1/2\n"
     ]
    },
    {
     "name": "stderr",
     "output_type": "stream",
     "text": [
      "/paddle/workspace/anaconda3/lib/python3.8/site-packages/paddle/fluid/layers/utils.py:77: DeprecationWarning: Using or importing the ABCs from 'collections' instead of from 'collections.abc' is deprecated since Python 3.3, and in 3.9 it will stop working\n",
      "  return (isinstance(seq, collections.Sequence) and\n"
     ]
    },
    {
     "name": "stdout",
     "output_type": "stream",
     "text": [
      "step 1000/1875 [===============>..............] - loss: 0.6011 - acc: 0.7719 - ETA: 12:37 - 866ms/step"
     ]
    }
   ],
   "source": [
    "import paddle\n",
    "import paddle.nn as nn\n",
    "import paddle.vision.transforms as T\n",
    "from paddle.static import InputSpec\n",
    "\n",
    "device = paddle.set_device('cpu') # or 'gpu'\n",
    "\n",
    "net = ResNet(name='resnet34', pretrained=True)\n",
    "\n",
    "# inputs and labels are not required for dynamic graph.\n",
    "data = InputSpec([None, 784], 'float32', 'data')\n",
    "label = InputSpec([None, 1], 'int64', 'label')\n",
    "\n",
    "model = paddle.Model(net, data, label)\n",
    "optim = paddle.optimizer.SGD(learning_rate=1e-3, parameters=model.parameters())\n",
    "model.prepare(optim, nn.CrossEntropyLoss(), paddle.metric.Accuracy())\n",
    "\n",
    "transform = T.Compose([T.Transpose(), T.Normalize([127.5], [127.5])])\n",
    "\n",
    "data = paddle.vision.datasets.MNIST(mode='train', transform=transform)\n",
    "model.fit(data, epochs=2, batch_size=32, verbose=1)\n"
   ]
  },
  {
   "cell_type": "code",
   "execution_count": null,
   "metadata": {},
   "outputs": [],
   "source": []
  }
 ],
 "metadata": {
  "kernelspec": {
   "display_name": "Python 3",
   "language": "python",
   "name": "python3"
  },
  "language_info": {
   "codemirror_mode": {
    "name": "ipython",
    "version": 3
   },
   "file_extension": ".py",
   "mimetype": "text/x-python",
   "name": "python",
   "nbconvert_exporter": "python",
   "pygments_lexer": "ipython3",
   "version": "3.8.5"
  }
 },
 "nbformat": 4,
 "nbformat_minor": 4
}
