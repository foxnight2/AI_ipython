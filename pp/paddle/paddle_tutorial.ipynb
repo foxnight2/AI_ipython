{
 "cells": [
  {
   "cell_type": "code",
   "execution_count": 64,
   "metadata": {},
   "outputs": [],
   "source": [
    "import paddle\n",
    "import torch\n",
    "import numpy as np\n",
    "import random\n",
    "\n",
    "import matplotlib.pyplot as plt"
   ]
  },
  {
   "cell_type": "code",
   "execution_count": 2,
   "metadata": {},
   "outputs": [
    {
     "name": "stdout",
     "output_type": "stream",
     "text": [
      "2.0.0-rc1\n",
      "1.7.0+cu101\n"
     ]
    }
   ],
   "source": [
    "print(paddle.__version__)\n",
    "print(torch.__version__)"
   ]
  },
  {
   "cell_type": "markdown",
   "metadata": {},
   "source": [
    "# Tensor"
   ]
  },
  {
   "cell_type": "code",
   "execution_count": 3,
   "metadata": {},
   "outputs": [
    {
     "name": "stdout",
     "output_type": "stream",
     "text": [
      "<module 'paddle.tensor' from 'C:\\\\Users\\\\wenylv\\\\Miniconda3\\\\lib\\\\site-packages\\\\paddle\\\\tensor\\\\__init__.py'>\n",
      "\n",
      "['__builtins__', '__cached__', '__doc__', '__file__', '__loader__', '__name__', '__package__', '__path__', '__spec__', 'abs', 'acos', 'add', 'add_n', 'addmm', 'all', 'allclose', 'any', 'arange', 'argmax', 'argmin', 'argsort', 'asin', 'atan', 'attribute', 'bmm', 'broadcast_shape', 'broadcast_to', 'cast', 'ceil', 'cholesky', 'chunk', 'clip', 'concat', 'cos', 'cosh', 'creation', 'cross', 'cumsum', 'diag', 'dist', 'divide', 'dot', 'empty', 'empty_like', 'equal', 'equal_all', 'erf', 'exp', 'expand', 'expand_as', 'eye', 'flatten', 'flip', 'floor', 'floor_divide', 'floor_mod', 'full', 'full_like', 'gather', 'gather_nd', 'greater_equal', 'greater_than', 'histogram', 'increment', 'index_sample', 'index_select', 'inverse', 'is_empty', 'is_tensor', 'isfinite', 'isinf', 'isnan', 'kron', 'less_equal', 'less_than', 'linalg', 'linspace', 'log', 'log10', 'log1p', 'log2', 'logic', 'logical_and', 'logical_not', 'logical_or', 'logical_xor', 'logsumexp', 'manipulation', 'masked_select', 'math', 'matmul', 'max', 'maximum', 'mean', 'median', 'meshgrid', 'min', 'minimum', 'mm', 'mod', 'multinomial', 'multiplex', 'multiply', 'mv', 'nonzero', 'norm', 'normal', 'not_equal', 'numel', 'ones', 'ones_like', 'pow', 'print_function', 'prod', 'rand', 'randint', 'randn', 'random', 'randperm', 'rank', 'reciprocal', 'remainder', 'reshape', 'reverse', 'roll', 'round', 'rsqrt', 'scale', 'scatter', 'scatter_nd', 'scatter_nd_add', 'search', 'set_printoptions', 'shape', 'shard_index', 'sign', 'sin', 'sinh', 'slice', 'sort', 'split', 'sqrt', 'square', 'squeeze', 'stack', 'standard_normal', 'stanh', 'stat', 'std', 'strided_slice', 'subtract', 'sum', 't', 'tanh', 'tile', 'to_string', 'to_tensor', 'topk', 'trace', 'transpose', 'tril', 'triu', 'unbind', 'uniform', 'unique', 'unsqueeze', 'unstack', 'var', 'where', 'zeros', 'zeros_like']\n"
     ]
    }
   ],
   "source": [
    "print(paddle.tensor)\n",
    "print()\n",
    "print(dir(paddle.tensor))"
   ]
  },
  {
   "cell_type": "code",
   "execution_count": 4,
   "metadata": {},
   "outputs": [],
   "source": [
    "## Creation"
   ]
  },
  {
   "cell_type": "code",
   "execution_count": 5,
   "metadata": {},
   "outputs": [
    {
     "name": "stdout",
     "output_type": "stream",
     "text": [
      "Tensor(shape=[2, 3], dtype=float64, place=CPUPlace, stop_gradient=False,\n",
      "       [[1., 1., 1.],\n",
      "        [1., 1., 1.]])\n"
     ]
    }
   ],
   "source": [
    "data = paddle.to_tensor(np.ones(shape=(2, 3)), place=paddle.CPUPlace(), stop_gradient=False)\n",
    "print(data)"
   ]
  },
  {
   "cell_type": "code",
   "execution_count": 6,
   "metadata": {},
   "outputs": [
    {
     "name": "stdout",
     "output_type": "stream",
     "text": [
      "Tensor(shape=[2, 3], dtype=float32, place=CUDAPlace(0), stop_gradient=True,\n",
      "       [[1., 1., 1.],\n",
      "        [1., 1., 1.]])\n"
     ]
    }
   ],
   "source": [
    "data = paddle.ones(shape=(2, 3), dtype='float32')\n",
    "print(data)"
   ]
  },
  {
   "cell_type": "code",
   "execution_count": 7,
   "metadata": {},
   "outputs": [
    {
     "name": "stdout",
     "output_type": "stream",
     "text": [
      "CUDAPlace(0)\n",
      "CUDAPinnedPlace\n"
     ]
    }
   ],
   "source": [
    "# CPUPlace(). CUDAPlace(0), CUDAPinnedPlace()\n",
    "\n",
    "print(data.place)\n",
    "_data = data.pin_memory()\n",
    "print(_data.place)"
   ]
  },
  {
   "cell_type": "code",
   "execution_count": 8,
   "metadata": {},
   "outputs": [
    {
     "name": "stdout",
     "output_type": "stream",
     "text": [
      "VarType.FP32\n",
      "VarType.FP64\n"
     ]
    }
   ],
   "source": [
    "# 'bool'，'float16'，'float32'，'float64'，'int8'，'int16'， 'int32'，'int64'，'uint8'\n",
    "\n",
    "print(data.dtype)\n",
    "print(data.astype('float64').dtype)"
   ]
  },
  {
   "cell_type": "code",
   "execution_count": 9,
   "metadata": {},
   "outputs": [
    {
     "name": "stdout",
     "output_type": "stream",
     "text": [
      "Tensor(shape=[2, 3], dtype=float32, place=CUDAPlace(0), stop_gradient=True,\n",
      "       [[ 2.13427687, -0.34139201,  0.20879221],\n",
      "        [ 0.25285751,  0.43862194,  0.22897470]])\n"
     ]
    }
   ],
   "source": [
    "data.set_value(np.random.randn(*data.shape).astype(np.float32))\n",
    "print(data)"
   ]
  },
  {
   "cell_type": "code",
   "execution_count": 10,
   "metadata": {},
   "outputs": [
    {
     "name": "stdout",
     "output_type": "stream",
     "text": [
      "<class 'numpy.ndarray'>\n"
     ]
    }
   ],
   "source": [
    "print(type(data.numpy()))"
   ]
  },
  {
   "cell_type": "code",
   "execution_count": 11,
   "metadata": {},
   "outputs": [],
   "source": [
    "## Operator"
   ]
  },
  {
   "cell_type": "code",
   "execution_count": 12,
   "metadata": {},
   "outputs": [
    {
     "name": "stdout",
     "output_type": "stream",
     "text": [
      "Tensor(shape=[1], dtype=float32, place=CUDAPlace(0), stop_gradient=True,\n",
      "       [10.60790634])\n",
      "Tensor(shape=[1], dtype=float32, place=CUDAPlace(0), stop_gradient=True,\n",
      "       [4.12373304])\n",
      "[2, 2, 3]\n",
      "Tensor(shape=[1, 2, 3], dtype=float32, place=CUDAPlace(0), stop_gradient=True,\n",
      "       [[[0.12459087, 0.12557355, 0.56035727],\n",
      "         [0.12459087, 0.12557355, 0.56035727]]])\n"
     ]
    }
   ],
   "source": [
    "a = paddle.rand(shape=(2, 2, 1))\n",
    "b = paddle.rand(shape=(1, 3))\n",
    "print((a + b).sum())\n",
    "print((a - b).sum())\n",
    "print((a * b).shape)\n",
    "\n",
    "print(b.broadcast_to([1,2,3]))"
   ]
  },
  {
   "cell_type": "code",
   "execution_count": 13,
   "metadata": {},
   "outputs": [],
   "source": [
    "## Structure"
   ]
  },
  {
   "cell_type": "code",
   "execution_count": 14,
   "metadata": {},
   "outputs": [
    {
     "name": "stdout",
     "output_type": "stream",
     "text": [
      "[2, 3]\n",
      "None\n"
     ]
    }
   ],
   "source": [
    "print(data.shape)\n",
    "print(data.grad)"
   ]
  },
  {
   "cell_type": "code",
   "execution_count": 15,
   "metadata": {},
   "outputs": [],
   "source": [
    "## Gradient"
   ]
  },
  {
   "cell_type": "code",
   "execution_count": 16,
   "metadata": {},
   "outputs": [
    {
     "name": "stdout",
     "output_type": "stream",
     "text": [
      "None\n",
      "None\n",
      "False\n",
      "True\n",
      "None\n"
     ]
    }
   ],
   "source": [
    "print(data.grad)\n",
    "print(data.gradient())\n",
    "print(data.persistable)\n",
    "print(data.stop_gradient)\n",
    "print(data.clear_gradient())"
   ]
  },
  {
   "cell_type": "code",
   "execution_count": 17,
   "metadata": {},
   "outputs": [
    {
     "name": "stdout",
     "output_type": "stream",
     "text": [
      "0\n",
      "[[1. 1.]\n",
      " [1. 1.]\n",
      " [1. 1.]]\n",
      "[[1.3556948 1.3556948]\n",
      " [0.7386035 0.7386035]]\n",
      "\n",
      "1\n",
      "[[1. 1.]\n",
      " [1. 1.]\n",
      " [1. 1.]]\n",
      "[[2.7113895 2.7113895]\n",
      " [1.477207  1.477207 ]]\n",
      "\n",
      "<class 'paddle.VarBase'> <class 'paddle.VarBase'> <class 'paddle.VarBase'>\n"
     ]
    }
   ],
   "source": [
    "# paddle.disable_static()\n",
    "\n",
    "x = paddle.rand(shape=(3, 2))\n",
    "# p = paddle.framework.create_parameter(shape=(2, 2), dtype='float32')\n",
    "p = paddle.rand(shape=(2, 2))\n",
    "# p.persistable = True\n",
    "p.stop_gradient = False\n",
    "\n",
    "for i in range(2):\n",
    "    \n",
    "    y = paddle.matmul(x, p)\n",
    "    \n",
    "    # y.stop_gradient = True\n",
    "    # y = y.detach()\n",
    "    \n",
    "    loss = y.sum()\n",
    "    loss.backward()\n",
    "\n",
    "    print('{}\\n{}\\n{}\\n'.format(i, y.grad, p.grad))\n",
    "    \n",
    "    # p.clear_grad()\n",
    "\n",
    "print(type(p), type(x), type(y))"
   ]
  },
  {
   "cell_type": "code",
   "execution_count": null,
   "metadata": {},
   "outputs": [],
   "source": [
    "\"\"\"\n",
    "---------------------------------------------------------------------------\n",
    "RuntimeError                              Traceback (most recent call last)\n",
    "<ipython-input-163-a00ae3b23c8f> in <module>\n",
    "     12 \n",
    "     13     loss = y.sum()\n",
    "---> 14     loss.backward()\n",
    "     15 \n",
    "     16     print('{}\\n{}\\n{}\\n'.format(i, p.grad, y.grad))\n",
    "\n",
    "<decorator-gen-239> in backward(self, retain_graph)\n",
    "\n",
    "~\\Miniconda3\\lib\\site-packages\\paddle\\fluid\\wrapped_decorator.py in __impl__(func, *args, **kwargs)\n",
    "     23     def __impl__(func, *args, **kwargs):\n",
    "     24         wrapped_func = decorator_func(func)\n",
    "---> 25         return wrapped_func(*args, **kwargs)\n",
    "     26 \n",
    "     27     return __impl__\n",
    "\n",
    "~\\Miniconda3\\lib\\site-packages\\paddle\\fluid\\framework.py in __impl__(*args, **kwargs)\n",
    "    221         assert in_dygraph_mode(\n",
    "    222         ), \"We only support '%s()' in dynamic graph mode, please call 'paddle.disable_static()' to enter dynamic graph mode.\" % func.__name__\n",
    "--> 223         return func(*args, **kwargs)\n",
    "    224 \n",
    "    225     return __impl__\n",
    "\n",
    "~\\Miniconda3\\lib\\site-packages\\paddle\\fluid\\dygraph\\varbase_patch_methods.py in backward(self, retain_graph)\n",
    "    174                                           retain_graph)\n",
    "    175             else:\n",
    "--> 176                 self._run_backward(framework._dygraph_tracer(), retain_graph)\n",
    "    177         else:\n",
    "    178             raise ValueError(\n",
    "\n",
    "RuntimeError: (AlreadyExists) Op deps must be initialized here\n",
    "  [Hint: Expected node_deps_.empty() == true, but received node_deps_.empty():0 != true:1.] (at D:\\v2.0.0rc1\\paddle\\paddle\\fluid\\imperative\\basic_engine.cc:150)\n",
    "  [Hint: If you need C++ stacktraces for debugging, please set `FLAGS_call_stack_level=2`.]\n",
    "\"\"\""
   ]
  },
  {
   "cell_type": "code",
   "execution_count": 18,
   "metadata": {},
   "outputs": [
    {
     "name": "stdout",
     "output_type": "stream",
     "text": [
      "0\n",
      "tensor([[1., 1., 1.],\n",
      "        [1., 1., 1.]])\n",
      "tensor([[1.4459, 1.4459, 1.4459],\n",
      "        [1.2582, 1.2582, 1.2582]])\n",
      "1\n",
      "tensor([[1., 1., 1.],\n",
      "        [1., 1., 1.]])\n",
      "tensor([[2.8917, 2.8917, 2.8917],\n",
      "        [2.5164, 2.5164, 2.5164]])\n"
     ]
    }
   ],
   "source": [
    "# torch version\n",
    "\n",
    "p = torch.rand(2, 3, requires_grad=True)\n",
    "x = torch.rand(2, 2)\n",
    "\n",
    "for i in range(2):\n",
    "    y = torch.matmul(x, p); y.retain_grad()\n",
    "    loss = y.sum()\n",
    "    loss.backward()\n",
    "\n",
    "    print(i)\n",
    "    print(y.grad)\n",
    "    print(p.grad)"
   ]
  },
  {
   "cell_type": "markdown",
   "metadata": {},
   "source": [
    "# Framework"
   ]
  },
  {
   "cell_type": "code",
   "execution_count": 18,
   "metadata": {},
   "outputs": [],
   "source": [
    "import paddle.framework as framework"
   ]
  },
  {
   "cell_type": "code",
   "execution_count": 19,
   "metadata": {},
   "outputs": [
    {
     "name": "stdout",
     "output_type": "stream",
     "text": [
      "['CPUPlace', 'CUDAPinnedPlace', 'CUDAPlace', 'DataParallel', 'ParamAttr', 'VarBase', '__all__', '__builtins__', '__cached__', '__doc__', '__file__', '__loader__', '__name__', '__package__', '__path__', '__spec__', 'core', 'create_parameter', 'framework', 'get_default_dtype', 'grad', 'io', 'load', 'no_grad', 'random', 'save', 'seed', 'set_default_dtype']\n"
     ]
    }
   ],
   "source": [
    "print(dir(framework))"
   ]
  },
  {
   "cell_type": "code",
   "execution_count": null,
   "metadata": {},
   "outputs": [],
   "source": [
    "## Attr"
   ]
  },
  {
   "cell_type": "code",
   "execution_count": 21,
   "metadata": {},
   "outputs": [
    {
     "name": "stdout",
     "output_type": "stream",
     "text": [
      "<paddle.fluid.param_attr.ParamAttr object at 0x000001D7FEB03F48>\n"
     ]
    }
   ],
   "source": [
    "test_attr = framework.ParamAttr(name='test2', initializer=paddle.nn.initializer.Normal(mean=0, std=1.), )\n",
    "print(test_attr)"
   ]
  },
  {
   "cell_type": "code",
   "execution_count": 23,
   "metadata": {},
   "outputs": [],
   "source": [
    "# parameter name [test] have be been used. \n",
    "# In dygraph mode, the name of parameter can't be same.\n",
    "# Please check the parameter attr value passed to self.create_parameter or constructor of dygraph Layers\n",
    "\n",
    "mm = paddle.nn.Linear(10, 10, weight_attr=test_attr)"
   ]
  },
  {
   "cell_type": "code",
   "execution_count": null,
   "metadata": {},
   "outputs": [],
   "source": [
    "## Parameter"
   ]
  },
  {
   "cell_type": "code",
   "execution_count": 229,
   "metadata": {},
   "outputs": [
    {
     "name": "stdout",
     "output_type": "stream",
     "text": [
      "<class 'paddle.fluid.framework.ParamBase'>\n"
     ]
    },
    {
     "data": {
      "text/plain": [
       "True"
      ]
     },
     "execution_count": 229,
     "metadata": {},
     "output_type": "execute_result"
    }
   ],
   "source": [
    "x = paddle.rand(shape=(3, 2))\n",
    "p = paddle.framework.create_parameter(shape=(2, 2), dtype='float32')\n",
    "print(type(p))\n",
    "\n",
    "issubclass(type(p), paddle.Tensor)"
   ]
  },
  {
   "cell_type": "markdown",
   "metadata": {},
   "source": [
    "# NN"
   ]
  },
  {
   "cell_type": "code",
   "execution_count": 24,
   "metadata": {},
   "outputs": [],
   "source": [
    "import paddle.nn as nn\n",
    "import paddle.nn.functional as functional"
   ]
  },
  {
   "cell_type": "code",
   "execution_count": 25,
   "metadata": {},
   "outputs": [
    {
     "name": "stdout",
     "output_type": "stream",
     "text": [
      "['AdaptiveAvgPool1D', 'AdaptiveAvgPool2D', 'AdaptiveAvgPool3D', 'AdaptiveMaxPool1D', 'AdaptiveMaxPool2D', 'AdaptiveMaxPool3D', 'AlphaDropout', 'AvgPool1D', 'AvgPool2D', 'AvgPool3D', 'BCELoss', 'BCEWithLogitsLoss', 'BatchNorm', 'BatchNorm1D', 'BatchNorm2D', 'BatchNorm3D', 'BeamSearchDecoder', 'BiRNN', 'Bilinear', 'BilinearTensorProduct', 'CTCLoss', 'ClipGradByGlobalNorm', 'ClipGradByNorm', 'ClipGradByValue', 'Conv1D', 'Conv1DTranspose', 'Conv2D', 'Conv2DTranspose', 'Conv3D', 'Conv3DTranspose', 'CosineSimilarity', 'CrossEntropyLoss', 'Dropout', 'Dropout2D', 'Dropout3D', 'ELU', 'Embedding', 'Flatten', 'GELU', 'GRU', 'GRUCell', 'GroupNorm', 'HSigmoidLoss', 'Hardshrink', 'Hardsigmoid', 'Hardswish', 'Hardtanh', 'InstanceNorm1D', 'InstanceNorm2D', 'InstanceNorm3D', 'KLDivLoss', 'L1Loss', 'LSTM', 'LSTMCell', 'Layer', 'LayerList', 'LayerNorm', 'LeakyReLU', 'Linear', 'LocalResponseNorm', 'LogSigmoid', 'LogSoftmax', 'MSELoss', 'MarginRankingLoss', 'MaxPool1D', 'MaxPool2D', 'MaxPool3D', 'Maxout', 'MultiHeadAttention', 'NLLLoss', 'PReLU', 'Pad1D', 'Pad2D', 'Pad3D', 'PairwiseDistance', 'ParameterList', 'PixelShuffle', 'Pool2D', 'RNN', 'RNNCellBase', 'ReLU', 'ReLU6', 'RowConv', 'SELU', 'Sequential', 'Sigmoid', 'SimpleRNN', 'SimpleRNNCell', 'SmoothL1Loss', 'Softmax', 'Softplus', 'Softshrink', 'Softsign', 'SpectralNorm', 'Swish', 'SyncBatchNorm', 'Tanh', 'Tanhshrink', 'ThresholdedReLU', 'Transformer', 'TransformerDecoder', 'TransformerDecoderLayer', 'TransformerEncoder', 'TransformerEncoderLayer', 'Upsample', '__all__', '__builtins__', '__cached__', '__doc__', '__file__', '__loader__', '__name__', '__package__', '__path__', '__spec__', 'clip', 'clip_by_norm', 'common', 'conv', 'decode', 'dynamic_decode', 'extension', 'functional', 'initializer', 'layer', 'loss', 'norm', 'rnn', 'utils', 'vision', 'weight_norm_hook']\n"
     ]
    }
   ],
   "source": [
    "print(dir(nn))"
   ]
  },
  {
   "cell_type": "code",
   "execution_count": 26,
   "metadata": {},
   "outputs": [],
   "source": [
    "## nn.functional"
   ]
  },
  {
   "cell_type": "code",
   "execution_count": 27,
   "metadata": {},
   "outputs": [
    {
     "data": {
      "text/plain": [
       "<function paddle.nn.functional.conv.conv2d(x, weight, bias=None, stride=1, padding=0, dilation=1, groups=1, data_format='NCHW', name=None)>"
      ]
     },
     "execution_count": 27,
     "metadata": {},
     "output_type": "execute_result"
    }
   ],
   "source": [
    "nn.functional.conv2d"
   ]
  },
  {
   "cell_type": "code",
   "execution_count": 28,
   "metadata": {},
   "outputs": [],
   "source": [
    "## nn.layer"
   ]
  },
  {
   "cell_type": "code",
   "execution_count": 29,
   "metadata": {},
   "outputs": [
    {
     "name": "stdout",
     "output_type": "stream",
     "text": [
      "Tensor(shape=[1], dtype=float32, place=CUDAPlace(0), stop_gradient=False,\n",
      "       [-5.75549889])\n"
     ]
    },
    {
     "name": "stderr",
     "output_type": "stream",
     "text": [
      "C:\\Users\\wenylv\\Miniconda3\\lib\\site-packages\\paddle\\nn\\layer\\norm.py:634: UserWarning: When training, we now always track global mean and variance.\n",
      "  \"When training, we now always track global mean and variance.\")\n"
     ]
    }
   ],
   "source": [
    "# https://github.com/PaddlePaddle/Paddle/blob/develop/python/paddle/fluid/dygraph/layers.py\n",
    "\n",
    "class MLayer(nn.Layer):\n",
    "    '''\n",
    "    '''\n",
    "    def __init__(self, ):\n",
    "        super(MLayer, self).__init__()\n",
    "        \n",
    "        self.l1 = nn.Linear(10, 10, weight_attr=nn.initializer.XavierNormal())\n",
    "        self.l2 = nn.Linear(10, 3)\n",
    "        self.bn = nn.BatchNorm1D(10)\n",
    "        self.dropout = nn.Dropout(p=0.6)\n",
    "        \n",
    "    def forward(self, x):\n",
    "        '''\n",
    "        '''\n",
    "        x = self.l1(x)\n",
    "        x = self.bn(nn.functional.relu(x))\n",
    "        x = self.dropout(self.l2(x))\n",
    "        \n",
    "        return x\n",
    "\n",
    "    def weight_init(self, ):\n",
    "        '''\n",
    "        '''\n",
    "        pass\n",
    "    \n",
    "    \n",
    "mlayer = MLayer()\n",
    "mlayer.train() # When training, we now always track global mean and variance.\n",
    "\n",
    "data = paddle.rand(shape=(32, 10), dtype='float32')\n",
    "out = mlayer(data)\n",
    "\n",
    "print(out.sum())"
   ]
  },
  {
   "cell_type": "code",
   "execution_count": 121,
   "metadata": {},
   "outputs": [
    {
     "data": {
      "text/plain": [
       "torch.nn.modules.module.Module"
      ]
     },
     "execution_count": 121,
     "metadata": {},
     "output_type": "execute_result"
    }
   ],
   "source": [
    "# same as torch.nn.Module\n",
    "torch.nn.Module"
   ]
  },
  {
   "cell_type": "code",
   "execution_count": null,
   "metadata": {},
   "outputs": [],
   "source": [
    "## Parameter"
   ]
  },
  {
   "cell_type": "code",
   "execution_count": 22,
   "metadata": {},
   "outputs": [
    {
     "name": "stdout",
     "output_type": "stream",
     "text": [
      "p1 [2, 3] Parameter containing:\n",
      "Tensor(shape=[2, 3], dtype=float32, place=CUDAPlace(0), stop_gradient=False,\n",
      "       [[-0.82815331, -0.80408567, -0.20575410],\n",
      "        [-0.65021932, -0.04105872,  0.81061167]]) None True\n",
      "p2 [2, 3] Parameter containing:\n",
      "Tensor(shape=[2, 3], dtype=float32, place=CUDAPlace(0), stop_gradient=False,\n",
      "       [[ 0.49414185,  0.49970096, -0.64068806],\n",
      "        [-0.04616990, -0.53112006,  0.10201436]]) None True\n"
     ]
    }
   ],
   "source": [
    "class MLayer(paddle.nn.Layer):\n",
    "    '''\n",
    "    '''\n",
    "    def __init__(self, ):\n",
    "        super(MLayer, self).__init__()\n",
    "        \n",
    "        p1 = self.create_parameter(shape=(2, 3))\n",
    "        self.add_parameter('p1', p1)\n",
    "\n",
    "        # OR \n",
    "        # setattr\n",
    "        self.p2 = self.create_parameter(shape=(2, 3))\n",
    "        \n",
    "        # p3 = paddle.rand(shape=(2, 3))\n",
    "        # p3.stop_gradient = False\n",
    "        # self.add_parameter('p3', p3)\n",
    "        \n",
    "    def forward():\n",
    "        '''\n",
    "        '''\n",
    "        pass\n",
    "\n",
    "    \n",
    "for n, p in MLayer().named_parameters():\n",
    "    print(n, p.shape, p, p.grad, p.persistable)"
   ]
  },
  {
   "cell_type": "code",
   "execution_count": 44,
   "metadata": {},
   "outputs": [
    {
     "name": "stdout",
     "output_type": "stream",
     "text": [
      "<class 'paddle.fluid.framework.ParamBase'> [2, 3] None False\n"
     ]
    }
   ],
   "source": [
    "p = paddle.nn.Layer().create_parameter(shape=[2, 3])\n",
    "p.persistable = False\n",
    "p.stop_gradient = True\n",
    "\n",
    "print(type(p), p.shape, p.grad, p.persistable)"
   ]
  },
  {
   "cell_type": "code",
   "execution_count": 48,
   "metadata": {},
   "outputs": [
    {
     "name": "stdout",
     "output_type": "stream",
     "text": [
      "<class 'paddle.fluid.framework.ParamBase'> [2, 3] None True\n",
      "Parameter containing:\n",
      "Tensor(shape=[2, 3], dtype=float32, place=CUDAPlace(0), stop_gradient=False,\n",
      "       [[-0.04849135, -0.85498643,  0.94115239],\n",
      "        [ 0.06566436, -0.53498608, -0.28728154]])\n"
     ]
    }
   ],
   "source": [
    "p = framework.create_parameter(shape=[2, 3], dtype='float32')\n",
    "\n",
    "print(type(p), p.shape, p.grad, p.persistable)\n",
    "print(p)"
   ]
  },
  {
   "cell_type": "code",
   "execution_count": 54,
   "metadata": {},
   "outputs": [
    {
     "name": "stdout",
     "output_type": "stream",
     "text": [
      "Tensor(shape=[2, 3], dtype=float32, place=CUDAPlace(0), stop_gradient=True,\n",
      "       [[0.24190661, 0.07387968, 0.24628851],\n",
      "        [0.59235895, 0.75931871, 0.07467352]])\n",
      "Tensor(shape=[2, 3], dtype=float32, place=CUDAPlace(0), stop_gradient=False,\n",
      "       [[ 0.19341525, -0.78110677,  1.18744087],\n",
      "        [ 0.65802330,  0.22433263, -0.21260802]])\n",
      "False\n"
     ]
    }
   ],
   "source": [
    "x = paddle.rand(shape=(2, 3))\n",
    "print(x)\n",
    "\n",
    "y = p + x\n",
    "print(y)\n",
    "print(y.persistable)"
   ]
  },
  {
   "cell_type": "code",
   "execution_count": 233,
   "metadata": {},
   "outputs": [
    {
     "name": "stdout",
     "output_type": "stream",
     "text": [
      "0\n",
      "[[0.8286207 0.8286207]\n",
      " [1.3484427 1.3484427]]\n",
      "[[1. 1.]\n",
      " [1. 1.]\n",
      " [1. 1.]]\n",
      "\n",
      "1\n",
      "[[1.6572413 1.6572413]\n",
      " [2.6968853 2.6968853]]\n",
      "[[1. 1.]\n",
      " [1. 1.]\n",
      " [1. 1.]]\n",
      "\n",
      "<class 'paddle.fluid.framework.ParamBase'> <class 'paddle.VarBase'> <class 'paddle.VarBase'>\n"
     ]
    }
   ],
   "source": [
    "x = paddle.rand(shape=(3, 2))\n",
    "p = paddle.framework.create_parameter(shape=(2, 2), dtype='float32')\n",
    "# p = paddle.rand(shape=(2, 2))\n",
    "# p.stop_gradient = False\n",
    "\n",
    "for i in range(2):\n",
    "    y = paddle.matmul(x, p)\n",
    "    \n",
    "    # y.stop_gradient = True\n",
    "    # y = y.detach()\n",
    "    \n",
    "    loss = y.sum()\n",
    "    loss.backward()\n",
    "      \n",
    "    print('{}\\n{}\\n{}\\n'.format(i, p.grad, y.grad))\n",
    "    \n",
    "    # p.clear_grad()\n",
    "\n",
    "print(type(p), type(x), type(y))  "
   ]
  },
  {
   "cell_type": "code",
   "execution_count": 234,
   "metadata": {},
   "outputs": [
    {
     "data": {
      "text/plain": [
       "True"
      ]
     },
     "execution_count": 234,
     "metadata": {},
     "output_type": "execute_result"
    }
   ],
   "source": [
    "issubclass(paddle.fluid.framework.ParamBase, paddle.Tensor)"
   ]
  },
  {
   "cell_type": "code",
   "execution_count": 235,
   "metadata": {},
   "outputs": [
    {
     "name": "stdout",
     "output_type": "stream",
     "text": [
      "<class 'torch.nn.parameter.Parameter'>\n",
      "<class 'torch.Tensor'>\n"
     ]
    }
   ],
   "source": [
    "# Difference from torch parameter\n",
    "# Same as torch.tensor with requires_grad=True\n",
    "\n",
    "p1 = torch.nn.Parameter(torch.rand(2, 2))\n",
    "print(type(p1))\n",
    "\n",
    "p2 = torch.rand(2, 2, requires_grad=True)\n",
    "print(type(p2))"
   ]
  },
  {
   "cell_type": "code",
   "execution_count": 236,
   "metadata": {},
   "outputs": [
    {
     "data": {
      "text/plain": [
       "True"
      ]
     },
     "execution_count": 236,
     "metadata": {},
     "output_type": "execute_result"
    }
   ],
   "source": [
    "issubclass(torch.nn.Parameter, torch.Tensor)"
   ]
  },
  {
   "cell_type": "code",
   "execution_count": 249,
   "metadata": {},
   "outputs": [],
   "source": [
    "## Container"
   ]
  },
  {
   "cell_type": "code",
   "execution_count": 57,
   "metadata": {},
   "outputs": [
    {
     "name": "stdout",
     "output_type": "stream",
     "text": [
      "['0', '1', '2', '__call__', '__class__', '__delattr__', '__delitem__', '__dict__', '__dir__', '__doc__', '__eq__', '__format__', '__ge__', '__getattr__', '__getattribute__', '__getitem__', '__gt__', '__hash__', '__init__', '__init_subclass__', '__le__', '__len__', '__lt__', '__module__', '__ne__', '__new__', '__reduce__', '__reduce_ex__', '__repr__', '__setattr__', '__setitem__', '__sizeof__', '__str__', '__subclasshook__', '_buffers', '_build_once', '_built', '_dtype', '_forward_post_hooks', '_forward_pre_hooks', '_full_name', '_helper', '_init_in_dynamic_mode', '_loaddict_holder', '_non_persistable_buffer_names_set', '_parameters', '_sub_layers', 'add_parameter', 'add_sublayer', 'apply', 'backward', 'buffers', 'children', 'clear_gradients', 'create_parameter', 'create_tensor', 'create_variable', 'eval', 'forward', 'full_name', 'load_dict', 'named_buffers', 'named_children', 'named_parameters', 'named_sublayers', 'parameters', 'register_buffer', 'register_forward_post_hook', 'register_forward_pre_hook', 'set_dict', 'set_state_dict', 'state_dict', 'sublayers', 'train', 'training']\n",
      "\n",
      "[32, 3]\n",
      "0.weight [10, 10] False True (10, 10)\n",
      "0.bias [10] False True (10,)\n",
      "2.weight [10, 3] False True (10, 3)\n",
      "2.bias [3] False True (3,)\n"
     ]
    }
   ],
   "source": [
    "# https://github.com/PaddlePaddle/Paddle/blob/develop/python/paddle/fluid/dygraph/container.py\n",
    "# Sequential LayerList\n",
    "\n",
    "data = paddle.to_tensor(np.random.rand(32, 10).astype(np.float32))\n",
    "\n",
    "mm = nn.Sequential(nn.Linear(10, 10), nn.ReLU(), nn.Linear(10, 3)); print(dir(mm)); print()\n",
    "\n",
    "out = mm(data)\n",
    "loss = out.sum()\n",
    "loss.backward()\n",
    "\n",
    "print(out.shape)\n",
    "\n",
    "for i, (n, p) in enumerate(mm.named_parameters()):\n",
    "    print(n, p.shape, p.stop_gradient, p.persistable, p.grad.shape)\n"
   ]
  },
  {
   "cell_type": "code",
   "execution_count": null,
   "metadata": {},
   "outputs": [],
   "source": [
    "# torch.nn.Module\n",
    "# torch.nn.Sequential\n",
    "# torch.nn.ModuleList"
   ]
  },
  {
   "cell_type": "code",
   "execution_count": 55,
   "metadata": {},
   "outputs": [],
   "source": [
    "## Loss"
   ]
  },
  {
   "cell_type": "code",
   "execution_count": 232,
   "metadata": {},
   "outputs": [
    {
     "data": {
      "text/plain": [
       "paddle.nn.layer.loss.MSELoss"
      ]
     },
     "execution_count": 232,
     "metadata": {},
     "output_type": "execute_result"
    }
   ],
   "source": [
    "paddle.nn.MSELoss"
   ]
  },
  {
   "cell_type": "markdown",
   "metadata": {},
   "source": [
    "# Optimizer"
   ]
  },
  {
   "cell_type": "code",
   "execution_count": 58,
   "metadata": {},
   "outputs": [],
   "source": [
    "import paddle.optimizer"
   ]
  },
  {
   "cell_type": "code",
   "execution_count": 66,
   "metadata": {},
   "outputs": [
    {
     "name": "stdout",
     "output_type": "stream",
     "text": [
      "sgd_1 lr:  0.3 sgd_2 lr:  0.1\n",
      "sgd_1 lr:  0.3 sgd_2 lr:  0.1\n",
      "sgd_1 lr:  0.03 sgd_2 lr:  0.010000000000000002\n",
      "sgd_1 lr:  0.03 sgd_2 lr:  0.010000000000000002\n",
      "sgd_1 lr:  0.0030000000000000005 sgd_2 lr:  0.0010000000000000002\n",
      "sgd_1 lr:  0.0030000000000000005 sgd_2 lr:  0.0010000000000000002\n",
      "sgd_1 lr:  0.0030000000000000005 sgd_2 lr:  0.0010000000000000002\n",
      "sgd_1 lr:  0.0003000000000000001 sgd_2 lr:  0.00010000000000000003\n",
      "sgd_1 lr:  0.0003000000000000001 sgd_2 lr:  0.00010000000000000003\n",
      "sgd_1 lr:  0.0003000000000000001 sgd_2 lr:  0.00010000000000000003\n"
     ]
    }
   ],
   "source": [
    "data = paddle.to_tensor(np.random.rand(32, 10).astype(np.float32))\n",
    "model = nn.Sequential(nn.Linear(10, 10), nn.ReLU(), nn.Linear(10, 3))\n",
    "\n",
    "lr_scheduler_1 = paddle.optimizer.lr.MultiStepDecay(learning_rate=0.3, milestones=[3, 5, 8], gamma=0.1)\n",
    "sgd_1 = paddle.optimizer.SGD(parameters=model.parameters()[:-2], learning_rate=lr_scheduler_1, weight_decay=0.01)\n",
    "\n",
    "lr_scheduler_2 = paddle.optimizer.lr.MultiStepDecay(learning_rate=0.1, milestones=[3, 5, 8], gamma=0.1)\n",
    "sgd_2 = paddle.optimizer.SGD(parameters=model.parameters()[-2:], learning_rate=lr_scheduler_2, weight_decay=0.01)\n",
    "\n",
    "model.train()\n",
    "\n",
    "for i in range(10):\n",
    "    \n",
    "    out = model(data)\n",
    "    loss = out.sum()\n",
    "    loss.backward()\n",
    "    \n",
    "    sgd_1.step()\n",
    "    sgd_1.clear_grad()\n",
    "\n",
    "    sgd_2.step()\n",
    "    sgd_2.clear_grad()\n",
    "    \n",
    "    # print(sgd.current_step_lr())\n",
    "    \n",
    "    # sgd.set_lr(random.random())\n",
    "    # print(sgd._learning_rate)\n",
    "\n",
    "    lr_scheduler_1.step()\n",
    "    lr_scheduler_2.step()\n",
    "    \n",
    "    print('sgd_1 lr: ', sgd_1._learning_rate(), 'sgd_2 lr: ', sgd_2._learning_rate())\n"
   ]
  },
  {
   "cell_type": "code",
   "execution_count": 63,
   "metadata": {},
   "outputs": [
    {
     "data": {
      "text/plain": [
       "list"
      ]
     },
     "execution_count": 63,
     "metadata": {},
     "output_type": "execute_result"
    }
   ],
   "source": [
    "type(model.parameters())"
   ]
  },
  {
   "cell_type": "code",
   "execution_count": 129,
   "metadata": {
    "scrolled": true
   },
   "outputs": [
    {
     "data": {
      "text/plain": [
       "torch.optim.lr_scheduler.ExponentialLR"
      ]
     },
     "execution_count": 129,
     "metadata": {},
     "output_type": "execute_result"
    }
   ],
   "source": [
    "# torch\n",
    "# param_group\n",
    "torch.optim.Optimizer\n",
    "torch.optim.SGD\n",
    "torch.optim.lr_scheduler.ExponentialLR"
   ]
  },
  {
   "cell_type": "markdown",
   "metadata": {},
   "source": [
    "# Metric"
   ]
  },
  {
   "cell_type": "code",
   "execution_count": 314,
   "metadata": {},
   "outputs": [],
   "source": [
    "import paddle.metric "
   ]
  },
  {
   "cell_type": "code",
   "execution_count": 319,
   "metadata": {},
   "outputs": [
    {
     "data": {
      "text/plain": [
       "<function paddle.metric.metrics.accuracy(input, label, k=1, correct=None, total=None, name=None)>"
      ]
     },
     "execution_count": 319,
     "metadata": {},
     "output_type": "execute_result"
    }
   ],
   "source": [
    "paddle.metric.accuracy"
   ]
  },
  {
   "cell_type": "markdown",
   "metadata": {},
   "source": [
    "# IO"
   ]
  },
  {
   "cell_type": "code",
   "execution_count": 266,
   "metadata": {},
   "outputs": [],
   "source": [
    "import paddle.io\n",
    "# https://github.com/PaddlePaddle/Paddle/blob/develop/python/paddle/fluid/dataloader/dataset.py"
   ]
  },
  {
   "cell_type": "code",
   "execution_count": null,
   "metadata": {},
   "outputs": [],
   "source": [
    "## Dataset"
   ]
  },
  {
   "cell_type": "code",
   "execution_count": 273,
   "metadata": {},
   "outputs": [],
   "source": [
    "class Dataset(paddle.io.Dataset):\n",
    "    '''\n",
    "    '''\n",
    "    def __init__(self, nums):\n",
    "        '''\n",
    "        '''\n",
    "        self.nums = nums\n",
    "    \n",
    "    def __getitem__(self, i):\n",
    "        '''\n",
    "        '''\n",
    "        return np.random.rand(10, 10), np.random.rand(3, 3)\n",
    "\n",
    "    def __len__(self, ):\n",
    "        '''\n",
    "        '''\n",
    "        return self.nums"
   ]
  },
  {
   "cell_type": "code",
   "execution_count": 277,
   "metadata": {},
   "outputs": [
    {
     "name": "stdout",
     "output_type": "stream",
     "text": [
      "100\n",
      "(10, 10) (3, 3) <class 'numpy.ndarray'>\n"
     ]
    }
   ],
   "source": [
    "dataset = Dataset(100)\n",
    "for d1, d2 in dataset:\n",
    "    print(d1.shape, d2.shape, type(d1))\n",
    "    break"
   ]
  },
  {
   "cell_type": "code",
   "execution_count": 322,
   "metadata": {},
   "outputs": [
    {
     "name": "stdout",
     "output_type": "stream",
     "text": [
      "[30, 10, 10] [30, 3, 3] <class 'paddle.VarBase'> VarType.FP64 CPUPlace\n",
      "[30, 10, 10] [30, 3, 3] <class 'paddle.VarBase'> VarType.FP64 CPUPlace\n",
      "[30, 10, 10] [30, 3, 3] <class 'paddle.VarBase'> VarType.FP64 CPUPlace\n",
      "[10, 10, 10] [10, 3, 3] <class 'paddle.VarBase'> VarType.FP64 CPUPlace\n"
     ]
    }
   ],
   "source": [
    "dataloader = paddle.io.DataLoader(dataset=dataset, num_workers=0, batch_size=30, places=paddle.CPUPlace(), shuffle=True)\n",
    "for d1, d2 in dataloader:\n",
    "    print(d1.shape, d2.shape, type(d1), d1.dtype, d1.place)"
   ]
  },
  {
   "cell_type": "code",
   "execution_count": null,
   "metadata": {},
   "outputs": [],
   "source": [
    "# same as torch.data.Dataset\n",
    "torch.utils.data.Dataset\n",
    "torch.utils.data.DataLoader"
   ]
  },
  {
   "cell_type": "code",
   "execution_count": null,
   "metadata": {},
   "outputs": [],
   "source": [
    "## serialization"
   ]
  },
  {
   "cell_type": "code",
   "execution_count": 311,
   "metadata": {},
   "outputs": [],
   "source": [
    "paddle.save(mlayer.state_dict(), 'params.pdparams')\n",
    "mlayer.load_dict(paddle.load('params.pdparams'))\n",
    "\n",
    "paddle.save(sgd.state_dict(), 'parames.pdopt')\n",
    "# sgd.load_dict(paddle.load('parames.pdopt'))"
   ]
  },
  {
   "cell_type": "code",
   "execution_count": 130,
   "metadata": {},
   "outputs": [
    {
     "data": {
      "text/plain": [
       "<function torch.serialization.load(f, map_location=None, pickle_module=<module 'pickle' from 'C:\\\\Users\\\\wenylv\\\\Miniconda3\\\\lib\\\\pickle.py'>, **pickle_load_args)>"
      ]
     },
     "execution_count": 130,
     "metadata": {},
     "output_type": "execute_result"
    }
   ],
   "source": [
    "# same as torch.save\n",
    "torch.save\n",
    "torch.load"
   ]
  },
  {
   "cell_type": "markdown",
   "metadata": {},
   "source": [
    "# Trainer"
   ]
  },
  {
   "cell_type": "code",
   "execution_count": 323,
   "metadata": {},
   "outputs": [
    {
     "data": {
      "text/plain": [
       "paddle.hapi.model.Model"
      ]
     },
     "execution_count": 323,
     "metadata": {},
     "output_type": "execute_result"
    }
   ],
   "source": [
    "paddle.Model"
   ]
  },
  {
   "cell_type": "markdown",
   "metadata": {},
   "source": [
    "# Example"
   ]
  },
  {
   "cell_type": "code",
   "execution_count": 223,
   "metadata": {},
   "outputs": [],
   "source": [
    "# pytorch vs. paddle\n",
    "import torch\n",
    "import paddle"
   ]
  },
  {
   "cell_type": "markdown",
   "metadata": {},
   "source": [
    "## Paddle"
   ]
  },
  {
   "cell_type": "code",
   "execution_count": 208,
   "metadata": {},
   "outputs": [
    {
     "name": "stdout",
     "output_type": "stream",
     "text": [
      "(100000, 1) (100000, 1)\n",
      "(1,) (1,)\n",
      "[10000, 1] [10000, 1]\n"
     ]
    }
   ],
   "source": [
    "class Dataset(paddle.io.Dataset):\n",
    "    '''\n",
    "    '''\n",
    "    def __init__(self, nums=10000):\n",
    "        self.nums = nums\n",
    "        self.data = 2 * np.pi * 2 * (np.random.rand(nums, 1).astype(np.float32) - 0.5)\n",
    "        self.label = 3 * np.cos(self.data)\n",
    "        print(self.data.shape, self.label.shape)\n",
    "        \n",
    "    def __len__(self, ):\n",
    "        return self.nums\n",
    "\n",
    "    def __getitem__(self, i):\n",
    "        '''\n",
    "        '''\n",
    "        return self.data[i], self.label[i]\n",
    "\n",
    "\n",
    "dataset = Dataset(nums=100000)    \n",
    "dataloader = paddle.io.DataLoader(dataset=dataset, batch_size=10000, shuffle=True)\n",
    "\n",
    "for _data, _label in dataset:\n",
    "    print(_data.shape, _label.shape)\n",
    "    break\n",
    "\n",
    "for _data, _label in dataloader:\n",
    "    print(_data.shape, _label.shape)\n",
    "    break"
   ]
  },
  {
   "cell_type": "code",
   "execution_count": 209,
   "metadata": {},
   "outputs": [
    {
     "data": {
      "text/plain": [
       "(1000, 1)"
      ]
     },
     "execution_count": 209,
     "metadata": {},
     "output_type": "execute_result"
    }
   ],
   "source": [
    "model = paddle.nn.Sequential(('l1', paddle.nn.Linear(1, 32)),\n",
    "                             ('a1', paddle.nn.ReLU()),\n",
    "                             ('l2', paddle.nn.Linear(32, 32)),\n",
    "                             ('a1', paddle.nn.ReLU()),\n",
    "                             ('fc', paddle.nn.Linear(32, 1))\n",
    "        )\n",
    "\n",
    "mse = paddle.nn.MSELoss()\n",
    "\n",
    "(data).shape"
   ]
  },
  {
   "cell_type": "code",
   "execution_count": 210,
   "metadata": {},
   "outputs": [],
   "source": [
    "# lr_scheduler = paddle.optimizer.lr.MultiStepDecay(learning_rate=0.1, milestones=[5, 10, 15], gamma=0.1)\n",
    "# optim_scheduler = paddle.optimizer.SGD(learning_rate=lr_scheduler, parameters=model.parameters(), )\n",
    "\n",
    "optim_scheduler = paddle.optimizer.Adam(learning_rate=0.1, parameters=model.parameters())"
   ]
  },
  {
   "cell_type": "code",
   "execution_count": 211,
   "metadata": {},
   "outputs": [],
   "source": [
    "model.train()\n",
    "\n",
    "for e in range(80):\n",
    "    for _data, _label in dataloader:\n",
    "        \n",
    "        _out = model(_data)\n",
    "        _loss = mse(_out, _label)\n",
    "        \n",
    "        _loss.backward()\n",
    "        \n",
    "        optim_scheduler.step()\n",
    "        optim_scheduler.clear_grad()\n",
    "    \n",
    "    # lr_scheduler.step()\n",
    "    "
   ]
  },
  {
   "cell_type": "code",
   "execution_count": 212,
   "metadata": {},
   "outputs": [
    {
     "data": {
      "image/png": "[encoded data removed]",
      "text/plain": [
       "<Figure size 720x360 with 1 Axes>"
      ]
     },
     "metadata": {
      "needs_background": "light"
     },
     "output_type": "display_data"
    }
   ],
   "source": [
    "model.eval()\n",
    "\n",
    "data = 2 * np.pi * 2 * (np.random.rand(1000, 1).astype(np.float32) - 0.5)\n",
    "label = 3 * np.cos(data)\n",
    "\n",
    "fig = plt.figure(figsize=(10, 5))\n",
    "\n",
    "plt.scatter(data, label, label='cos')\n",
    "plt.scatter(data, model(paddle.to_tensor(data)).numpy(), label='eval')\n",
    "\n",
    "plt.legend(loc='lower right')\n",
    "plt.grid()\n",
    "plt.show()"
   ]
  },
  {
   "cell_type": "markdown",
   "metadata": {},
   "source": [
    "## Pytorch"
   ]
  },
  {
   "cell_type": "code",
   "execution_count": 213,
   "metadata": {},
   "outputs": [],
   "source": [
    "import torch\n",
    "from collections import OrderedDict"
   ]
  },
  {
   "cell_type": "code",
   "execution_count": 216,
   "metadata": {},
   "outputs": [
    {
     "name": "stdout",
     "output_type": "stream",
     "text": [
      "(100000, 1) (100000, 1)\n",
      "(1,) (1,)\n",
      "torch.Size([10000, 1]) torch.Size([10000, 1])\n"
     ]
    }
   ],
   "source": [
    "class Dataset(torch.utils.data.Dataset):\n",
    "    '''\n",
    "    '''\n",
    "    def __init__(self, nums=10000):\n",
    "        self.nums = nums\n",
    "        self.data = 2 * np.pi * 2 * (np.random.rand(nums, 1).astype(np.float32) - 0.5)\n",
    "        self.label = 3 * np.cos(self.data)\n",
    "        print(self.data.shape, self.label.shape)\n",
    "        \n",
    "    def __len__(self, ):\n",
    "        return self.nums\n",
    "\n",
    "    def __getitem__(self, i):\n",
    "        '''\n",
    "        '''\n",
    "        return self.data[i], self.label[i]\n",
    "\n",
    "\n",
    "dataset = Dataset(nums=100000)    \n",
    "dataloader = torch.utils.data.DataLoader(dataset=dataset, batch_size=10000, shuffle=True)\n",
    "\n",
    "for _data, _label in dataset:\n",
    "    print(_data.shape, _label.shape)\n",
    "    break\n",
    "\n",
    "for _data, _label in dataloader:\n",
    "    print(_data.shape, _label.shape)\n",
    "    break"
   ]
  },
  {
   "cell_type": "code",
   "execution_count": 226,
   "metadata": {},
   "outputs": [
    {
     "data": {
      "text/plain": [
       "torch.Size([100, 1])"
      ]
     },
     "execution_count": 226,
     "metadata": {},
     "output_type": "execute_result"
    }
   ],
   "source": [
    "model = torch.nn.Sequential(OrderedDict([('l1', torch.nn.Linear(1, 32)),\n",
    "                             ('a1', torch.nn.ReLU()),\n",
    "                             ('l2', torch.nn.Linear(32, 32)),\n",
    "                             ('a1', torch.nn.ReLU()),\n",
    "                             ('fc', torch.nn.Linear(32, 1))])\n",
    "                           )\n",
    "\n",
    "mse = torch.nn.MSELoss().cuda()\n",
    "\n",
    "model = model.cuda()\n",
    "mse = mse.cuda()\n",
    "\n",
    "model(torch.rand(100, 1).cuda()).shape"
   ]
  },
  {
   "cell_type": "code",
   "execution_count": 227,
   "metadata": {},
   "outputs": [],
   "source": [
    "optimizer = torch.optim.Adam(model.parameters(), lr=0.1)\n",
    "\n",
    "# optimizer = torch.optim.Adam([{'params': model.parameters(), 'lr': 0.01}], lr=0.1)\n",
    "# scheduler = torch.optim.lr_scheduler.MultiStepLR(optimizer=optimizer, milestones=[5, 10, 15], gamma=0.1)"
   ]
  },
  {
   "cell_type": "code",
   "execution_count": 228,
   "metadata": {},
   "outputs": [],
   "source": [
    "model.train()\n",
    "\n",
    "for e in range(80):\n",
    "    for _data, _label in dataloader:\n",
    "        \n",
    "        _out = model(_data.cuda())\n",
    "        _loss = mse(_out, _label.cuda())\n",
    "        \n",
    "        _loss.backward()\n",
    "        \n",
    "        optimizer.step()\n",
    "        optimizer.zero_grad()\n",
    "    \n",
    "    # scheduler.step()"
   ]
  },
  {
   "cell_type": "code",
   "execution_count": 221,
   "metadata": {},
   "outputs": [
    {
     "data": {
      "image/png": "[encoded data removed]",
      "text/plain": [
       "<Figure size 720x360 with 1 Axes>"
      ]
     },
     "metadata": {
      "needs_background": "light"
     },
     "output_type": "display_data"
    }
   ],
   "source": [
    "model.eval()\n",
    "\n",
    "data = 2 * np.pi * 2 * (np.random.rand(1000, 1).astype(np.float32) - 0.5)\n",
    "label = 3 * np.cos(data)\n",
    "\n",
    "fig = plt.figure(figsize=(10, 5))\n",
    "\n",
    "plt.scatter(data, label, label='cos')\n",
    "plt.scatter(data, model(torch.tensor(data).cuda()).cpu().detach().numpy(), label='eval')\n",
    "\n",
    "plt.legend(loc='lower right')\n",
    "plt.grid()\n",
    "plt.show()"
   ]
  },
  {
   "cell_type": "markdown",
   "metadata": {},
   "source": [
    "# Others"
   ]
  },
  {
   "cell_type": "code",
   "execution_count": 235,
   "metadata": {},
   "outputs": [
    {
     "name": "stdout",
     "output_type": "stream",
     "text": [
      "[[11.05761107]\n",
      " [ 9.40101972]]\n",
      "[[2.11332298 5.57538129 9.21772534]]\n"
     ]
    }
   ],
   "source": [
    "x = np.array([[1.], [2.], [3.]])\n",
    "A = np.random.rand(2, 3)\n",
    "v = np.array([[1.], [1.]])\n",
    "\n",
    "def forward(x, A):\n",
    "    '''\n",
    "    '''\n",
    "    y = x ** 2\n",
    "    z = np.dot(A, y)\n",
    "    return z\n",
    "\n",
    "def backward(v):\n",
    "    '''\n",
    "    '''\n",
    "    dydx = 2 * x\n",
    "    dzdy = A\n",
    "    dzdx = dzdy * dydx.T\n",
    "    \n",
    "    dldx = np.dot(v.T, dzdx)\n",
    "\n",
    "    return dldx\n",
    "    \n",
    "    \n",
    "print(forward(x, A))\n",
    "print(backward(v))"
   ]
  },
  {
   "cell_type": "code",
   "execution_count": 236,
   "metadata": {},
   "outputs": [
    {
     "data": {
      "text/plain": [
       "tensor([[11.0576],\n",
       "        [ 9.4010]], dtype=torch.float64)"
      ]
     },
     "execution_count": 236,
     "metadata": {},
     "output_type": "execute_result"
    }
   ],
   "source": [
    "def func(x):\n",
    "    '''\n",
    "    '''\n",
    "    x = x ** 2\n",
    "    AA = torch.from_numpy(A)\n",
    "    \n",
    "    return torch.mm(AA, x)\n",
    "\n",
    "xx = torch.from_numpy(x)\n",
    "func(xx)"
   ]
  },
  {
   "cell_type": "code",
   "execution_count": 237,
   "metadata": {},
   "outputs": [
    {
     "data": {
      "text/plain": [
       "tensor([[2.1133, 5.5754, 9.2177]], dtype=torch.float64)"
      ]
     },
     "execution_count": 237,
     "metadata": {},
     "output_type": "execute_result"
    }
   ],
   "source": [
    "grad = torch.autograd.functional.jacobian(func, xx).view(2, 3)\n",
    "torch.mm(torch.tensor([[1.], [1.]], dtype=torch.float64).T, grad)"
   ]
  }
 ],
 "metadata": {
  "kernelspec": {
   "display_name": "Python 3",
   "language": "python",
   "name": "python3"
  },
  "language_info": {
   "codemirror_mode": {
    "name": "ipython",
    "version": 3
   },
   "file_extension": ".py",
   "mimetype": "text/x-python",
   "name": "python",
   "nbconvert_exporter": "python",
   "pygments_lexer": "ipython3",
   "version": "3.7.4"
  }
 },
 "nbformat": 4,
 "nbformat_minor": 4
}
