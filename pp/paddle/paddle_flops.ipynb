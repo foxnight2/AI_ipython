{
 "cells": [
  {
   "cell_type": "markdown",
   "metadata": {},
   "source": [
    "# FLOPs"
   ]
  },
  {
   "cell_type": "code",
   "execution_count": 62,
   "metadata": {},
   "outputs": [],
   "source": [
    "import paddle\n",
    "# https://github.com/Lyken17/pytorch-OpCounter/tree/master/thop\n",
    "# https://arxiv.org/pdf/1611.06440.pdf"
   ]
  },
  {
   "cell_type": "code",
   "execution_count": 63,
   "metadata": {},
   "outputs": [],
   "source": [
    "model = paddle.vision.models.resnet34()"
   ]
  },
  {
   "cell_type": "code",
   "execution_count": 64,
   "metadata": {},
   "outputs": [
    {
     "name": "stdout",
     "output_type": "stream",
     "text": [
      "-------------------------------------------------------------------------------\n",
      "   Layer (type)         Input Shape          Output Shape         Param #    \n",
      "===============================================================================\n",
      "    Conv2D-253       [[1, 3, 224, 224]]   [1, 64, 112, 112]        9,408     \n",
      "  BatchNorm2D-253   [[1, 64, 112, 112]]   [1, 64, 112, 112]         256      \n",
      "     ReLU-120       [[1, 64, 112, 112]]   [1, 64, 112, 112]          0       \n",
      "    MaxPool2D-8     [[1, 64, 112, 112]]    [1, 64, 56, 56]           0       \n",
      "    Conv2D-254       [[1, 64, 56, 56]]     [1, 64, 56, 56]        36,864     \n",
      "  BatchNorm2D-254    [[1, 64, 56, 56]]     [1, 64, 56, 56]          256      \n",
      "     ReLU-121        [[1, 64, 56, 56]]     [1, 64, 56, 56]           0       \n",
      "    Conv2D-255       [[1, 64, 56, 56]]     [1, 64, 56, 56]        36,864     \n",
      "  BatchNorm2D-255    [[1, 64, 56, 56]]     [1, 64, 56, 56]          256      \n",
      "  BasicBlock-113     [[1, 64, 56, 56]]     [1, 64, 56, 56]           0       \n",
      "    Conv2D-256       [[1, 64, 56, 56]]     [1, 64, 56, 56]        36,864     \n",
      "  BatchNorm2D-256    [[1, 64, 56, 56]]     [1, 64, 56, 56]          256      \n",
      "     ReLU-122        [[1, 64, 56, 56]]     [1, 64, 56, 56]           0       \n",
      "    Conv2D-257       [[1, 64, 56, 56]]     [1, 64, 56, 56]        36,864     \n",
      "  BatchNorm2D-257    [[1, 64, 56, 56]]     [1, 64, 56, 56]          256      \n",
      "  BasicBlock-114     [[1, 64, 56, 56]]     [1, 64, 56, 56]           0       \n",
      "    Conv2D-258       [[1, 64, 56, 56]]     [1, 64, 56, 56]        36,864     \n",
      "  BatchNorm2D-258    [[1, 64, 56, 56]]     [1, 64, 56, 56]          256      \n",
      "     ReLU-123        [[1, 64, 56, 56]]     [1, 64, 56, 56]           0       \n",
      "    Conv2D-259       [[1, 64, 56, 56]]     [1, 64, 56, 56]        36,864     \n",
      "  BatchNorm2D-259    [[1, 64, 56, 56]]     [1, 64, 56, 56]          256      \n",
      "  BasicBlock-115     [[1, 64, 56, 56]]     [1, 64, 56, 56]           0       \n",
      "    Conv2D-261       [[1, 64, 56, 56]]     [1, 128, 28, 28]       73,728     \n",
      "  BatchNorm2D-261    [[1, 128, 28, 28]]    [1, 128, 28, 28]         512      \n",
      "     ReLU-124        [[1, 128, 28, 28]]    [1, 128, 28, 28]          0       \n",
      "    Conv2D-262       [[1, 128, 28, 28]]    [1, 128, 28, 28]       147,456    \n",
      "  BatchNorm2D-262    [[1, 128, 28, 28]]    [1, 128, 28, 28]         512      \n",
      "    Conv2D-260       [[1, 64, 56, 56]]     [1, 128, 28, 28]        8,192     \n",
      "  BatchNorm2D-260    [[1, 128, 28, 28]]    [1, 128, 28, 28]         512      \n",
      "  BasicBlock-116     [[1, 64, 56, 56]]     [1, 128, 28, 28]          0       \n",
      "    Conv2D-263       [[1, 128, 28, 28]]    [1, 128, 28, 28]       147,456    \n",
      "  BatchNorm2D-263    [[1, 128, 28, 28]]    [1, 128, 28, 28]         512      \n",
      "     ReLU-125        [[1, 128, 28, 28]]    [1, 128, 28, 28]          0       \n",
      "    Conv2D-264       [[1, 128, 28, 28]]    [1, 128, 28, 28]       147,456    \n",
      "  BatchNorm2D-264    [[1, 128, 28, 28]]    [1, 128, 28, 28]         512      \n",
      "  BasicBlock-117     [[1, 128, 28, 28]]    [1, 128, 28, 28]          0       \n",
      "    Conv2D-265       [[1, 128, 28, 28]]    [1, 128, 28, 28]       147,456    \n",
      "  BatchNorm2D-265    [[1, 128, 28, 28]]    [1, 128, 28, 28]         512      \n",
      "     ReLU-126        [[1, 128, 28, 28]]    [1, 128, 28, 28]          0       \n",
      "    Conv2D-266       [[1, 128, 28, 28]]    [1, 128, 28, 28]       147,456    \n",
      "  BatchNorm2D-266    [[1, 128, 28, 28]]    [1, 128, 28, 28]         512      \n",
      "  BasicBlock-118     [[1, 128, 28, 28]]    [1, 128, 28, 28]          0       \n",
      "    Conv2D-267       [[1, 128, 28, 28]]    [1, 128, 28, 28]       147,456    \n",
      "  BatchNorm2D-267    [[1, 128, 28, 28]]    [1, 128, 28, 28]         512      \n",
      "     ReLU-127        [[1, 128, 28, 28]]    [1, 128, 28, 28]          0       \n",
      "    Conv2D-268       [[1, 128, 28, 28]]    [1, 128, 28, 28]       147,456    \n",
      "  BatchNorm2D-268    [[1, 128, 28, 28]]    [1, 128, 28, 28]         512      \n",
      "  BasicBlock-119     [[1, 128, 28, 28]]    [1, 128, 28, 28]          0       \n",
      "    Conv2D-270       [[1, 128, 28, 28]]    [1, 256, 14, 14]       294,912    \n",
      "  BatchNorm2D-270    [[1, 256, 14, 14]]    [1, 256, 14, 14]        1,024     \n",
      "     ReLU-128        [[1, 256, 14, 14]]    [1, 256, 14, 14]          0       \n",
      "    Conv2D-271       [[1, 256, 14, 14]]    [1, 256, 14, 14]       589,824    \n",
      "  BatchNorm2D-271    [[1, 256, 14, 14]]    [1, 256, 14, 14]        1,024     \n",
      "    Conv2D-269       [[1, 128, 28, 28]]    [1, 256, 14, 14]       32,768     \n",
      "  BatchNorm2D-269    [[1, 256, 14, 14]]    [1, 256, 14, 14]        1,024     \n",
      "  BasicBlock-120     [[1, 128, 28, 28]]    [1, 256, 14, 14]          0       \n",
      "    Conv2D-272       [[1, 256, 14, 14]]    [1, 256, 14, 14]       589,824    \n",
      "  BatchNorm2D-272    [[1, 256, 14, 14]]    [1, 256, 14, 14]        1,024     \n",
      "     ReLU-129        [[1, 256, 14, 14]]    [1, 256, 14, 14]          0       \n",
      "    Conv2D-273       [[1, 256, 14, 14]]    [1, 256, 14, 14]       589,824    \n",
      "  BatchNorm2D-273    [[1, 256, 14, 14]]    [1, 256, 14, 14]        1,024     \n",
      "  BasicBlock-121     [[1, 256, 14, 14]]    [1, 256, 14, 14]          0       \n",
      "    Conv2D-274       [[1, 256, 14, 14]]    [1, 256, 14, 14]       589,824    \n",
      "  BatchNorm2D-274    [[1, 256, 14, 14]]    [1, 256, 14, 14]        1,024     \n",
      "     ReLU-130        [[1, 256, 14, 14]]    [1, 256, 14, 14]          0       \n",
      "    Conv2D-275       [[1, 256, 14, 14]]    [1, 256, 14, 14]       589,824    \n",
      "  BatchNorm2D-275    [[1, 256, 14, 14]]    [1, 256, 14, 14]        1,024     \n",
      "  BasicBlock-122     [[1, 256, 14, 14]]    [1, 256, 14, 14]          0       \n",
      "    Conv2D-276       [[1, 256, 14, 14]]    [1, 256, 14, 14]       589,824    \n",
      "  BatchNorm2D-276    [[1, 256, 14, 14]]    [1, 256, 14, 14]        1,024     \n",
      "     ReLU-131        [[1, 256, 14, 14]]    [1, 256, 14, 14]          0       \n",
      "    Conv2D-277       [[1, 256, 14, 14]]    [1, 256, 14, 14]       589,824    \n",
      "  BatchNorm2D-277    [[1, 256, 14, 14]]    [1, 256, 14, 14]        1,024     \n",
      "  BasicBlock-123     [[1, 256, 14, 14]]    [1, 256, 14, 14]          0       \n",
      "    Conv2D-278       [[1, 256, 14, 14]]    [1, 256, 14, 14]       589,824    \n",
      "  BatchNorm2D-278    [[1, 256, 14, 14]]    [1, 256, 14, 14]        1,024     \n",
      "     ReLU-132        [[1, 256, 14, 14]]    [1, 256, 14, 14]          0       \n",
      "    Conv2D-279       [[1, 256, 14, 14]]    [1, 256, 14, 14]       589,824    \n",
      "  BatchNorm2D-279    [[1, 256, 14, 14]]    [1, 256, 14, 14]        1,024     \n",
      "  BasicBlock-124     [[1, 256, 14, 14]]    [1, 256, 14, 14]          0       \n",
      "    Conv2D-280       [[1, 256, 14, 14]]    [1, 256, 14, 14]       589,824    \n",
      "  BatchNorm2D-280    [[1, 256, 14, 14]]    [1, 256, 14, 14]        1,024     \n",
      "     ReLU-133        [[1, 256, 14, 14]]    [1, 256, 14, 14]          0       \n",
      "    Conv2D-281       [[1, 256, 14, 14]]    [1, 256, 14, 14]       589,824    \n",
      "  BatchNorm2D-281    [[1, 256, 14, 14]]    [1, 256, 14, 14]        1,024     \n",
      "  BasicBlock-125     [[1, 256, 14, 14]]    [1, 256, 14, 14]          0       \n",
      "    Conv2D-283       [[1, 256, 14, 14]]     [1, 512, 7, 7]       1,179,648   \n",
      "  BatchNorm2D-283     [[1, 512, 7, 7]]      [1, 512, 7, 7]         2,048     \n",
      "     ReLU-134         [[1, 512, 7, 7]]      [1, 512, 7, 7]           0       \n",
      "    Conv2D-284        [[1, 512, 7, 7]]      [1, 512, 7, 7]       2,359,296   \n",
      "  BatchNorm2D-284     [[1, 512, 7, 7]]      [1, 512, 7, 7]         2,048     \n",
      "    Conv2D-282       [[1, 256, 14, 14]]     [1, 512, 7, 7]        131,072    \n",
      "  BatchNorm2D-282     [[1, 512, 7, 7]]      [1, 512, 7, 7]         2,048     \n",
      "  BasicBlock-126     [[1, 256, 14, 14]]     [1, 512, 7, 7]           0       \n",
      "    Conv2D-285        [[1, 512, 7, 7]]      [1, 512, 7, 7]       2,359,296   \n",
      "  BatchNorm2D-285     [[1, 512, 7, 7]]      [1, 512, 7, 7]         2,048     \n",
      "     ReLU-135         [[1, 512, 7, 7]]      [1, 512, 7, 7]           0       \n",
      "    Conv2D-286        [[1, 512, 7, 7]]      [1, 512, 7, 7]       2,359,296   \n",
      "  BatchNorm2D-286     [[1, 512, 7, 7]]      [1, 512, 7, 7]         2,048     \n",
      "  BasicBlock-127      [[1, 512, 7, 7]]      [1, 512, 7, 7]           0       \n",
      "    Conv2D-287        [[1, 512, 7, 7]]      [1, 512, 7, 7]       2,359,296   \n",
      "  BatchNorm2D-287     [[1, 512, 7, 7]]      [1, 512, 7, 7]         2,048     \n",
      "     ReLU-136         [[1, 512, 7, 7]]      [1, 512, 7, 7]           0       \n",
      "    Conv2D-288        [[1, 512, 7, 7]]      [1, 512, 7, 7]       2,359,296   \n",
      "  BatchNorm2D-288     [[1, 512, 7, 7]]      [1, 512, 7, 7]         2,048     \n",
      "  BasicBlock-128      [[1, 512, 7, 7]]      [1, 512, 7, 7]           0       \n",
      "AdaptiveAvgPool2D-8   [[1, 512, 7, 7]]      [1, 512, 1, 1]           0       \n",
      "     Linear-10           [[1, 512]]           [1, 1000]           513,000    \n",
      "===============================================================================\n",
      "Total params: 21,814,696\n",
      "Trainable params: 21,780,648\n",
      "Non-trainable params: 34,048\n",
      "-------------------------------------------------------------------------------\n",
      "Input size (MB): 0.57\n",
      "Forward/backward pass size (MB): 85.76\n",
      "Params size (MB): 83.22\n",
      "Estimated Total Size (MB): 169.55\n",
      "-------------------------------------------------------------------------------\n",
      "\n"
     ]
    },
    {
     "data": {
      "text/plain": [
       "{'total_params': 21814696, 'trainable_params': 21780648}"
      ]
     },
     "execution_count": 64,
     "metadata": {},
     "output_type": "execute_result"
    }
   ],
   "source": [
    "paddle.summary(model, (1, 3, 224, 224))"
   ]
  },
  {
   "cell_type": "code",
   "execution_count": 91,
   "metadata": {},
   "outputs": [],
   "source": [
    "totle_num = 0\n",
    "\n",
    "def _conv2d_hook(layer, inputs, output):\n",
    "    '''\n",
    "    '''\n",
    "    o = output.shape[0] * output.shape[2] * output.shape[2]   \n",
    "    k = layer.weight.numel() \n",
    "    b = 1 if layer.bias is not None else 0\n",
    "    \n",
    "    layer.op_num += o * (k + b)\n",
    "\n",
    "\n",
    "def _bn2d_hook(layer, inputs, output):\n",
    "    pass\n",
    "\n",
    "\n",
    "def _maxpool2d_hook(layer, inputs, output):\n",
    "    pass\n",
    "\n",
    "\n",
    "def _avgpool2d_hook(layer, inputs, output):\n",
    "    pass\n",
    "\n",
    "\n",
    "def _relu_hook(layer, inputs, output):\n",
    "    '''\n",
    "    '''\n",
    "    layer.op_num += inputs[0].numel()\n",
    "\n",
    "\n",
    "def _linear_hook(layer, inputs, output):\n",
    "    '''\n",
    "    '''\n",
    "    in_channels = layer.weight.shape[0]    \n",
    "    layer.op_num += in_channels * output.numel()\n",
    "\n",
    "\n",
    "hooks = {\n",
    "    paddle.nn.Conv2D : _conv2d_hook,\n",
    "    paddle.nn.ReLU : _relu_hook,\n",
    "    paddle.nn.Linear : _linear_hook,\n",
    "    paddle.nn.BatchNorm2D : _bn2d_hook,\n",
    "    \n",
    "}\n",
    "\n",
    "\n",
    "\n",
    "def register_hook(model):\n",
    "    '''\n",
    "    '''\n",
    "    for m in model.sublayers():\n",
    "        if type(m) in hooks:\n",
    "            m.register_forward_post_hook( hooks[type(m)] )\n",
    "            m.register_buffer('op_num', paddle.zeros(shape=(1, ), dtype='float32'))\n",
    "        elif type(m) in (paddle.nn.Sequential, ):\n",
    "            pass\n",
    "        else:\n",
    "            print(f'do not support {type(m)}')\n",
    "            \n",
    "    print('register done...')"
   ]
  },
  {
   "cell_type": "code",
   "execution_count": 92,
   "metadata": {},
   "outputs": [
    {
     "name": "stdout",
     "output_type": "stream",
     "text": [
      "do not support <class 'paddle.nn.layer.pooling.MaxPool2D'>\n",
      "do not support <class 'paddle.vision.models.resnet.BasicBlock'>\n",
      "do not support <class 'paddle.vision.models.resnet.BasicBlock'>\n",
      "do not support <class 'paddle.vision.models.resnet.BasicBlock'>\n",
      "do not support <class 'paddle.vision.models.resnet.BasicBlock'>\n",
      "do not support <class 'paddle.vision.models.resnet.BasicBlock'>\n",
      "do not support <class 'paddle.vision.models.resnet.BasicBlock'>\n",
      "do not support <class 'paddle.vision.models.resnet.BasicBlock'>\n",
      "do not support <class 'paddle.vision.models.resnet.BasicBlock'>\n",
      "do not support <class 'paddle.vision.models.resnet.BasicBlock'>\n",
      "do not support <class 'paddle.vision.models.resnet.BasicBlock'>\n",
      "do not support <class 'paddle.vision.models.resnet.BasicBlock'>\n",
      "do not support <class 'paddle.vision.models.resnet.BasicBlock'>\n",
      "do not support <class 'paddle.vision.models.resnet.BasicBlock'>\n",
      "do not support <class 'paddle.vision.models.resnet.BasicBlock'>\n",
      "do not support <class 'paddle.vision.models.resnet.BasicBlock'>\n",
      "do not support <class 'paddle.vision.models.resnet.BasicBlock'>\n",
      "do not support <class 'paddle.nn.layer.pooling.AdaptiveAvgPool2D'>\n",
      "register done...\n"
     ]
    }
   ],
   "source": [
    "register_hook(model)"
   ]
  },
  {
   "cell_type": "code",
   "execution_count": 93,
   "metadata": {},
   "outputs": [
    {
     "data": {
      "text/plain": [
       "[1, 1000]"
      ]
     },
     "execution_count": 93,
     "metadata": {},
     "output_type": "execute_result"
    }
   ],
   "source": [
    "model.eval()\n",
    "model(paddle.rand((1, 3, 224, 224))).shape"
   ]
  },
  {
   "cell_type": "code",
   "execution_count": 95,
   "metadata": {},
   "outputs": [
    {
     "name": "stdout",
     "output_type": "stream",
     "text": [
      "33005915136.0\n"
     ]
    }
   ],
   "source": [
    "num_total = 0\n",
    "for i, m in enumerate(model.sublayers()):\n",
    "    if hasattr(m, 'op_num'):\n",
    "        num_total += m.op_num.numpy()[0]\n",
    "\n",
    "print(num_total)"
   ]
  },
  {
   "cell_type": "code",
   "execution_count": null,
   "metadata": {},
   "outputs": [],
   "source": [
    "        \n",
    "model = paddle.nn.Sequential(backbone, neck, head, )\n",
    "# info = paddle.flops(model, [1, 3, 320, 320], print_detail=True)\n",
    "# info = paddle.flops(self.model, [1, 3, 416, 416], print_detail=True)\n",
    "# info = paddle.flops(self.model, [1, 3, 640, 640], print_detail=True)\n",
    "\n",
    "infos = []\n",
    "for s in [320, 416]:\n",
    "    print(f'--------------{s}----------------')\n",
    "    info = paddle.flops(model, [1, 3, s, s], print_detail=True)\n",
    "    infos.append(info)"
   ]
  }
 ],
 "metadata": {
  "kernelspec": {
   "display_name": "Python 3",
   "language": "python",
   "name": "python3"
  },
  "language_info": {
   "codemirror_mode": {
    "name": "ipython",
    "version": 3
   },
   "file_extension": ".py",
   "mimetype": "text/x-python",
   "name": "python",
   "nbconvert_exporter": "python",
   "pygments_lexer": "ipython3",
   "version": "3.8.5"
  }
 },
 "nbformat": 4,
 "nbformat_minor": 4
}
